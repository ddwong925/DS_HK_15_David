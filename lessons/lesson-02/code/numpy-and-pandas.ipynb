{
 "cells": [
  {
   "cell_type": "markdown",
   "metadata": {
    "focus": false,
    "id": "e2d2e96d-e50e-4d2b-9ca2-b748fec717d5",
    "slideshow": {
     "slide_type": "slide"
    }
   },
   "source": [
    "# Agenda\n",
    "* Numpy\n",
    "* Pandas\n",
    "* Lab\n"
   ]
  },
  {
   "cell_type": "markdown",
   "metadata": {
    "focus": false,
    "id": "b4120c3a-6f30-49ba-ab8f-a86e3aa3adbd",
    "slideshow": {
     "slide_type": "subslide"
    }
   },
   "source": [
    "# Introduction\n"
   ]
  },
  {
   "cell_type": "markdown",
   "metadata": {
    "focus": false,
    "id": "485a2c1b-c45a-40da-a088-d164ede434c3",
    "slideshow": {
     "slide_type": "slide"
    }
   },
   "source": [
    "## Create a new notebook for your code-along:\n",
    "\n",
    "From our submission directory, type:\n",
    "    \n",
    "    jupyter notebook\n",
    "\n",
    "From the IPython Dashboard, open a new notebook.\n",
    "Change the title to: \"Numpy and Pandas\""
   ]
  },
  {
   "cell_type": "code",
   "execution_count": 6,
   "metadata": {},
   "outputs": [
    {
     "data": {
      "text/plain": [
       "[[2, 4], [6, 8]]"
      ]
     },
     "execution_count": 6,
     "metadata": {},
     "output_type": "execute_result"
    }
   ],
   "source": [
    "my_matrix = [[1,2],[3,4]]\n",
    "for i,row in enumerate(my_matrix):\n",
    "    for j,col in enumerate(row):\n",
    "        my_matrix[i][j] = col * 2\n",
    "        \n",
    "my_matrix"
   ]
  },
  {
   "cell_type": "markdown",
   "metadata": {
    "focus": false,
    "id": "2bd62dd0-8f25-4203-8faf-9ec99b96aef2",
    "slideshow": {
     "slide_type": "slide"
    }
   },
   "source": [
    "# Introduction to Numpy\n",
    "\n",
    "* Overview\n",
    "* ndarray\n",
    "* Indexing and Slicing\n",
    "\n",
    "More info: [http://wiki.scipy.org/Tentative_NumPy_Tutorial](http://wiki.scipy.org/Tentative_NumPy_Tutorial)\n"
   ]
  },
  {
   "cell_type": "markdown",
   "metadata": {
    "focus": false,
    "id": "7db20dcb-cef2-4ae9-b44a-7b04744f74cf",
    "slideshow": {
     "slide_type": "subslide"
    }
   },
   "source": [
    "## Numpy Overview\n",
    "\n",
    "* Why Python for Data? Numpy brings *decades* of C math into Python!\n",
    "* Numpy provides a wrapper for extensive C/C++/Fortran codebases, used for data analysis functionality\n",
    "* NDAarray allows easy vectorized math and broadcasting (i.e. functions for vector elements of different shapes)"
   ]
  },
  {
   "cell_type": "code",
   "execution_count": 7,
   "metadata": {
    "collapsed": true,
    "focus": false,
    "id": "247250c7-2583-41fa-9198-6198b83fd243",
    "slideshow": {
     "slide_type": "subslide"
    }
   },
   "outputs": [],
   "source": [
    "import numpy as np"
   ]
  },
  {
   "cell_type": "markdown",
   "metadata": {
    "focus": false,
    "id": "7b1b97a1-ccb0-44a9-a0f8-12dcc590bc66",
    "slideshow": {
     "slide_type": "subslide"
    }
   },
   "source": [
    "### Creating ndarrays"
   ]
  },
  {
   "cell_type": "markdown",
   "metadata": {
    "focus": false,
    "id": "d6f83896-c0f2-4185-a528-481262fe2d91",
    "slideshow": {
     "slide_type": "fragment"
    }
   },
   "source": [
    "An array object represents a multidimensional, homogeneous array of fixed-size items. "
   ]
  },
  {
   "cell_type": "code",
   "execution_count": 8,
   "metadata": {
    "collapsed": true,
    "focus": false,
    "id": "54f9011d-2143-4bb7-81fc-e3216ac4c866",
    "slideshow": {
     "slide_type": "subslide"
    }
   },
   "outputs": [],
   "source": [
    "# Creating arrays\n",
    "a = np.zeros((3))\n",
    "b = np.ones((2,3))\n",
    "c = np.random.randint(1,10,(2,3,4))\n",
    "d = np.arange(0,11,2)"
   ]
  },
  {
   "cell_type": "markdown",
   "metadata": {
    "focus": false,
    "id": "668f00fe-00c6-4866-87a7-9293497f3a15",
    "slideshow": {
     "slide_type": "fragment"
    }
   },
   "source": [
    "What are these functions?\n",
    "\n",
    "    arange?"
   ]
  },
  {
   "cell_type": "code",
   "execution_count": 9,
   "metadata": {
    "focus": false,
    "id": "a84a1773-b477-421f-9f17-e26eb326b408",
    "slideshow": {
     "slide_type": "fragment"
    }
   },
   "outputs": [
    {
     "data": {
      "text/plain": [
       "array([ 0.,  0.,  0.])"
      ]
     },
     "execution_count": 9,
     "metadata": {},
     "output_type": "execute_result"
    }
   ],
   "source": [
    "# Note the way each array is printed:\n",
    "a"
   ]
  },
  {
   "cell_type": "code",
   "execution_count": 10,
   "metadata": {},
   "outputs": [
    {
     "data": {
      "text/plain": [
       "array([[ 1.,  1.,  1.],\n",
       "       [ 1.,  1.,  1.]])"
      ]
     },
     "execution_count": 10,
     "metadata": {},
     "output_type": "execute_result"
    }
   ],
   "source": [
    "b"
   ]
  },
  {
   "cell_type": "code",
   "execution_count": 11,
   "metadata": {},
   "outputs": [
    {
     "data": {
      "text/plain": [
       "array([[[3, 6, 3, 7],\n",
       "        [4, 1, 1, 1],\n",
       "        [9, 1, 9, 5]],\n",
       "\n",
       "       [[9, 7, 2, 1],\n",
       "        [3, 1, 5, 7],\n",
       "        [8, 1, 7, 9]]])"
      ]
     },
     "execution_count": 11,
     "metadata": {},
     "output_type": "execute_result"
    }
   ],
   "source": [
    "c"
   ]
  },
  {
   "cell_type": "code",
   "execution_count": 12,
   "metadata": {},
   "outputs": [
    {
     "data": {
      "text/plain": [
       "array([ 0,  2,  4,  6,  8, 10])"
      ]
     },
     "execution_count": 12,
     "metadata": {},
     "output_type": "execute_result"
    }
   ],
   "source": [
    "d"
   ]
  },
  {
   "cell_type": "code",
   "execution_count": 13,
   "metadata": {
    "collapsed": true,
    "focus": false,
    "id": "67c9acc2-c9a7-4636-acca-038bd99def6d",
    "slideshow": {
     "slide_type": "subslide"
    }
   },
   "outputs": [],
   "source": [
    "## Arithmetic in arrays is element wise"
   ]
  },
  {
   "cell_type": "code",
   "execution_count": 14,
   "metadata": {
    "focus": false,
    "id": "34461526-ff37-4e7d-8ff9-2f6887c10a1a",
    "slideshow": {
     "slide_type": "fragment"
    }
   },
   "outputs": [
    {
     "data": {
      "text/plain": [
       "(array([20, 30, 40, 50]), array([0, 1, 2, 3]))"
      ]
     },
     "execution_count": 14,
     "metadata": {},
     "output_type": "execute_result"
    }
   ],
   "source": [
    "a = np.array( [20,30,40,50] )\n",
    "b = np.arange( 4 )\n",
    "a,b"
   ]
  },
  {
   "cell_type": "code",
   "execution_count": 15,
   "metadata": {
    "focus": false,
    "id": "9b21c965-2734-4f09-aae0-4d344b93e681",
    "slideshow": {
     "slide_type": "fragment"
    }
   },
   "outputs": [
    {
     "data": {
      "text/plain": [
       "array([20, 29, 38, 47])"
      ]
     },
     "execution_count": 15,
     "metadata": {},
     "output_type": "execute_result"
    }
   ],
   "source": [
    "c = a-b\n",
    "c"
   ]
  },
  {
   "cell_type": "code",
   "execution_count": 16,
   "metadata": {
    "focus": false,
    "id": "03828206-43b2-445f-b54d-7ebaca5585f5",
    "slideshow": {
     "slide_type": "fragment"
    }
   },
   "outputs": [
    {
     "data": {
      "text/plain": [
       "array([0, 1, 4, 9])"
      ]
     },
     "execution_count": 16,
     "metadata": {},
     "output_type": "execute_result"
    }
   ],
   "source": [
    "b**2"
   ]
  },
  {
   "cell_type": "markdown",
   "metadata": {
    "focus": false,
    "id": "e4c29549-9a0a-420c-9f86-99a798daa288",
    "slideshow": {
     "slide_type": "subslide"
    }
   },
   "source": [
    "## Indexing, Slicing and Iterating"
   ]
  },
  {
   "cell_type": "code",
   "execution_count": 17,
   "metadata": {
    "collapsed": true,
    "focus": false,
    "id": "100e8b85-16f4-43e0-9c47-67c60e1f81ed",
    "slideshow": {
     "slide_type": "fragment"
    }
   },
   "outputs": [],
   "source": [
    "# one-dimensional arrays work like lists:\n",
    "a = np.arange(10)**2"
   ]
  },
  {
   "cell_type": "code",
   "execution_count": 18,
   "metadata": {
    "focus": false,
    "id": "26090d07-f5d6-4baa-aacc-979982af6f14",
    "slideshow": {
     "slide_type": "fragment"
    }
   },
   "outputs": [
    {
     "data": {
      "text/plain": [
       "array([ 0,  1,  4,  9, 16, 25, 36, 49, 64, 81])"
      ]
     },
     "execution_count": 18,
     "metadata": {},
     "output_type": "execute_result"
    }
   ],
   "source": [
    "a"
   ]
  },
  {
   "cell_type": "code",
   "execution_count": 19,
   "metadata": {
    "focus": false,
    "id": "8d56b369-acfc-4e82-b325-c1aba3ee35cd",
    "slideshow": {
     "slide_type": "fragment"
    }
   },
   "outputs": [
    {
     "data": {
      "text/plain": [
       "81"
      ]
     },
     "execution_count": 19,
     "metadata": {},
     "output_type": "execute_result"
    }
   ],
   "source": [
    "a[-1]"
   ]
  },
  {
   "cell_type": "code",
   "execution_count": 20,
   "metadata": {
    "collapsed": true,
    "focus": false,
    "id": "7dbe0ac8-d44b-4698-82c6-537afff33cea",
    "slideshow": {
     "slide_type": "subslide"
    }
   },
   "outputs": [],
   "source": [
    "# Multidimensional arrays use tuples with commas for indexing\n",
    "# with (row,column) conventions beginning, as always in Python, from 0"
   ]
  },
  {
   "cell_type": "code",
   "execution_count": 21,
   "metadata": {
    "focus": false,
    "id": "27ba2fb0-9c69-438f-9136-da9c2204b100",
    "slideshow": {
     "slide_type": "fragment"
    }
   },
   "outputs": [],
   "source": [
    "b = np.random.randint(1,100,(4,4))"
   ]
  },
  {
   "cell_type": "code",
   "execution_count": 22,
   "metadata": {
    "focus": false,
    "id": "845e0d23-74e7-4f8b-a6ca-cc7a8984b13b",
    "slideshow": {
     "slide_type": "fragment"
    }
   },
   "outputs": [
    {
     "data": {
      "text/plain": [
       "array([[60, 27,  8, 30],\n",
       "       [40, 39,  7, 50],\n",
       "       [88, 10, 62, 91],\n",
       "       [ 7,  1, 85, 69]])"
      ]
     },
     "execution_count": 22,
     "metadata": {},
     "output_type": "execute_result"
    }
   ],
   "source": [
    "b"
   ]
  },
  {
   "cell_type": "code",
   "execution_count": 23,
   "metadata": {},
   "outputs": [
    {
     "data": {
      "text/plain": [
       "4"
      ]
     },
     "execution_count": 23,
     "metadata": {},
     "output_type": "execute_result"
    }
   ],
   "source": [
    "len(b)"
   ]
  },
  {
   "cell_type": "code",
   "execution_count": 24,
   "metadata": {},
   "outputs": [
    {
     "name": "stdout",
     "output_type": "stream",
     "text": [
      "[60, 69, 62, 39]\n"
     ]
    }
   ],
   "source": [
    "diag = []\n",
    "for i in range(len(b)):\n",
    "    diag.append(b[-i,-i])\n",
    "print diag"
   ]
  },
  {
   "cell_type": "code",
   "execution_count": 25,
   "metadata": {},
   "outputs": [
    {
     "data": {
      "text/plain": [
       "array([[39,  7],\n",
       "       [10, 62]])"
      ]
     },
     "execution_count": 25,
     "metadata": {},
     "output_type": "execute_result"
    }
   ],
   "source": [
    "b[1:3,1:3]"
   ]
  },
  {
   "cell_type": "code",
   "execution_count": 26,
   "metadata": {
    "focus": false,
    "id": "58463e8a-312c-4ff9-970f-c8204d6dbc30",
    "slideshow": {
     "slide_type": "fragment"
    }
   },
   "outputs": [
    {
     "name": "stdout",
     "output_type": "stream",
     "text": [
      "91\n",
      "60\n"
     ]
    }
   ],
   "source": [
    "# Guess the output\n",
    "print(b[2,3])\n",
    "print(b[0,0])\n"
   ]
  },
  {
   "cell_type": "code",
   "execution_count": 27,
   "metadata": {
    "focus": false,
    "id": "77b7d441-34a9-4d52-aab7-563e966702c9",
    "slideshow": {
     "slide_type": "fragment"
    }
   },
   "outputs": [
    {
     "data": {
      "text/plain": [
       "(array([27, 39, 10]), array([27, 39, 10,  1]))"
      ]
     },
     "execution_count": 27,
     "metadata": {},
     "output_type": "execute_result"
    }
   ],
   "source": [
    "b[0:3,1],b[:,1]"
   ]
  },
  {
   "cell_type": "code",
   "execution_count": 28,
   "metadata": {},
   "outputs": [
    {
     "data": {
      "text/plain": [
       "array([[60, 27,  8, 30],\n",
       "       [40, 39,  7, 50],\n",
       "       [88, 10, 62, 91],\n",
       "       [ 7,  1, 85, 69]])"
      ]
     },
     "execution_count": 28,
     "metadata": {},
     "output_type": "execute_result"
    }
   ],
   "source": [
    "b"
   ]
  },
  {
   "cell_type": "code",
   "execution_count": 29,
   "metadata": {
    "focus": false,
    "id": "9b24506c-d8e4-4f1b-8fdb-b9c835b980c9",
    "slideshow": {
     "slide_type": "fragment"
    }
   },
   "outputs": [
    {
     "data": {
      "text/plain": [
       "array([[40, 39,  7, 50],\n",
       "       [88, 10, 62, 91]])"
      ]
     },
     "execution_count": 29,
     "metadata": {},
     "output_type": "execute_result"
    }
   ],
   "source": [
    "b[1:3,:]"
   ]
  },
  {
   "cell_type": "markdown",
   "metadata": {
    "focus": false,
    "id": "39dee2d5-b969-40d1-9bcb-9061b29c317b",
    "slideshow": {
     "slide_type": "slide"
    }
   },
   "source": [
    "# Introduction to Pandas\n",
    "\n",
    "* Object Creation\n",
    "* Viewing data\n",
    "* Selection\n",
    "* Missing data\n",
    "* Grouping\n",
    "* Reshaping\n",
    "* Time series\n",
    "* Plotting\n",
    "* i/o\n",
    " \n",
    "\n",
    "_pandas.pydata.org_"
   ]
  },
  {
   "cell_type": "markdown",
   "metadata": {
    "focus": false,
    "id": "7306e5f4-bc93-4370-9156-7ad4bb0b3662",
    "slideshow": {
     "slide_type": "slide"
    }
   },
   "source": [
    "## Pandas Overview\n",
    "\n",
    "_Source: [pandas.pydata.org](http://pandas.pydata.org/pandas-docs/stable/10min.html)_"
   ]
  },
  {
   "cell_type": "code",
   "execution_count": 30,
   "metadata": {
    "focus": false,
    "id": "25de189f-b377-4fac-896f-757f71485109",
    "slideshow": {
     "slide_type": "subslide"
    }
   },
   "outputs": [
    {
     "name": "stderr",
     "output_type": "stream",
     "text": [
      "IOPub data rate exceeded.\n",
      "The notebook server will temporarily stop sending output\n",
      "to the client in order to avoid crashing it.\n",
      "To change this limit, set the config variable\n",
      "`--NotebookApp.iopub_data_rate_limit`.\n"
     ]
    }
   ],
   "source": [
    "import pandas as pd\n",
    "import numpy as np\n",
    "import cufflinks as cf\n",
    "cf.go_offline()"
   ]
  },
  {
   "cell_type": "code",
   "execution_count": 31,
   "metadata": {
    "focus": false,
    "id": "c56e480d-bc62-4502-89ae-1b3c5f8f9c65",
    "slideshow": {
     "slide_type": "subslide"
    }
   },
   "outputs": [
    {
     "data": {
      "text/plain": [
       "DatetimeIndex(['2017-01-01', '2017-01-02', '2017-01-03', '2017-01-04',\n",
       "               '2017-01-05', '2017-01-06'],\n",
       "              dtype='datetime64[ns]', freq='D')"
      ]
     },
     "execution_count": 31,
     "metadata": {},
     "output_type": "execute_result"
    }
   ],
   "source": [
    "dates = pd.date_range('20170101',periods=6)\n",
    "dates"
   ]
  },
  {
   "cell_type": "code",
   "execution_count": 32,
   "metadata": {
    "collapsed": true
   },
   "outputs": [],
   "source": [
    "# np.random.randn(600,4)"
   ]
  },
  {
   "cell_type": "code",
   "execution_count": 33,
   "metadata": {
    "focus": false,
    "id": "c1eaf66c-b3b0-4286-b8cf-ac023341c523",
    "slideshow": {
     "slide_type": "subslide"
    }
   },
   "outputs": [
    {
     "data": {
      "text/html": [
       "<div>\n",
       "<style>\n",
       "    .dataframe thead tr:only-child th {\n",
       "        text-align: right;\n",
       "    }\n",
       "\n",
       "    .dataframe thead th {\n",
       "        text-align: left;\n",
       "    }\n",
       "\n",
       "    .dataframe tbody tr th {\n",
       "        vertical-align: top;\n",
       "    }\n",
       "</style>\n",
       "<table border=\"1\" class=\"dataframe\">\n",
       "  <thead>\n",
       "    <tr style=\"text-align: right;\">\n",
       "      <th></th>\n",
       "      <th>A</th>\n",
       "      <th>B</th>\n",
       "      <th>C</th>\n",
       "      <th>D</th>\n",
       "    </tr>\n",
       "  </thead>\n",
       "  <tbody>\n",
       "    <tr>\n",
       "      <th>2017-01-01</th>\n",
       "      <td>-0.577210</td>\n",
       "      <td>-0.032442</td>\n",
       "      <td>0.838743</td>\n",
       "      <td>-0.404661</td>\n",
       "    </tr>\n",
       "    <tr>\n",
       "      <th>2017-01-02</th>\n",
       "      <td>-0.652372</td>\n",
       "      <td>0.601515</td>\n",
       "      <td>-0.814833</td>\n",
       "      <td>-1.526990</td>\n",
       "    </tr>\n",
       "    <tr>\n",
       "      <th>2017-01-03</th>\n",
       "      <td>-0.899049</td>\n",
       "      <td>0.054533</td>\n",
       "      <td>0.226235</td>\n",
       "      <td>-1.118606</td>\n",
       "    </tr>\n",
       "    <tr>\n",
       "      <th>2017-01-04</th>\n",
       "      <td>-0.114459</td>\n",
       "      <td>-0.364977</td>\n",
       "      <td>0.126552</td>\n",
       "      <td>0.553040</td>\n",
       "    </tr>\n",
       "    <tr>\n",
       "      <th>2017-01-05</th>\n",
       "      <td>1.043032</td>\n",
       "      <td>-0.100636</td>\n",
       "      <td>0.934057</td>\n",
       "      <td>0.272236</td>\n",
       "    </tr>\n",
       "    <tr>\n",
       "      <th>2017-01-06</th>\n",
       "      <td>-1.022603</td>\n",
       "      <td>-0.439057</td>\n",
       "      <td>-0.915876</td>\n",
       "      <td>0.548895</td>\n",
       "    </tr>\n",
       "  </tbody>\n",
       "</table>\n",
       "</div>"
      ],
      "text/plain": [
       "                   A         B         C         D\n",
       "2017-01-01 -0.577210 -0.032442  0.838743 -0.404661\n",
       "2017-01-02 -0.652372  0.601515 -0.814833 -1.526990\n",
       "2017-01-03 -0.899049  0.054533  0.226235 -1.118606\n",
       "2017-01-04 -0.114459 -0.364977  0.126552  0.553040\n",
       "2017-01-05  1.043032 -0.100636  0.934057  0.272236\n",
       "2017-01-06 -1.022603 -0.439057 -0.915876  0.548895"
      ]
     },
     "execution_count": 33,
     "metadata": {},
     "output_type": "execute_result"
    }
   ],
   "source": [
    "df = pd.DataFrame(np.random.randn(6,4),index=dates,columns=list('ABCD'))\n",
    "df"
   ]
  },
  {
   "cell_type": "code",
   "execution_count": 34,
   "metadata": {
    "focus": false,
    "id": "8e7170fc-f502-45b0-b82a-bdac82dabf7e",
    "scrolled": true,
    "slideshow": {
     "slide_type": "subslide"
    }
   },
   "outputs": [
    {
     "data": {
      "text/html": [
       "<div>\n",
       "<style>\n",
       "    .dataframe thead tr:only-child th {\n",
       "        text-align: right;\n",
       "    }\n",
       "\n",
       "    .dataframe thead th {\n",
       "        text-align: left;\n",
       "    }\n",
       "\n",
       "    .dataframe tbody tr th {\n",
       "        vertical-align: top;\n",
       "    }\n",
       "</style>\n",
       "<table border=\"1\" class=\"dataframe\">\n",
       "  <thead>\n",
       "    <tr style=\"text-align: right;\">\n",
       "      <th></th>\n",
       "      <th>2017-01-01 00:00:00</th>\n",
       "      <th>2017-01-02 00:00:00</th>\n",
       "      <th>2017-01-03 00:00:00</th>\n",
       "      <th>2017-01-04 00:00:00</th>\n",
       "      <th>2017-01-05 00:00:00</th>\n",
       "      <th>2017-01-06 00:00:00</th>\n",
       "    </tr>\n",
       "  </thead>\n",
       "  <tbody>\n",
       "    <tr>\n",
       "      <th>A</th>\n",
       "      <td>-0.577210</td>\n",
       "      <td>-0.652372</td>\n",
       "      <td>-0.899049</td>\n",
       "      <td>-0.114459</td>\n",
       "      <td>1.043032</td>\n",
       "      <td>-1.022603</td>\n",
       "    </tr>\n",
       "    <tr>\n",
       "      <th>B</th>\n",
       "      <td>-0.032442</td>\n",
       "      <td>0.601515</td>\n",
       "      <td>0.054533</td>\n",
       "      <td>-0.364977</td>\n",
       "      <td>-0.100636</td>\n",
       "      <td>-0.439057</td>\n",
       "    </tr>\n",
       "    <tr>\n",
       "      <th>C</th>\n",
       "      <td>0.838743</td>\n",
       "      <td>-0.814833</td>\n",
       "      <td>0.226235</td>\n",
       "      <td>0.126552</td>\n",
       "      <td>0.934057</td>\n",
       "      <td>-0.915876</td>\n",
       "    </tr>\n",
       "    <tr>\n",
       "      <th>D</th>\n",
       "      <td>-0.404661</td>\n",
       "      <td>-1.526990</td>\n",
       "      <td>-1.118606</td>\n",
       "      <td>0.553040</td>\n",
       "      <td>0.272236</td>\n",
       "      <td>0.548895</td>\n",
       "    </tr>\n",
       "  </tbody>\n",
       "</table>\n",
       "</div>"
      ],
      "text/plain": [
       "   2017-01-01  2017-01-02  2017-01-03  2017-01-04  2017-01-05  2017-01-06\n",
       "A   -0.577210   -0.652372   -0.899049   -0.114459    1.043032   -1.022603\n",
       "B   -0.032442    0.601515    0.054533   -0.364977   -0.100636   -0.439057\n",
       "C    0.838743   -0.814833    0.226235    0.126552    0.934057   -0.915876\n",
       "D   -0.404661   -1.526990   -1.118606    0.553040    0.272236    0.548895"
      ]
     },
     "execution_count": 34,
     "metadata": {},
     "output_type": "execute_result"
    }
   ],
   "source": [
    "# Index, columns, underlying numpy data\n",
    "df = df.T\n",
    "df"
   ]
  },
  {
   "cell_type": "code",
   "execution_count": 35,
   "metadata": {},
   "outputs": [
    {
     "data": {
      "text/html": [
       "<div>\n",
       "<style>\n",
       "    .dataframe thead tr:only-child th {\n",
       "        text-align: right;\n",
       "    }\n",
       "\n",
       "    .dataframe thead th {\n",
       "        text-align: left;\n",
       "    }\n",
       "\n",
       "    .dataframe tbody tr th {\n",
       "        vertical-align: top;\n",
       "    }\n",
       "</style>\n",
       "<table border=\"1\" class=\"dataframe\">\n",
       "  <thead>\n",
       "    <tr style=\"text-align: right;\">\n",
       "      <th></th>\n",
       "      <th>A</th>\n",
       "      <th>B</th>\n",
       "      <th>C</th>\n",
       "      <th>D</th>\n",
       "    </tr>\n",
       "  </thead>\n",
       "  <tbody>\n",
       "    <tr>\n",
       "      <th>2017-01-01</th>\n",
       "      <td>-0.577210</td>\n",
       "      <td>-0.032442</td>\n",
       "      <td>0.838743</td>\n",
       "      <td>-0.404661</td>\n",
       "    </tr>\n",
       "    <tr>\n",
       "      <th>2017-01-02</th>\n",
       "      <td>-0.652372</td>\n",
       "      <td>0.601515</td>\n",
       "      <td>-0.814833</td>\n",
       "      <td>-1.526990</td>\n",
       "    </tr>\n",
       "    <tr>\n",
       "      <th>2017-01-03</th>\n",
       "      <td>-0.899049</td>\n",
       "      <td>0.054533</td>\n",
       "      <td>0.226235</td>\n",
       "      <td>-1.118606</td>\n",
       "    </tr>\n",
       "    <tr>\n",
       "      <th>2017-01-04</th>\n",
       "      <td>-0.114459</td>\n",
       "      <td>-0.364977</td>\n",
       "      <td>0.126552</td>\n",
       "      <td>0.553040</td>\n",
       "    </tr>\n",
       "    <tr>\n",
       "      <th>2017-01-05</th>\n",
       "      <td>1.043032</td>\n",
       "      <td>-0.100636</td>\n",
       "      <td>0.934057</td>\n",
       "      <td>0.272236</td>\n",
       "    </tr>\n",
       "    <tr>\n",
       "      <th>2017-01-06</th>\n",
       "      <td>-1.022603</td>\n",
       "      <td>-0.439057</td>\n",
       "      <td>-0.915876</td>\n",
       "      <td>0.548895</td>\n",
       "    </tr>\n",
       "  </tbody>\n",
       "</table>\n",
       "</div>"
      ],
      "text/plain": [
       "                   A         B         C         D\n",
       "2017-01-01 -0.577210 -0.032442  0.838743 -0.404661\n",
       "2017-01-02 -0.652372  0.601515 -0.814833 -1.526990\n",
       "2017-01-03 -0.899049  0.054533  0.226235 -1.118606\n",
       "2017-01-04 -0.114459 -0.364977  0.126552  0.553040\n",
       "2017-01-05  1.043032 -0.100636  0.934057  0.272236\n",
       "2017-01-06 -1.022603 -0.439057 -0.915876  0.548895"
      ]
     },
     "execution_count": 35,
     "metadata": {},
     "output_type": "execute_result"
    }
   ],
   "source": [
    "# Index, columns, underlying numpy data\n",
    "df = df.T\n",
    "df"
   ]
  },
  {
   "cell_type": "code",
   "execution_count": 36,
   "metadata": {
    "focus": false,
    "id": "0c3d9fa3-7522-4e18-8be5-74661547954f",
    "slideshow": {
     "slide_type": "subslide"
    }
   },
   "outputs": [
    {
     "data": {
      "text/html": [
       "<div>\n",
       "<style>\n",
       "    .dataframe thead tr:only-child th {\n",
       "        text-align: right;\n",
       "    }\n",
       "\n",
       "    .dataframe thead th {\n",
       "        text-align: left;\n",
       "    }\n",
       "\n",
       "    .dataframe tbody tr th {\n",
       "        vertical-align: top;\n",
       "    }\n",
       "</style>\n",
       "<table border=\"1\" class=\"dataframe\">\n",
       "  <thead>\n",
       "    <tr style=\"text-align: right;\">\n",
       "      <th></th>\n",
       "      <th>A</th>\n",
       "      <th>B</th>\n",
       "      <th>C</th>\n",
       "      <th>D</th>\n",
       "      <th>E</th>\n",
       "    </tr>\n",
       "  </thead>\n",
       "  <tbody>\n",
       "    <tr>\n",
       "      <th>0</th>\n",
       "      <td>1.0</td>\n",
       "      <td>2013-01-02</td>\n",
       "      <td>1.0</td>\n",
       "      <td>3</td>\n",
       "      <td>foo</td>\n",
       "    </tr>\n",
       "    <tr>\n",
       "      <th>1</th>\n",
       "      <td>1.0</td>\n",
       "      <td>2013-01-02</td>\n",
       "      <td>1.0</td>\n",
       "      <td>3</td>\n",
       "      <td>foo</td>\n",
       "    </tr>\n",
       "    <tr>\n",
       "      <th>2</th>\n",
       "      <td>1.0</td>\n",
       "      <td>2013-01-02</td>\n",
       "      <td>1.0</td>\n",
       "      <td>3</td>\n",
       "      <td>foo</td>\n",
       "    </tr>\n",
       "    <tr>\n",
       "      <th>3</th>\n",
       "      <td>1.0</td>\n",
       "      <td>2013-01-02</td>\n",
       "      <td>1.0</td>\n",
       "      <td>3</td>\n",
       "      <td>foo</td>\n",
       "    </tr>\n",
       "  </tbody>\n",
       "</table>\n",
       "</div>"
      ],
      "text/plain": [
       "     A          B    C  D    E\n",
       "0  1.0 2013-01-02  1.0  3  foo\n",
       "1  1.0 2013-01-02  1.0  3  foo\n",
       "2  1.0 2013-01-02  1.0  3  foo\n",
       "3  1.0 2013-01-02  1.0  3  foo"
      ]
     },
     "execution_count": 36,
     "metadata": {},
     "output_type": "execute_result"
    }
   ],
   "source": [
    "df2 = pd.DataFrame({ 'A' : 1.,\n",
    "                         'B' : pd.Timestamp('20130102'),\n",
    "                         'C' : pd.Series(1,index=list(range(4)),dtype='float32'),\n",
    "                         'D' : np.array([3] * 4,dtype='int32'),\n",
    "                         'E' : 'foo' })\n",
    "    \n",
    "\n",
    "df2"
   ]
  },
  {
   "cell_type": "code",
   "execution_count": 37,
   "metadata": {
    "focus": false,
    "id": "4c3d6e0a-6a4f-48dd-87c8-71d94577f429",
    "slideshow": {
     "slide_type": "subslide"
    }
   },
   "outputs": [
    {
     "data": {
      "text/plain": [
       "A           float64\n",
       "B    datetime64[ns]\n",
       "C           float32\n",
       "D             int32\n",
       "E            object\n",
       "dtype: object"
      ]
     },
     "execution_count": 37,
     "metadata": {},
     "output_type": "execute_result"
    }
   ],
   "source": [
    "# With specific dtypes\n",
    "df2.dtypes"
   ]
  },
  {
   "cell_type": "markdown",
   "metadata": {
    "focus": false,
    "id": "2792318e-6f4c-4ae8-a937-1964456f91f8",
    "slideshow": {
     "slide_type": "slide"
    }
   },
   "source": [
    "#### Viewing Data"
   ]
  },
  {
   "cell_type": "code",
   "execution_count": 38,
   "metadata": {
    "focus": false,
    "id": "dee84a01-9e14-4996-a334-502fd8234ad4",
    "slideshow": {
     "slide_type": "subslide"
    }
   },
   "outputs": [
    {
     "data": {
      "text/html": [
       "<div>\n",
       "<style>\n",
       "    .dataframe thead tr:only-child th {\n",
       "        text-align: right;\n",
       "    }\n",
       "\n",
       "    .dataframe thead th {\n",
       "        text-align: left;\n",
       "    }\n",
       "\n",
       "    .dataframe tbody tr th {\n",
       "        vertical-align: top;\n",
       "    }\n",
       "</style>\n",
       "<table border=\"1\" class=\"dataframe\">\n",
       "  <thead>\n",
       "    <tr style=\"text-align: right;\">\n",
       "      <th></th>\n",
       "      <th>A</th>\n",
       "      <th>B</th>\n",
       "      <th>C</th>\n",
       "      <th>D</th>\n",
       "    </tr>\n",
       "  </thead>\n",
       "  <tbody>\n",
       "    <tr>\n",
       "      <th>2017-01-01</th>\n",
       "      <td>-0.577210</td>\n",
       "      <td>-0.032442</td>\n",
       "      <td>0.838743</td>\n",
       "      <td>-0.404661</td>\n",
       "    </tr>\n",
       "    <tr>\n",
       "      <th>2017-01-02</th>\n",
       "      <td>-0.652372</td>\n",
       "      <td>0.601515</td>\n",
       "      <td>-0.814833</td>\n",
       "      <td>-1.526990</td>\n",
       "    </tr>\n",
       "    <tr>\n",
       "      <th>2017-01-03</th>\n",
       "      <td>-0.899049</td>\n",
       "      <td>0.054533</td>\n",
       "      <td>0.226235</td>\n",
       "      <td>-1.118606</td>\n",
       "    </tr>\n",
       "    <tr>\n",
       "      <th>2017-01-04</th>\n",
       "      <td>-0.114459</td>\n",
       "      <td>-0.364977</td>\n",
       "      <td>0.126552</td>\n",
       "      <td>0.553040</td>\n",
       "    </tr>\n",
       "    <tr>\n",
       "      <th>2017-01-05</th>\n",
       "      <td>1.043032</td>\n",
       "      <td>-0.100636</td>\n",
       "      <td>0.934057</td>\n",
       "      <td>0.272236</td>\n",
       "    </tr>\n",
       "  </tbody>\n",
       "</table>\n",
       "</div>"
      ],
      "text/plain": [
       "                   A         B         C         D\n",
       "2017-01-01 -0.577210 -0.032442  0.838743 -0.404661\n",
       "2017-01-02 -0.652372  0.601515 -0.814833 -1.526990\n",
       "2017-01-03 -0.899049  0.054533  0.226235 -1.118606\n",
       "2017-01-04 -0.114459 -0.364977  0.126552  0.553040\n",
       "2017-01-05  1.043032 -0.100636  0.934057  0.272236"
      ]
     },
     "execution_count": 38,
     "metadata": {},
     "output_type": "execute_result"
    }
   ],
   "source": [
    "df.head()"
   ]
  },
  {
   "cell_type": "code",
   "execution_count": 39,
   "metadata": {
    "focus": false,
    "id": "791189f7-053a-44bd-b13c-2c6ba2cb4df5",
    "slideshow": {
     "slide_type": "fragment"
    }
   },
   "outputs": [
    {
     "data": {
      "text/html": [
       "<div>\n",
       "<style>\n",
       "    .dataframe thead tr:only-child th {\n",
       "        text-align: right;\n",
       "    }\n",
       "\n",
       "    .dataframe thead th {\n",
       "        text-align: left;\n",
       "    }\n",
       "\n",
       "    .dataframe tbody tr th {\n",
       "        vertical-align: top;\n",
       "    }\n",
       "</style>\n",
       "<table border=\"1\" class=\"dataframe\">\n",
       "  <thead>\n",
       "    <tr style=\"text-align: right;\">\n",
       "      <th></th>\n",
       "      <th>A</th>\n",
       "      <th>B</th>\n",
       "      <th>C</th>\n",
       "      <th>D</th>\n",
       "    </tr>\n",
       "  </thead>\n",
       "  <tbody>\n",
       "    <tr>\n",
       "      <th>2017-01-02</th>\n",
       "      <td>-0.652372</td>\n",
       "      <td>0.601515</td>\n",
       "      <td>-0.814833</td>\n",
       "      <td>-1.526990</td>\n",
       "    </tr>\n",
       "    <tr>\n",
       "      <th>2017-01-03</th>\n",
       "      <td>-0.899049</td>\n",
       "      <td>0.054533</td>\n",
       "      <td>0.226235</td>\n",
       "      <td>-1.118606</td>\n",
       "    </tr>\n",
       "    <tr>\n",
       "      <th>2017-01-04</th>\n",
       "      <td>-0.114459</td>\n",
       "      <td>-0.364977</td>\n",
       "      <td>0.126552</td>\n",
       "      <td>0.553040</td>\n",
       "    </tr>\n",
       "    <tr>\n",
       "      <th>2017-01-05</th>\n",
       "      <td>1.043032</td>\n",
       "      <td>-0.100636</td>\n",
       "      <td>0.934057</td>\n",
       "      <td>0.272236</td>\n",
       "    </tr>\n",
       "    <tr>\n",
       "      <th>2017-01-06</th>\n",
       "      <td>-1.022603</td>\n",
       "      <td>-0.439057</td>\n",
       "      <td>-0.915876</td>\n",
       "      <td>0.548895</td>\n",
       "    </tr>\n",
       "  </tbody>\n",
       "</table>\n",
       "</div>"
      ],
      "text/plain": [
       "                   A         B         C         D\n",
       "2017-01-02 -0.652372  0.601515 -0.814833 -1.526990\n",
       "2017-01-03 -0.899049  0.054533  0.226235 -1.118606\n",
       "2017-01-04 -0.114459 -0.364977  0.126552  0.553040\n",
       "2017-01-05  1.043032 -0.100636  0.934057  0.272236\n",
       "2017-01-06 -1.022603 -0.439057 -0.915876  0.548895"
      ]
     },
     "execution_count": 39,
     "metadata": {},
     "output_type": "execute_result"
    }
   ],
   "source": [
    "df.tail()"
   ]
  },
  {
   "cell_type": "code",
   "execution_count": 40,
   "metadata": {
    "focus": false,
    "id": "fc1c8091-670a-4f81-9d6f-158958c3b413",
    "slideshow": {
     "slide_type": "subslide"
    }
   },
   "outputs": [
    {
     "data": {
      "text/plain": [
       "DatetimeIndex(['2017-01-01', '2017-01-02', '2017-01-03', '2017-01-04',\n",
       "               '2017-01-05', '2017-01-06'],\n",
       "              dtype='datetime64[ns]', freq='D')"
      ]
     },
     "execution_count": 40,
     "metadata": {},
     "output_type": "execute_result"
    }
   ],
   "source": [
    "df.index"
   ]
  },
  {
   "cell_type": "code",
   "execution_count": 41,
   "metadata": {
    "focus": false,
    "id": "337688a9-1ab9-4909-80c8-159cec177b2e",
    "slideshow": {
     "slide_type": "subslide"
    }
   },
   "outputs": [
    {
     "data": {
      "text/html": [
       "<div>\n",
       "<style>\n",
       "    .dataframe thead tr:only-child th {\n",
       "        text-align: right;\n",
       "    }\n",
       "\n",
       "    .dataframe thead th {\n",
       "        text-align: left;\n",
       "    }\n",
       "\n",
       "    .dataframe tbody tr th {\n",
       "        vertical-align: top;\n",
       "    }\n",
       "</style>\n",
       "<table border=\"1\" class=\"dataframe\">\n",
       "  <thead>\n",
       "    <tr style=\"text-align: right;\">\n",
       "      <th></th>\n",
       "      <th>A</th>\n",
       "      <th>B</th>\n",
       "      <th>C</th>\n",
       "      <th>D</th>\n",
       "    </tr>\n",
       "  </thead>\n",
       "  <tbody>\n",
       "    <tr>\n",
       "      <th>count</th>\n",
       "      <td>6.000000</td>\n",
       "      <td>6.000000</td>\n",
       "      <td>6.000000</td>\n",
       "      <td>6.000000</td>\n",
       "    </tr>\n",
       "    <tr>\n",
       "      <th>mean</th>\n",
       "      <td>-0.370444</td>\n",
       "      <td>-0.046844</td>\n",
       "      <td>0.065813</td>\n",
       "      <td>-0.279348</td>\n",
       "    </tr>\n",
       "    <tr>\n",
       "      <th>std</th>\n",
       "      <td>0.760317</td>\n",
       "      <td>0.371157</td>\n",
       "      <td>0.789930</td>\n",
       "      <td>0.889918</td>\n",
       "    </tr>\n",
       "    <tr>\n",
       "      <th>min</th>\n",
       "      <td>-1.022603</td>\n",
       "      <td>-0.439057</td>\n",
       "      <td>-0.915876</td>\n",
       "      <td>-1.526990</td>\n",
       "    </tr>\n",
       "    <tr>\n",
       "      <th>25%</th>\n",
       "      <td>-0.837380</td>\n",
       "      <td>-0.298892</td>\n",
       "      <td>-0.579487</td>\n",
       "      <td>-0.940120</td>\n",
       "    </tr>\n",
       "    <tr>\n",
       "      <th>50%</th>\n",
       "      <td>-0.614791</td>\n",
       "      <td>-0.066539</td>\n",
       "      <td>0.176394</td>\n",
       "      <td>-0.066212</td>\n",
       "    </tr>\n",
       "    <tr>\n",
       "      <th>75%</th>\n",
       "      <td>-0.230147</td>\n",
       "      <td>0.032789</td>\n",
       "      <td>0.685616</td>\n",
       "      <td>0.479730</td>\n",
       "    </tr>\n",
       "    <tr>\n",
       "      <th>max</th>\n",
       "      <td>1.043032</td>\n",
       "      <td>0.601515</td>\n",
       "      <td>0.934057</td>\n",
       "      <td>0.553040</td>\n",
       "    </tr>\n",
       "  </tbody>\n",
       "</table>\n",
       "</div>"
      ],
      "text/plain": [
       "              A         B         C         D\n",
       "count  6.000000  6.000000  6.000000  6.000000\n",
       "mean  -0.370444 -0.046844  0.065813 -0.279348\n",
       "std    0.760317  0.371157  0.789930  0.889918\n",
       "min   -1.022603 -0.439057 -0.915876 -1.526990\n",
       "25%   -0.837380 -0.298892 -0.579487 -0.940120\n",
       "50%   -0.614791 -0.066539  0.176394 -0.066212\n",
       "75%   -0.230147  0.032789  0.685616  0.479730\n",
       "max    1.043032  0.601515  0.934057  0.553040"
      ]
     },
     "execution_count": 41,
     "metadata": {},
     "output_type": "execute_result"
    }
   ],
   "source": [
    "df.describe()"
   ]
  },
  {
   "cell_type": "code",
   "execution_count": 42,
   "metadata": {
    "focus": false,
    "id": "29c9b7a6-9d06-4f3b-b9d5-6ebc09cd561f",
    "slideshow": {
     "slide_type": "subslide"
    }
   },
   "outputs": [
    {
     "data": {
      "text/html": [
       "<div>\n",
       "<style>\n",
       "    .dataframe thead tr:only-child th {\n",
       "        text-align: right;\n",
       "    }\n",
       "\n",
       "    .dataframe thead th {\n",
       "        text-align: left;\n",
       "    }\n",
       "\n",
       "    .dataframe tbody tr th {\n",
       "        vertical-align: top;\n",
       "    }\n",
       "</style>\n",
       "<table border=\"1\" class=\"dataframe\">\n",
       "  <thead>\n",
       "    <tr style=\"text-align: right;\">\n",
       "      <th></th>\n",
       "      <th>A</th>\n",
       "      <th>B</th>\n",
       "      <th>C</th>\n",
       "      <th>D</th>\n",
       "    </tr>\n",
       "  </thead>\n",
       "  <tbody>\n",
       "    <tr>\n",
       "      <th>2017-01-02</th>\n",
       "      <td>-0.652372</td>\n",
       "      <td>0.601515</td>\n",
       "      <td>-0.814833</td>\n",
       "      <td>-1.526990</td>\n",
       "    </tr>\n",
       "    <tr>\n",
       "      <th>2017-01-03</th>\n",
       "      <td>-0.899049</td>\n",
       "      <td>0.054533</td>\n",
       "      <td>0.226235</td>\n",
       "      <td>-1.118606</td>\n",
       "    </tr>\n",
       "    <tr>\n",
       "      <th>2017-01-01</th>\n",
       "      <td>-0.577210</td>\n",
       "      <td>-0.032442</td>\n",
       "      <td>0.838743</td>\n",
       "      <td>-0.404661</td>\n",
       "    </tr>\n",
       "    <tr>\n",
       "      <th>2017-01-05</th>\n",
       "      <td>1.043032</td>\n",
       "      <td>-0.100636</td>\n",
       "      <td>0.934057</td>\n",
       "      <td>0.272236</td>\n",
       "    </tr>\n",
       "    <tr>\n",
       "      <th>2017-01-04</th>\n",
       "      <td>-0.114459</td>\n",
       "      <td>-0.364977</td>\n",
       "      <td>0.126552</td>\n",
       "      <td>0.553040</td>\n",
       "    </tr>\n",
       "    <tr>\n",
       "      <th>2017-01-06</th>\n",
       "      <td>-1.022603</td>\n",
       "      <td>-0.439057</td>\n",
       "      <td>-0.915876</td>\n",
       "      <td>0.548895</td>\n",
       "    </tr>\n",
       "  </tbody>\n",
       "</table>\n",
       "</div>"
      ],
      "text/plain": [
       "                   A         B         C         D\n",
       "2017-01-02 -0.652372  0.601515 -0.814833 -1.526990\n",
       "2017-01-03 -0.899049  0.054533  0.226235 -1.118606\n",
       "2017-01-01 -0.577210 -0.032442  0.838743 -0.404661\n",
       "2017-01-05  1.043032 -0.100636  0.934057  0.272236\n",
       "2017-01-04 -0.114459 -0.364977  0.126552  0.553040\n",
       "2017-01-06 -1.022603 -0.439057 -0.915876  0.548895"
      ]
     },
     "execution_count": 42,
     "metadata": {},
     "output_type": "execute_result"
    }
   ],
   "source": [
    "df.sort_values(by='B', ascending=False)"
   ]
  },
  {
   "cell_type": "markdown",
   "metadata": {
    "focus": false,
    "id": "1440616a-c3e7-4b5c-aec3-3705d76429cd",
    "slideshow": {
     "slide_type": "slide"
    }
   },
   "source": [
    "### Selection"
   ]
  },
  {
   "cell_type": "code",
   "execution_count": 43,
   "metadata": {
    "focus": false,
    "id": "7825e53c-bd40-4027-9581-42d8f5aafa93",
    "slideshow": {
     "slide_type": "subslide"
    }
   },
   "outputs": [
    {
     "data": {
      "text/html": [
       "<div>\n",
       "<style>\n",
       "    .dataframe thead tr:only-child th {\n",
       "        text-align: right;\n",
       "    }\n",
       "\n",
       "    .dataframe thead th {\n",
       "        text-align: left;\n",
       "    }\n",
       "\n",
       "    .dataframe tbody tr th {\n",
       "        vertical-align: top;\n",
       "    }\n",
       "</style>\n",
       "<table border=\"1\" class=\"dataframe\">\n",
       "  <thead>\n",
       "    <tr style=\"text-align: right;\">\n",
       "      <th></th>\n",
       "      <th>A</th>\n",
       "      <th>B</th>\n",
       "    </tr>\n",
       "  </thead>\n",
       "  <tbody>\n",
       "    <tr>\n",
       "      <th>2017-01-01</th>\n",
       "      <td>-0.577210</td>\n",
       "      <td>-0.032442</td>\n",
       "    </tr>\n",
       "    <tr>\n",
       "      <th>2017-01-02</th>\n",
       "      <td>-0.652372</td>\n",
       "      <td>0.601515</td>\n",
       "    </tr>\n",
       "    <tr>\n",
       "      <th>2017-01-03</th>\n",
       "      <td>-0.899049</td>\n",
       "      <td>0.054533</td>\n",
       "    </tr>\n",
       "    <tr>\n",
       "      <th>2017-01-04</th>\n",
       "      <td>-0.114459</td>\n",
       "      <td>-0.364977</td>\n",
       "    </tr>\n",
       "    <tr>\n",
       "      <th>2017-01-05</th>\n",
       "      <td>1.043032</td>\n",
       "      <td>-0.100636</td>\n",
       "    </tr>\n",
       "    <tr>\n",
       "      <th>2017-01-06</th>\n",
       "      <td>-1.022603</td>\n",
       "      <td>-0.439057</td>\n",
       "    </tr>\n",
       "  </tbody>\n",
       "</table>\n",
       "</div>"
      ],
      "text/plain": [
       "                   A         B\n",
       "2017-01-01 -0.577210 -0.032442\n",
       "2017-01-02 -0.652372  0.601515\n",
       "2017-01-03 -0.899049  0.054533\n",
       "2017-01-04 -0.114459 -0.364977\n",
       "2017-01-05  1.043032 -0.100636\n",
       "2017-01-06 -1.022603 -0.439057"
      ]
     },
     "execution_count": 43,
     "metadata": {},
     "output_type": "execute_result"
    }
   ],
   "source": [
    "df[ ['A','B'] ]"
   ]
  },
  {
   "cell_type": "code",
   "execution_count": 44,
   "metadata": {
    "focus": false,
    "id": "817868ae-d7df-425b-9368-e1b3c86a21d1",
    "slideshow": {
     "slide_type": "subslide"
    }
   },
   "outputs": [
    {
     "data": {
      "text/html": [
       "<div>\n",
       "<style>\n",
       "    .dataframe thead tr:only-child th {\n",
       "        text-align: right;\n",
       "    }\n",
       "\n",
       "    .dataframe thead th {\n",
       "        text-align: left;\n",
       "    }\n",
       "\n",
       "    .dataframe tbody tr th {\n",
       "        vertical-align: top;\n",
       "    }\n",
       "</style>\n",
       "<table border=\"1\" class=\"dataframe\">\n",
       "  <thead>\n",
       "    <tr style=\"text-align: right;\">\n",
       "      <th></th>\n",
       "      <th>A</th>\n",
       "      <th>B</th>\n",
       "      <th>C</th>\n",
       "      <th>D</th>\n",
       "    </tr>\n",
       "  </thead>\n",
       "  <tbody>\n",
       "    <tr>\n",
       "      <th>2017-01-01</th>\n",
       "      <td>-0.577210</td>\n",
       "      <td>-0.032442</td>\n",
       "      <td>0.838743</td>\n",
       "      <td>-0.404661</td>\n",
       "    </tr>\n",
       "    <tr>\n",
       "      <th>2017-01-02</th>\n",
       "      <td>-0.652372</td>\n",
       "      <td>0.601515</td>\n",
       "      <td>-0.814833</td>\n",
       "      <td>-1.526990</td>\n",
       "    </tr>\n",
       "    <tr>\n",
       "      <th>2017-01-03</th>\n",
       "      <td>-0.899049</td>\n",
       "      <td>0.054533</td>\n",
       "      <td>0.226235</td>\n",
       "      <td>-1.118606</td>\n",
       "    </tr>\n",
       "    <tr>\n",
       "      <th>2017-01-04</th>\n",
       "      <td>-0.114459</td>\n",
       "      <td>-0.364977</td>\n",
       "      <td>0.126552</td>\n",
       "      <td>0.553040</td>\n",
       "    </tr>\n",
       "    <tr>\n",
       "      <th>2017-01-05</th>\n",
       "      <td>1.043032</td>\n",
       "      <td>-0.100636</td>\n",
       "      <td>0.934057</td>\n",
       "      <td>0.272236</td>\n",
       "    </tr>\n",
       "    <tr>\n",
       "      <th>2017-01-06</th>\n",
       "      <td>-1.022603</td>\n",
       "      <td>-0.439057</td>\n",
       "      <td>-0.915876</td>\n",
       "      <td>0.548895</td>\n",
       "    </tr>\n",
       "  </tbody>\n",
       "</table>\n",
       "</div>"
      ],
      "text/plain": [
       "                   A         B         C         D\n",
       "2017-01-01 -0.577210 -0.032442  0.838743 -0.404661\n",
       "2017-01-02 -0.652372  0.601515 -0.814833 -1.526990\n",
       "2017-01-03 -0.899049  0.054533  0.226235 -1.118606\n",
       "2017-01-04 -0.114459 -0.364977  0.126552  0.553040\n",
       "2017-01-05  1.043032 -0.100636  0.934057  0.272236\n",
       "2017-01-06 -1.022603 -0.439057 -0.915876  0.548895"
      ]
     },
     "execution_count": 44,
     "metadata": {},
     "output_type": "execute_result"
    }
   ],
   "source": [
    "df[:]"
   ]
  },
  {
   "cell_type": "code",
   "execution_count": 45,
   "metadata": {
    "focus": false,
    "id": "dcf6444e-ae7d-4058-abb0-5046d16733d2",
    "slideshow": {
     "slide_type": "subslide"
    }
   },
   "outputs": [
    {
     "name": "stdout",
     "output_type": "stream",
     "text": [
      "2017-01-01 00:00:00\n"
     ]
    },
    {
     "data": {
      "text/plain": [
       "A   -0.577210\n",
       "B   -0.032442\n",
       "C    0.838743\n",
       "D   -0.404661\n",
       "Name: 2017-01-01 00:00:00, dtype: float64"
      ]
     },
     "execution_count": 45,
     "metadata": {},
     "output_type": "execute_result"
    }
   ],
   "source": [
    "# By label\n",
    "print dates[0]\n",
    "df.loc[dates[0]]"
   ]
  },
  {
   "cell_type": "code",
   "execution_count": 46,
   "metadata": {
    "focus": false,
    "id": "da51e123-4546-4c14-bdcc-969751f1991e",
    "slideshow": {
     "slide_type": "fragment"
    }
   },
   "outputs": [
    {
     "data": {
      "text/html": [
       "<div>\n",
       "<style>\n",
       "    .dataframe thead tr:only-child th {\n",
       "        text-align: right;\n",
       "    }\n",
       "\n",
       "    .dataframe thead th {\n",
       "        text-align: left;\n",
       "    }\n",
       "\n",
       "    .dataframe tbody tr th {\n",
       "        vertical-align: top;\n",
       "    }\n",
       "</style>\n",
       "<table border=\"1\" class=\"dataframe\">\n",
       "  <thead>\n",
       "    <tr style=\"text-align: right;\">\n",
       "      <th></th>\n",
       "      <th>A</th>\n",
       "      <th>B</th>\n",
       "    </tr>\n",
       "  </thead>\n",
       "  <tbody>\n",
       "    <tr>\n",
       "      <th>2017-01-01</th>\n",
       "      <td>-0.577210</td>\n",
       "      <td>-0.032442</td>\n",
       "    </tr>\n",
       "    <tr>\n",
       "      <th>2017-01-02</th>\n",
       "      <td>-0.652372</td>\n",
       "      <td>0.601515</td>\n",
       "    </tr>\n",
       "    <tr>\n",
       "      <th>2017-01-03</th>\n",
       "      <td>-0.899049</td>\n",
       "      <td>0.054533</td>\n",
       "    </tr>\n",
       "    <tr>\n",
       "      <th>2017-01-04</th>\n",
       "      <td>-0.114459</td>\n",
       "      <td>-0.364977</td>\n",
       "    </tr>\n",
       "    <tr>\n",
       "      <th>2017-01-05</th>\n",
       "      <td>1.043032</td>\n",
       "      <td>-0.100636</td>\n",
       "    </tr>\n",
       "    <tr>\n",
       "      <th>2017-01-06</th>\n",
       "      <td>-1.022603</td>\n",
       "      <td>-0.439057</td>\n",
       "    </tr>\n",
       "  </tbody>\n",
       "</table>\n",
       "</div>"
      ],
      "text/plain": [
       "                   A         B\n",
       "2017-01-01 -0.577210 -0.032442\n",
       "2017-01-02 -0.652372  0.601515\n",
       "2017-01-03 -0.899049  0.054533\n",
       "2017-01-04 -0.114459 -0.364977\n",
       "2017-01-05  1.043032 -0.100636\n",
       "2017-01-06 -1.022603 -0.439057"
      ]
     },
     "execution_count": 46,
     "metadata": {},
     "output_type": "execute_result"
    }
   ],
   "source": [
    "# multi-axis by label\n",
    "df.loc[:,['A','B']]"
   ]
  },
  {
   "cell_type": "code",
   "execution_count": 47,
   "metadata": {
    "focus": false,
    "id": "e3e52e42-a7f3-4298-80ae-d4554764b9fe",
    "slideshow": {
     "slide_type": "fragment"
    }
   },
   "outputs": [
    {
     "data": {
      "text/html": [
       "<div>\n",
       "<style>\n",
       "    .dataframe thead tr:only-child th {\n",
       "        text-align: right;\n",
       "    }\n",
       "\n",
       "    .dataframe thead th {\n",
       "        text-align: left;\n",
       "    }\n",
       "\n",
       "    .dataframe tbody tr th {\n",
       "        vertical-align: top;\n",
       "    }\n",
       "</style>\n",
       "<table border=\"1\" class=\"dataframe\">\n",
       "  <thead>\n",
       "    <tr style=\"text-align: right;\">\n",
       "      <th></th>\n",
       "      <th>B</th>\n",
       "    </tr>\n",
       "  </thead>\n",
       "  <tbody>\n",
       "    <tr>\n",
       "      <th>2017-01-02</th>\n",
       "      <td>0.601515</td>\n",
       "    </tr>\n",
       "    <tr>\n",
       "      <th>2017-01-03</th>\n",
       "      <td>0.054533</td>\n",
       "    </tr>\n",
       "    <tr>\n",
       "      <th>2017-01-04</th>\n",
       "      <td>-0.364977</td>\n",
       "    </tr>\n",
       "  </tbody>\n",
       "</table>\n",
       "</div>"
      ],
      "text/plain": [
       "                   B\n",
       "2017-01-02  0.601515\n",
       "2017-01-03  0.054533\n",
       "2017-01-04 -0.364977"
      ]
     },
     "execution_count": 47,
     "metadata": {},
     "output_type": "execute_result"
    }
   ],
   "source": [
    "# Date Range\n",
    "df.loc['20170102':'20170104',['B']]"
   ]
  },
  {
   "cell_type": "code",
   "execution_count": 48,
   "metadata": {
    "focus": false,
    "id": "6ec7d13c-1a41-4358-bbd3-742f6253b497",
    "slideshow": {
     "slide_type": "fragment"
    }
   },
   "outputs": [
    {
     "data": {
      "text/plain": [
       "0.60151452080654644"
      ]
     },
     "execution_count": 48,
     "metadata": {},
     "output_type": "execute_result"
    }
   ],
   "source": [
    "# Fast access to scalar\n",
    "df.at[dates[1],'B']"
   ]
  },
  {
   "cell_type": "code",
   "execution_count": 49,
   "metadata": {
    "focus": false,
    "id": "42f70279-ecea-4460-872c-95949b247caf",
    "slideshow": {
     "slide_type": "fragment"
    }
   },
   "outputs": [
    {
     "data": {
      "text/html": [
       "<div>\n",
       "<style>\n",
       "    .dataframe thead tr:only-child th {\n",
       "        text-align: right;\n",
       "    }\n",
       "\n",
       "    .dataframe thead th {\n",
       "        text-align: left;\n",
       "    }\n",
       "\n",
       "    .dataframe tbody tr th {\n",
       "        vertical-align: top;\n",
       "    }\n",
       "</style>\n",
       "<table border=\"1\" class=\"dataframe\">\n",
       "  <thead>\n",
       "    <tr style=\"text-align: right;\">\n",
       "      <th></th>\n",
       "      <th>B</th>\n",
       "      <th>C</th>\n",
       "    </tr>\n",
       "  </thead>\n",
       "  <tbody>\n",
       "    <tr>\n",
       "      <th>2017-01-04</th>\n",
       "      <td>-0.364977</td>\n",
       "      <td>0.126552</td>\n",
       "    </tr>\n",
       "    <tr>\n",
       "      <th>2017-01-05</th>\n",
       "      <td>-0.100636</td>\n",
       "      <td>0.934057</td>\n",
       "    </tr>\n",
       "    <tr>\n",
       "      <th>2017-01-06</th>\n",
       "      <td>-0.439057</td>\n",
       "      <td>-0.915876</td>\n",
       "    </tr>\n",
       "  </tbody>\n",
       "</table>\n",
       "</div>"
      ],
      "text/plain": [
       "                   B         C\n",
       "2017-01-04 -0.364977  0.126552\n",
       "2017-01-05 -0.100636  0.934057\n",
       "2017-01-06 -0.439057 -0.915876"
      ]
     },
     "execution_count": 49,
     "metadata": {},
     "output_type": "execute_result"
    }
   ],
   "source": [
    "# iloc provides integer locations similar to np style\n",
    "df.iloc[3:10, 1:3]"
   ]
  },
  {
   "cell_type": "markdown",
   "metadata": {
    "focus": false,
    "id": "16735d8f-3712-42a2-bd0e-8cd141fbe232",
    "slideshow": {
     "slide_type": "subslide"
    }
   },
   "source": [
    "### Boolean Indexing"
   ]
  },
  {
   "cell_type": "code",
   "execution_count": 50,
   "metadata": {},
   "outputs": [
    {
     "data": {
      "text/plain": [
       "2017-01-01   -0.577210\n",
       "2017-01-02   -0.652372\n",
       "2017-01-03   -0.899049\n",
       "2017-01-04   -0.114459\n",
       "2017-01-05    1.043032\n",
       "2017-01-06   -1.022603\n",
       "Freq: D, Name: A, dtype: float64"
      ]
     },
     "execution_count": 50,
     "metadata": {},
     "output_type": "execute_result"
    }
   ],
   "source": [
    "df.A"
   ]
  },
  {
   "cell_type": "code",
   "execution_count": 51,
   "metadata": {
    "focus": false,
    "id": "a0af5955-c7e0-4d83-aea2-1972b21b8974",
    "slideshow": {
     "slide_type": "fragment"
    }
   },
   "outputs": [
    {
     "data": {
      "text/html": [
       "<div>\n",
       "<style>\n",
       "    .dataframe thead tr:only-child th {\n",
       "        text-align: right;\n",
       "    }\n",
       "\n",
       "    .dataframe thead th {\n",
       "        text-align: left;\n",
       "    }\n",
       "\n",
       "    .dataframe tbody tr th {\n",
       "        vertical-align: top;\n",
       "    }\n",
       "</style>\n",
       "<table border=\"1\" class=\"dataframe\">\n",
       "  <thead>\n",
       "    <tr style=\"text-align: right;\">\n",
       "      <th></th>\n",
       "      <th>A</th>\n",
       "      <th>B</th>\n",
       "      <th>C</th>\n",
       "      <th>D</th>\n",
       "    </tr>\n",
       "  </thead>\n",
       "  <tbody>\n",
       "    <tr>\n",
       "      <th>2017-01-01</th>\n",
       "      <td>-0.577210</td>\n",
       "      <td>-0.032442</td>\n",
       "      <td>0.838743</td>\n",
       "      <td>-0.404661</td>\n",
       "    </tr>\n",
       "    <tr>\n",
       "      <th>2017-01-02</th>\n",
       "      <td>-0.652372</td>\n",
       "      <td>0.601515</td>\n",
       "      <td>-0.814833</td>\n",
       "      <td>-1.526990</td>\n",
       "    </tr>\n",
       "    <tr>\n",
       "      <th>2017-01-03</th>\n",
       "      <td>-0.899049</td>\n",
       "      <td>0.054533</td>\n",
       "      <td>0.226235</td>\n",
       "      <td>-1.118606</td>\n",
       "    </tr>\n",
       "    <tr>\n",
       "      <th>2017-01-04</th>\n",
       "      <td>-0.114459</td>\n",
       "      <td>-0.364977</td>\n",
       "      <td>0.126552</td>\n",
       "      <td>0.553040</td>\n",
       "    </tr>\n",
       "    <tr>\n",
       "      <th>2017-01-06</th>\n",
       "      <td>-1.022603</td>\n",
       "      <td>-0.439057</td>\n",
       "      <td>-0.915876</td>\n",
       "      <td>0.548895</td>\n",
       "    </tr>\n",
       "  </tbody>\n",
       "</table>\n",
       "</div>"
      ],
      "text/plain": [
       "                   A         B         C         D\n",
       "2017-01-01 -0.577210 -0.032442  0.838743 -0.404661\n",
       "2017-01-02 -0.652372  0.601515 -0.814833 -1.526990\n",
       "2017-01-03 -0.899049  0.054533  0.226235 -1.118606\n",
       "2017-01-04 -0.114459 -0.364977  0.126552  0.553040\n",
       "2017-01-06 -1.022603 -0.439057 -0.915876  0.548895"
      ]
     },
     "execution_count": 51,
     "metadata": {},
     "output_type": "execute_result"
    }
   ],
   "source": [
    "df[df.A < 0] # Basically a 'where' operation"
   ]
  },
  {
   "cell_type": "markdown",
   "metadata": {
    "focus": false,
    "id": "c22c86db-8892-4337-b70f-5e849ee63daa",
    "slideshow": {
     "slide_type": "subslide"
    }
   },
   "source": [
    "### Setting"
   ]
  },
  {
   "cell_type": "code",
   "execution_count": 52,
   "metadata": {
    "collapsed": true,
    "focus": false,
    "id": "8d65e283-2ba8-43c1-ba16-e69da80b51b9",
    "slideshow": {
     "slide_type": "fragment"
    }
   },
   "outputs": [],
   "source": [
    "df_posA = df.copy() # Without \"copy\" it would act on the dataset\n",
    "\n",
    "df_posA[df_posA.A < 0] = -1*df_posA"
   ]
  },
  {
   "cell_type": "code",
   "execution_count": 53,
   "metadata": {
    "focus": false,
    "id": "ce51651b-1c4a-4a02-8e84-6a938c5c7a4c",
    "slideshow": {
     "slide_type": "fragment"
    }
   },
   "outputs": [
    {
     "data": {
      "text/html": [
       "<div>\n",
       "<style>\n",
       "    .dataframe thead tr:only-child th {\n",
       "        text-align: right;\n",
       "    }\n",
       "\n",
       "    .dataframe thead th {\n",
       "        text-align: left;\n",
       "    }\n",
       "\n",
       "    .dataframe tbody tr th {\n",
       "        vertical-align: top;\n",
       "    }\n",
       "</style>\n",
       "<table border=\"1\" class=\"dataframe\">\n",
       "  <thead>\n",
       "    <tr style=\"text-align: right;\">\n",
       "      <th></th>\n",
       "      <th>A</th>\n",
       "      <th>B</th>\n",
       "      <th>C</th>\n",
       "      <th>D</th>\n",
       "    </tr>\n",
       "  </thead>\n",
       "  <tbody>\n",
       "    <tr>\n",
       "      <th>2017-01-01</th>\n",
       "      <td>0.577210</td>\n",
       "      <td>0.032442</td>\n",
       "      <td>-0.838743</td>\n",
       "      <td>0.404661</td>\n",
       "    </tr>\n",
       "    <tr>\n",
       "      <th>2017-01-02</th>\n",
       "      <td>0.652372</td>\n",
       "      <td>-0.601515</td>\n",
       "      <td>0.814833</td>\n",
       "      <td>1.526990</td>\n",
       "    </tr>\n",
       "    <tr>\n",
       "      <th>2017-01-03</th>\n",
       "      <td>0.899049</td>\n",
       "      <td>-0.054533</td>\n",
       "      <td>-0.226235</td>\n",
       "      <td>1.118606</td>\n",
       "    </tr>\n",
       "    <tr>\n",
       "      <th>2017-01-04</th>\n",
       "      <td>0.114459</td>\n",
       "      <td>0.364977</td>\n",
       "      <td>-0.126552</td>\n",
       "      <td>-0.553040</td>\n",
       "    </tr>\n",
       "    <tr>\n",
       "      <th>2017-01-05</th>\n",
       "      <td>1.043032</td>\n",
       "      <td>-0.100636</td>\n",
       "      <td>0.934057</td>\n",
       "      <td>0.272236</td>\n",
       "    </tr>\n",
       "    <tr>\n",
       "      <th>2017-01-06</th>\n",
       "      <td>1.022603</td>\n",
       "      <td>0.439057</td>\n",
       "      <td>0.915876</td>\n",
       "      <td>-0.548895</td>\n",
       "    </tr>\n",
       "  </tbody>\n",
       "</table>\n",
       "</div>"
      ],
      "text/plain": [
       "                   A         B         C         D\n",
       "2017-01-01  0.577210  0.032442 -0.838743  0.404661\n",
       "2017-01-02  0.652372 -0.601515  0.814833  1.526990\n",
       "2017-01-03  0.899049 -0.054533 -0.226235  1.118606\n",
       "2017-01-04  0.114459  0.364977 -0.126552 -0.553040\n",
       "2017-01-05  1.043032 -0.100636  0.934057  0.272236\n",
       "2017-01-06  1.022603  0.439057  0.915876 -0.548895"
      ]
     },
     "execution_count": 53,
     "metadata": {},
     "output_type": "execute_result"
    }
   ],
   "source": [
    "df_posA"
   ]
  },
  {
   "cell_type": "code",
   "execution_count": 54,
   "metadata": {
    "collapsed": true,
    "focus": false,
    "id": "f45e9be0-2c20-4d49-b167-911f076a00b2",
    "slideshow": {
     "slide_type": "subslide"
    }
   },
   "outputs": [],
   "source": [
    "#Setting new column aligns data by index\n",
    "s1 = pd.Series([1,2,3,4,5,6],index=pd.date_range('17170102',periods=6))"
   ]
  },
  {
   "cell_type": "code",
   "execution_count": 55,
   "metadata": {
    "focus": false,
    "id": "12df6591-5940-4198-a7f9-9f7563afc75b",
    "slideshow": {
     "slide_type": "fragment"
    }
   },
   "outputs": [
    {
     "data": {
      "text/plain": [
       "1717-01-02 00:00:00    1\n",
       "1717-01-03 00:00:00    2\n",
       "1717-01-04 00:00:00    3\n",
       "1717-01-05 00:00:00    4\n",
       "1717-01-06 00:00:00    5\n",
       "1717-01-07 00:00:00    6\n",
       "Freq: D, dtype: int64"
      ]
     },
     "execution_count": 55,
     "metadata": {},
     "output_type": "execute_result"
    }
   ],
   "source": [
    "s1"
   ]
  },
  {
   "cell_type": "code",
   "execution_count": 56,
   "metadata": {
    "collapsed": true,
    "focus": false,
    "id": "7281af7b-395f-417b-aa07-c53a26591fc7",
    "slideshow": {
     "slide_type": "fragment"
    }
   },
   "outputs": [],
   "source": [
    "df['F'] = s1"
   ]
  },
  {
   "cell_type": "code",
   "execution_count": 57,
   "metadata": {
    "focus": false,
    "id": "d41dfe6d-025f-4078-a33b-3e7e0ea0d1dc",
    "slideshow": {
     "slide_type": "fragment"
    }
   },
   "outputs": [
    {
     "data": {
      "text/html": [
       "<div>\n",
       "<style>\n",
       "    .dataframe thead tr:only-child th {\n",
       "        text-align: right;\n",
       "    }\n",
       "\n",
       "    .dataframe thead th {\n",
       "        text-align: left;\n",
       "    }\n",
       "\n",
       "    .dataframe tbody tr th {\n",
       "        vertical-align: top;\n",
       "    }\n",
       "</style>\n",
       "<table border=\"1\" class=\"dataframe\">\n",
       "  <thead>\n",
       "    <tr style=\"text-align: right;\">\n",
       "      <th></th>\n",
       "      <th>A</th>\n",
       "      <th>B</th>\n",
       "      <th>C</th>\n",
       "      <th>D</th>\n",
       "      <th>F</th>\n",
       "    </tr>\n",
       "  </thead>\n",
       "  <tbody>\n",
       "    <tr>\n",
       "      <th>2017-01-01</th>\n",
       "      <td>-0.577210</td>\n",
       "      <td>-0.032442</td>\n",
       "      <td>0.838743</td>\n",
       "      <td>-0.404661</td>\n",
       "      <td>NaN</td>\n",
       "    </tr>\n",
       "    <tr>\n",
       "      <th>2017-01-02</th>\n",
       "      <td>-0.652372</td>\n",
       "      <td>0.601515</td>\n",
       "      <td>-0.814833</td>\n",
       "      <td>-1.526990</td>\n",
       "      <td>NaN</td>\n",
       "    </tr>\n",
       "    <tr>\n",
       "      <th>2017-01-03</th>\n",
       "      <td>-0.899049</td>\n",
       "      <td>0.054533</td>\n",
       "      <td>0.226235</td>\n",
       "      <td>-1.118606</td>\n",
       "      <td>NaN</td>\n",
       "    </tr>\n",
       "    <tr>\n",
       "      <th>2017-01-04</th>\n",
       "      <td>-0.114459</td>\n",
       "      <td>-0.364977</td>\n",
       "      <td>0.126552</td>\n",
       "      <td>0.553040</td>\n",
       "      <td>NaN</td>\n",
       "    </tr>\n",
       "    <tr>\n",
       "      <th>2017-01-05</th>\n",
       "      <td>1.043032</td>\n",
       "      <td>-0.100636</td>\n",
       "      <td>0.934057</td>\n",
       "      <td>0.272236</td>\n",
       "      <td>NaN</td>\n",
       "    </tr>\n",
       "    <tr>\n",
       "      <th>2017-01-06</th>\n",
       "      <td>-1.022603</td>\n",
       "      <td>-0.439057</td>\n",
       "      <td>-0.915876</td>\n",
       "      <td>0.548895</td>\n",
       "      <td>NaN</td>\n",
       "    </tr>\n",
       "  </tbody>\n",
       "</table>\n",
       "</div>"
      ],
      "text/plain": [
       "                   A         B         C         D   F\n",
       "2017-01-01 -0.577210 -0.032442  0.838743 -0.404661 NaN\n",
       "2017-01-02 -0.652372  0.601515 -0.814833 -1.526990 NaN\n",
       "2017-01-03 -0.899049  0.054533  0.226235 -1.118606 NaN\n",
       "2017-01-04 -0.114459 -0.364977  0.126552  0.553040 NaN\n",
       "2017-01-05  1.043032 -0.100636  0.934057  0.272236 NaN\n",
       "2017-01-06 -1.022603 -0.439057 -0.915876  0.548895 NaN"
      ]
     },
     "execution_count": 57,
     "metadata": {},
     "output_type": "execute_result"
    }
   ],
   "source": [
    "df"
   ]
  },
  {
   "cell_type": "markdown",
   "metadata": {
    "focus": false,
    "id": "203fd0e7-9ad9-4dcc-8167-72bd28e7a029",
    "slideshow": {
     "slide_type": "slide"
    }
   },
   "source": [
    "### Missing Data"
   ]
  },
  {
   "cell_type": "code",
   "execution_count": 58,
   "metadata": {
    "collapsed": true,
    "focus": false,
    "id": "98b7be6a-8d81-4c29-9439-2b5c5fae1dce",
    "slideshow": {
     "slide_type": "subslide"
    }
   },
   "outputs": [],
   "source": [
    "# Add a column with missing data\n",
    "df1 = df.reindex(index=dates[0:4],columns=list(df.columns) + ['E'])"
   ]
  },
  {
   "cell_type": "code",
   "execution_count": 59,
   "metadata": {
    "collapsed": true,
    "focus": false,
    "id": "e13067da-23ce-440f-9e0d-693e4e5565c2",
    "slideshow": {
     "slide_type": "subslide"
    }
   },
   "outputs": [],
   "source": [
    "df1.loc[dates[0]:dates[1],'E'] = 1"
   ]
  },
  {
   "cell_type": "code",
   "execution_count": 60,
   "metadata": {
    "focus": false,
    "id": "24e2f95e-75dc-42ed-93fb-8fae3e9623a6",
    "slideshow": {
     "slide_type": "fragment"
    }
   },
   "outputs": [
    {
     "data": {
      "text/html": [
       "<div>\n",
       "<style>\n",
       "    .dataframe thead tr:only-child th {\n",
       "        text-align: right;\n",
       "    }\n",
       "\n",
       "    .dataframe thead th {\n",
       "        text-align: left;\n",
       "    }\n",
       "\n",
       "    .dataframe tbody tr th {\n",
       "        vertical-align: top;\n",
       "    }\n",
       "</style>\n",
       "<table border=\"1\" class=\"dataframe\">\n",
       "  <thead>\n",
       "    <tr style=\"text-align: right;\">\n",
       "      <th></th>\n",
       "      <th>A</th>\n",
       "      <th>B</th>\n",
       "      <th>C</th>\n",
       "      <th>D</th>\n",
       "      <th>F</th>\n",
       "      <th>E</th>\n",
       "    </tr>\n",
       "  </thead>\n",
       "  <tbody>\n",
       "    <tr>\n",
       "      <th>2017-01-01</th>\n",
       "      <td>-0.577210</td>\n",
       "      <td>-0.032442</td>\n",
       "      <td>0.838743</td>\n",
       "      <td>-0.404661</td>\n",
       "      <td>NaN</td>\n",
       "      <td>1.0</td>\n",
       "    </tr>\n",
       "    <tr>\n",
       "      <th>2017-01-02</th>\n",
       "      <td>-0.652372</td>\n",
       "      <td>0.601515</td>\n",
       "      <td>-0.814833</td>\n",
       "      <td>-1.526990</td>\n",
       "      <td>NaN</td>\n",
       "      <td>1.0</td>\n",
       "    </tr>\n",
       "    <tr>\n",
       "      <th>2017-01-03</th>\n",
       "      <td>-0.899049</td>\n",
       "      <td>0.054533</td>\n",
       "      <td>0.226235</td>\n",
       "      <td>-1.118606</td>\n",
       "      <td>NaN</td>\n",
       "      <td>NaN</td>\n",
       "    </tr>\n",
       "    <tr>\n",
       "      <th>2017-01-04</th>\n",
       "      <td>-0.114459</td>\n",
       "      <td>-0.364977</td>\n",
       "      <td>0.126552</td>\n",
       "      <td>0.553040</td>\n",
       "      <td>NaN</td>\n",
       "      <td>NaN</td>\n",
       "    </tr>\n",
       "  </tbody>\n",
       "</table>\n",
       "</div>"
      ],
      "text/plain": [
       "                   A         B         C         D   F    E\n",
       "2017-01-01 -0.577210 -0.032442  0.838743 -0.404661 NaN  1.0\n",
       "2017-01-02 -0.652372  0.601515 -0.814833 -1.526990 NaN  1.0\n",
       "2017-01-03 -0.899049  0.054533  0.226235 -1.118606 NaN  NaN\n",
       "2017-01-04 -0.114459 -0.364977  0.126552  0.553040 NaN  NaN"
      ]
     },
     "execution_count": 60,
     "metadata": {},
     "output_type": "execute_result"
    }
   ],
   "source": [
    "df1"
   ]
  },
  {
   "cell_type": "code",
   "execution_count": 61,
   "metadata": {
    "focus": false,
    "id": "3521940b-df04-432a-9cfc-18a1353d9652",
    "slideshow": {
     "slide_type": "subslide"
    }
   },
   "outputs": [
    {
     "data": {
      "text/plain": [
       "A    0\n",
       "B    0\n",
       "C    0\n",
       "D    0\n",
       "F    4\n",
       "E    2\n",
       "dtype: int64"
      ]
     },
     "execution_count": 61,
     "metadata": {},
     "output_type": "execute_result"
    }
   ],
   "source": [
    "# find where values are null\n",
    "pd.isnull(df1).sum()"
   ]
  },
  {
   "cell_type": "markdown",
   "metadata": {
    "focus": false,
    "id": "74c34377-4b13-4562-9ef5-35ab50ee0a52",
    "slideshow": {
     "slide_type": "slide"
    }
   },
   "source": [
    "### Operations"
   ]
  },
  {
   "cell_type": "code",
   "execution_count": 62,
   "metadata": {
    "focus": false,
    "id": "98905902-a6d4-4935-ac8e-f2cb95e123e9",
    "slideshow": {
     "slide_type": "subslide"
    }
   },
   "outputs": [
    {
     "data": {
      "text/html": [
       "<div>\n",
       "<style>\n",
       "    .dataframe thead tr:only-child th {\n",
       "        text-align: right;\n",
       "    }\n",
       "\n",
       "    .dataframe thead th {\n",
       "        text-align: left;\n",
       "    }\n",
       "\n",
       "    .dataframe tbody tr th {\n",
       "        vertical-align: top;\n",
       "    }\n",
       "</style>\n",
       "<table border=\"1\" class=\"dataframe\">\n",
       "  <thead>\n",
       "    <tr style=\"text-align: right;\">\n",
       "      <th></th>\n",
       "      <th>A</th>\n",
       "      <th>B</th>\n",
       "      <th>C</th>\n",
       "      <th>D</th>\n",
       "      <th>F</th>\n",
       "    </tr>\n",
       "  </thead>\n",
       "  <tbody>\n",
       "    <tr>\n",
       "      <th>count</th>\n",
       "      <td>6.000000</td>\n",
       "      <td>6.000000</td>\n",
       "      <td>6.000000</td>\n",
       "      <td>6.000000</td>\n",
       "      <td>0.0</td>\n",
       "    </tr>\n",
       "    <tr>\n",
       "      <th>mean</th>\n",
       "      <td>-0.370444</td>\n",
       "      <td>-0.046844</td>\n",
       "      <td>0.065813</td>\n",
       "      <td>-0.279348</td>\n",
       "      <td>NaN</td>\n",
       "    </tr>\n",
       "    <tr>\n",
       "      <th>std</th>\n",
       "      <td>0.760317</td>\n",
       "      <td>0.371157</td>\n",
       "      <td>0.789930</td>\n",
       "      <td>0.889918</td>\n",
       "      <td>NaN</td>\n",
       "    </tr>\n",
       "    <tr>\n",
       "      <th>min</th>\n",
       "      <td>-1.022603</td>\n",
       "      <td>-0.439057</td>\n",
       "      <td>-0.915876</td>\n",
       "      <td>-1.526990</td>\n",
       "      <td>NaN</td>\n",
       "    </tr>\n",
       "    <tr>\n",
       "      <th>25%</th>\n",
       "      <td>-0.837380</td>\n",
       "      <td>-0.298892</td>\n",
       "      <td>-0.579487</td>\n",
       "      <td>-0.940120</td>\n",
       "      <td>NaN</td>\n",
       "    </tr>\n",
       "    <tr>\n",
       "      <th>50%</th>\n",
       "      <td>-0.614791</td>\n",
       "      <td>-0.066539</td>\n",
       "      <td>0.176394</td>\n",
       "      <td>-0.066212</td>\n",
       "      <td>NaN</td>\n",
       "    </tr>\n",
       "    <tr>\n",
       "      <th>75%</th>\n",
       "      <td>-0.230147</td>\n",
       "      <td>0.032789</td>\n",
       "      <td>0.685616</td>\n",
       "      <td>0.479730</td>\n",
       "      <td>NaN</td>\n",
       "    </tr>\n",
       "    <tr>\n",
       "      <th>max</th>\n",
       "      <td>1.043032</td>\n",
       "      <td>0.601515</td>\n",
       "      <td>0.934057</td>\n",
       "      <td>0.553040</td>\n",
       "      <td>NaN</td>\n",
       "    </tr>\n",
       "  </tbody>\n",
       "</table>\n",
       "</div>"
      ],
      "text/plain": [
       "              A         B         C         D    F\n",
       "count  6.000000  6.000000  6.000000  6.000000  0.0\n",
       "mean  -0.370444 -0.046844  0.065813 -0.279348  NaN\n",
       "std    0.760317  0.371157  0.789930  0.889918  NaN\n",
       "min   -1.022603 -0.439057 -0.915876 -1.526990  NaN\n",
       "25%   -0.837380 -0.298892 -0.579487 -0.940120  NaN\n",
       "50%   -0.614791 -0.066539  0.176394 -0.066212  NaN\n",
       "75%   -0.230147  0.032789  0.685616  0.479730  NaN\n",
       "max    1.043032  0.601515  0.934057  0.553040  NaN"
      ]
     },
     "execution_count": 62,
     "metadata": {},
     "output_type": "execute_result"
    }
   ],
   "source": [
    "df.describe()"
   ]
  },
  {
   "cell_type": "code",
   "execution_count": 63,
   "metadata": {
    "focus": false,
    "id": "372219c5-5800-4502-83de-ac91bacb6cdb",
    "slideshow": {
     "slide_type": "subslide"
    }
   },
   "outputs": [
    {
     "data": {
      "text/plain": [
       "(A   -1.022603\n",
       " B   -0.439057\n",
       " C   -0.915876\n",
       " D   -1.526990\n",
       " F         NaN\n",
       " dtype: float64, 2017-01-01   -0.577210\n",
       " 2017-01-02   -1.526990\n",
       " 2017-01-03   -1.118606\n",
       " 2017-01-04   -0.364977\n",
       " 2017-01-05   -0.100636\n",
       " 2017-01-06   -1.022603\n",
       " Freq: D, dtype: float64)"
      ]
     },
     "execution_count": 63,
     "metadata": {},
     "output_type": "execute_result"
    }
   ],
   "source": [
    "df.min(),df.min(1) # Operation on two different axes"
   ]
  },
  {
   "cell_type": "markdown",
   "metadata": {
    "focus": false,
    "id": "aefd18b0-3fc6-4b15-bd6f-dd18136547a1",
    "slideshow": {
     "slide_type": "slide"
    }
   },
   "source": [
    "### Applying functions"
   ]
  },
  {
   "cell_type": "code",
   "execution_count": 64,
   "metadata": {
    "focus": false,
    "id": "1b4b693d-27fe-4eb4-8aa4-4b2a4c27a1a2",
    "slideshow": {
     "slide_type": "subslide"
    }
   },
   "outputs": [
    {
     "data": {
      "text/html": [
       "<div>\n",
       "<style>\n",
       "    .dataframe thead tr:only-child th {\n",
       "        text-align: right;\n",
       "    }\n",
       "\n",
       "    .dataframe thead th {\n",
       "        text-align: left;\n",
       "    }\n",
       "\n",
       "    .dataframe tbody tr th {\n",
       "        vertical-align: top;\n",
       "    }\n",
       "</style>\n",
       "<table border=\"1\" class=\"dataframe\">\n",
       "  <thead>\n",
       "    <tr style=\"text-align: right;\">\n",
       "      <th></th>\n",
       "      <th>A</th>\n",
       "      <th>B</th>\n",
       "      <th>C</th>\n",
       "      <th>D</th>\n",
       "      <th>F</th>\n",
       "    </tr>\n",
       "  </thead>\n",
       "  <tbody>\n",
       "    <tr>\n",
       "      <th>2017-01-01</th>\n",
       "      <td>-0.577210</td>\n",
       "      <td>-0.032442</td>\n",
       "      <td>0.838743</td>\n",
       "      <td>-0.404661</td>\n",
       "      <td>NaN</td>\n",
       "    </tr>\n",
       "    <tr>\n",
       "      <th>2017-01-02</th>\n",
       "      <td>-0.652372</td>\n",
       "      <td>0.601515</td>\n",
       "      <td>-0.814833</td>\n",
       "      <td>-1.526990</td>\n",
       "      <td>NaN</td>\n",
       "    </tr>\n",
       "    <tr>\n",
       "      <th>2017-01-03</th>\n",
       "      <td>-0.899049</td>\n",
       "      <td>0.054533</td>\n",
       "      <td>0.226235</td>\n",
       "      <td>-1.118606</td>\n",
       "      <td>NaN</td>\n",
       "    </tr>\n",
       "    <tr>\n",
       "      <th>2017-01-04</th>\n",
       "      <td>-0.114459</td>\n",
       "      <td>-0.364977</td>\n",
       "      <td>0.126552</td>\n",
       "      <td>0.553040</td>\n",
       "      <td>NaN</td>\n",
       "    </tr>\n",
       "    <tr>\n",
       "      <th>2017-01-05</th>\n",
       "      <td>1.043032</td>\n",
       "      <td>-0.100636</td>\n",
       "      <td>0.934057</td>\n",
       "      <td>0.272236</td>\n",
       "      <td>NaN</td>\n",
       "    </tr>\n",
       "    <tr>\n",
       "      <th>2017-01-06</th>\n",
       "      <td>-1.022603</td>\n",
       "      <td>-0.439057</td>\n",
       "      <td>-0.915876</td>\n",
       "      <td>0.548895</td>\n",
       "      <td>NaN</td>\n",
       "    </tr>\n",
       "  </tbody>\n",
       "</table>\n",
       "</div>"
      ],
      "text/plain": [
       "                   A         B         C         D   F\n",
       "2017-01-01 -0.577210 -0.032442  0.838743 -0.404661 NaN\n",
       "2017-01-02 -0.652372  0.601515 -0.814833 -1.526990 NaN\n",
       "2017-01-03 -0.899049  0.054533  0.226235 -1.118606 NaN\n",
       "2017-01-04 -0.114459 -0.364977  0.126552  0.553040 NaN\n",
       "2017-01-05  1.043032 -0.100636  0.934057  0.272236 NaN\n",
       "2017-01-06 -1.022603 -0.439057 -0.915876  0.548895 NaN"
      ]
     },
     "execution_count": 64,
     "metadata": {},
     "output_type": "execute_result"
    }
   ],
   "source": [
    "df"
   ]
  },
  {
   "cell_type": "code",
   "execution_count": 65,
   "metadata": {
    "focus": false,
    "id": "acb5d0e0-b6f8-4dc3-8f42-e2ca34a6aa67",
    "slideshow": {
     "slide_type": "fragment"
    }
   },
   "outputs": [
    {
     "data": {
      "text/html": [
       "<div>\n",
       "<style>\n",
       "    .dataframe thead tr:only-child th {\n",
       "        text-align: right;\n",
       "    }\n",
       "\n",
       "    .dataframe thead th {\n",
       "        text-align: left;\n",
       "    }\n",
       "\n",
       "    .dataframe tbody tr th {\n",
       "        vertical-align: top;\n",
       "    }\n",
       "</style>\n",
       "<table border=\"1\" class=\"dataframe\">\n",
       "  <thead>\n",
       "    <tr style=\"text-align: right;\">\n",
       "      <th></th>\n",
       "      <th>A</th>\n",
       "      <th>B</th>\n",
       "      <th>C</th>\n",
       "      <th>D</th>\n",
       "      <th>F</th>\n",
       "    </tr>\n",
       "  </thead>\n",
       "  <tbody>\n",
       "    <tr>\n",
       "      <th>2017-01-01</th>\n",
       "      <td>-0.577210</td>\n",
       "      <td>-0.032442</td>\n",
       "      <td>0.838743</td>\n",
       "      <td>-0.404661</td>\n",
       "      <td>NaN</td>\n",
       "    </tr>\n",
       "    <tr>\n",
       "      <th>2017-01-02</th>\n",
       "      <td>-1.229583</td>\n",
       "      <td>0.569073</td>\n",
       "      <td>0.023910</td>\n",
       "      <td>-1.931650</td>\n",
       "      <td>NaN</td>\n",
       "    </tr>\n",
       "    <tr>\n",
       "      <th>2017-01-03</th>\n",
       "      <td>-2.128632</td>\n",
       "      <td>0.623605</td>\n",
       "      <td>0.250145</td>\n",
       "      <td>-3.050256</td>\n",
       "      <td>NaN</td>\n",
       "    </tr>\n",
       "    <tr>\n",
       "      <th>2017-01-04</th>\n",
       "      <td>-2.243091</td>\n",
       "      <td>0.258628</td>\n",
       "      <td>0.376697</td>\n",
       "      <td>-2.497217</td>\n",
       "      <td>NaN</td>\n",
       "    </tr>\n",
       "    <tr>\n",
       "      <th>2017-01-05</th>\n",
       "      <td>-1.200059</td>\n",
       "      <td>0.157992</td>\n",
       "      <td>1.310754</td>\n",
       "      <td>-2.224980</td>\n",
       "      <td>NaN</td>\n",
       "    </tr>\n",
       "    <tr>\n",
       "      <th>2017-01-06</th>\n",
       "      <td>-2.222662</td>\n",
       "      <td>-0.281065</td>\n",
       "      <td>0.394877</td>\n",
       "      <td>-1.676086</td>\n",
       "      <td>NaN</td>\n",
       "    </tr>\n",
       "  </tbody>\n",
       "</table>\n",
       "</div>"
      ],
      "text/plain": [
       "                   A         B         C         D   F\n",
       "2017-01-01 -0.577210 -0.032442  0.838743 -0.404661 NaN\n",
       "2017-01-02 -1.229583  0.569073  0.023910 -1.931650 NaN\n",
       "2017-01-03 -2.128632  0.623605  0.250145 -3.050256 NaN\n",
       "2017-01-04 -2.243091  0.258628  0.376697 -2.497217 NaN\n",
       "2017-01-05 -1.200059  0.157992  1.310754 -2.224980 NaN\n",
       "2017-01-06 -2.222662 -0.281065  0.394877 -1.676086 NaN"
      ]
     },
     "execution_count": 65,
     "metadata": {},
     "output_type": "execute_result"
    }
   ],
   "source": [
    "df.apply(np.cumsum)"
   ]
  },
  {
   "cell_type": "code",
   "execution_count": 66,
   "metadata": {
    "focus": false,
    "id": "76608f05-bac8-4938-b1c5-efa228fcbb7b",
    "slideshow": {
     "slide_type": "fragment"
    }
   },
   "outputs": [
    {
     "data": {
      "text/plain": [
       "A    2.065635\n",
       "B    1.040571\n",
       "C    1.849933\n",
       "D    2.080030\n",
       "F         NaN\n",
       "dtype: float64"
      ]
     },
     "execution_count": 66,
     "metadata": {},
     "output_type": "execute_result"
    }
   ],
   "source": [
    "df.apply(lambda x: x.max() - x.min())"
   ]
  },
  {
   "cell_type": "code",
   "execution_count": 67,
   "metadata": {},
   "outputs": [
    {
     "data": {
      "text/plain": [
       "A    2.065635\n",
       "B    1.040571\n",
       "C    1.849933\n",
       "D    2.080030\n",
       "F         NaN\n",
       "dtype: float64"
      ]
     },
     "execution_count": 67,
     "metadata": {},
     "output_type": "execute_result"
    }
   ],
   "source": [
    "def my_f(x):\n",
    "    return x.max() - x.min()\n",
    "\n",
    "df.apply(my_f)"
   ]
  },
  {
   "cell_type": "code",
   "execution_count": 68,
   "metadata": {
    "focus": false,
    "id": "802ec78f-0525-40e0-ab4e-4600eb22b1ed",
    "slideshow": {
     "slide_type": "subslide"
    }
   },
   "outputs": [
    {
     "data": {
      "text/plain": [
       "0       a\n",
       "1       b\n",
       "2       c\n",
       "3     NaN\n",
       "4    caba\n",
       "5     dog\n",
       "6     cat\n",
       "dtype: object"
      ]
     },
     "execution_count": 68,
     "metadata": {},
     "output_type": "execute_result"
    }
   ],
   "source": [
    "# Built in string methods\n",
    "s = pd.Series(['A', 'B', 'C', np.nan, 'CABA', 'dog', 'cat'])\n",
    "s.str.lower()"
   ]
  },
  {
   "cell_type": "markdown",
   "metadata": {
    "focus": false,
    "id": "ce36d58b-a2b3-4fb0-b21d-d8e40425d203",
    "slideshow": {
     "slide_type": "subslide"
    }
   },
   "source": [
    "### Merge"
   ]
  },
  {
   "cell_type": "code",
   "execution_count": 69,
   "metadata": {
    "focus": false,
    "id": "5a03c068-8ce7-4bc2-a25a-ed1744d56765",
    "slideshow": {
     "slide_type": "subslide"
    }
   },
   "outputs": [
    {
     "data": {
      "text/plain": [
       "array([[-0.36697239,  0.02370905,  0.31413366, -0.2926697 ],\n",
       "       [-0.24751901, -0.92611002,  2.17438632,  1.06248401],\n",
       "       [ 0.08475146, -0.16042049,  0.22905759, -0.39120867],\n",
       "       [ 0.90831162, -1.40656349,  0.58236084,  0.7241905 ],\n",
       "       [ 0.29988706,  0.65941356, -1.59458218,  0.31569369],\n",
       "       [-0.29465763,  2.51498932, -1.76278393, -1.5809577 ],\n",
       "       [ 0.78466561, -0.2661952 ,  0.16309843, -0.83288942],\n",
       "       [ 0.66638713, -0.41471795, -1.95021694, -1.63594138],\n",
       "       [ 1.06308337, -0.4820737 ,  1.90729906,  2.74274495],\n",
       "       [ 0.28673394,  0.68194776,  1.52085292,  1.02975135]])"
      ]
     },
     "execution_count": 69,
     "metadata": {},
     "output_type": "execute_result"
    }
   ],
   "source": [
    "np.random.randn(10,4)"
   ]
  },
  {
   "cell_type": "code",
   "execution_count": 70,
   "metadata": {
    "focus": false,
    "id": "54d4be63-ab84-4c0c-8c87-a4bf1affb1ec",
    "scrolled": true,
    "slideshow": {
     "slide_type": "subslide"
    }
   },
   "outputs": [
    {
     "data": {
      "text/html": [
       "<div>\n",
       "<style>\n",
       "    .dataframe thead tr:only-child th {\n",
       "        text-align: right;\n",
       "    }\n",
       "\n",
       "    .dataframe thead th {\n",
       "        text-align: left;\n",
       "    }\n",
       "\n",
       "    .dataframe tbody tr th {\n",
       "        vertical-align: top;\n",
       "    }\n",
       "</style>\n",
       "<table border=\"1\" class=\"dataframe\">\n",
       "  <thead>\n",
       "    <tr style=\"text-align: right;\">\n",
       "      <th></th>\n",
       "      <th>0</th>\n",
       "      <th>1</th>\n",
       "      <th>2</th>\n",
       "      <th>3</th>\n",
       "    </tr>\n",
       "  </thead>\n",
       "  <tbody>\n",
       "    <tr>\n",
       "      <th>0</th>\n",
       "      <td>-0.278333</td>\n",
       "      <td>0.195459</td>\n",
       "      <td>-0.401318</td>\n",
       "      <td>-1.610336</td>\n",
       "    </tr>\n",
       "    <tr>\n",
       "      <th>1</th>\n",
       "      <td>-1.789226</td>\n",
       "      <td>1.273203</td>\n",
       "      <td>2.477695</td>\n",
       "      <td>0.741275</td>\n",
       "    </tr>\n",
       "    <tr>\n",
       "      <th>2</th>\n",
       "      <td>-1.238613</td>\n",
       "      <td>0.114002</td>\n",
       "      <td>-0.728302</td>\n",
       "      <td>0.832313</td>\n",
       "    </tr>\n",
       "    <tr>\n",
       "      <th>3</th>\n",
       "      <td>0.314552</td>\n",
       "      <td>-0.058522</td>\n",
       "      <td>1.329424</td>\n",
       "      <td>0.911328</td>\n",
       "    </tr>\n",
       "    <tr>\n",
       "      <th>4</th>\n",
       "      <td>-0.516010</td>\n",
       "      <td>0.109561</td>\n",
       "      <td>0.554909</td>\n",
       "      <td>-0.896910</td>\n",
       "    </tr>\n",
       "    <tr>\n",
       "      <th>5</th>\n",
       "      <td>-0.072406</td>\n",
       "      <td>-0.321589</td>\n",
       "      <td>1.038541</td>\n",
       "      <td>-0.351587</td>\n",
       "    </tr>\n",
       "    <tr>\n",
       "      <th>6</th>\n",
       "      <td>0.085116</td>\n",
       "      <td>-0.722688</td>\n",
       "      <td>0.189906</td>\n",
       "      <td>-1.028109</td>\n",
       "    </tr>\n",
       "    <tr>\n",
       "      <th>7</th>\n",
       "      <td>0.456935</td>\n",
       "      <td>0.955018</td>\n",
       "      <td>0.036407</td>\n",
       "      <td>-0.335046</td>\n",
       "    </tr>\n",
       "    <tr>\n",
       "      <th>8</th>\n",
       "      <td>-0.838093</td>\n",
       "      <td>0.035093</td>\n",
       "      <td>-0.029559</td>\n",
       "      <td>0.178640</td>\n",
       "    </tr>\n",
       "    <tr>\n",
       "      <th>9</th>\n",
       "      <td>1.342146</td>\n",
       "      <td>-0.506482</td>\n",
       "      <td>-0.013340</td>\n",
       "      <td>-0.917982</td>\n",
       "    </tr>\n",
       "  </tbody>\n",
       "</table>\n",
       "</div>"
      ],
      "text/plain": [
       "          0         1         2         3\n",
       "0 -0.278333  0.195459 -0.401318 -1.610336\n",
       "1 -1.789226  1.273203  2.477695  0.741275\n",
       "2 -1.238613  0.114002 -0.728302  0.832313\n",
       "3  0.314552 -0.058522  1.329424  0.911328\n",
       "4 -0.516010  0.109561  0.554909 -0.896910\n",
       "5 -0.072406 -0.321589  1.038541 -0.351587\n",
       "6  0.085116 -0.722688  0.189906 -1.028109\n",
       "7  0.456935  0.955018  0.036407 -0.335046\n",
       "8 -0.838093  0.035093 -0.029559  0.178640\n",
       "9  1.342146 -0.506482 -0.013340 -0.917982"
      ]
     },
     "execution_count": 70,
     "metadata": {},
     "output_type": "execute_result"
    }
   ],
   "source": [
    "#Concatenating pandas objects together\n",
    "df = pd.DataFrame(np.random.randn(10,4))\n",
    "df"
   ]
  },
  {
   "cell_type": "code",
   "execution_count": 71,
   "metadata": {
    "focus": false,
    "id": "f39f64e5-7416-4067-867d-93d36674c19b",
    "slideshow": {
     "slide_type": "subslide"
    }
   },
   "outputs": [
    {
     "data": {
      "text/plain": [
       "[          0         1         2         3\n",
       " 0 -0.278333  0.195459 -0.401318 -1.610336\n",
       " 1 -1.789226  1.273203  2.477695  0.741275\n",
       " 2 -1.238613  0.114002 -0.728302  0.832313,\n",
       "           0         1         2         3\n",
       " 3  0.314552 -0.058522  1.329424  0.911328\n",
       " 4 -0.516010  0.109561  0.554909 -0.896910\n",
       " 5 -0.072406 -0.321589  1.038541 -0.351587\n",
       " 6  0.085116 -0.722688  0.189906 -1.028109,\n",
       "           0         1         2         3\n",
       " 7  0.456935  0.955018  0.036407 -0.335046\n",
       " 8 -0.838093  0.035093 -0.029559  0.178640\n",
       " 9  1.342146 -0.506482 -0.013340 -0.917982]"
      ]
     },
     "execution_count": 71,
     "metadata": {},
     "output_type": "execute_result"
    }
   ],
   "source": [
    "# Break it into pieces\n",
    "pieces = [df[:3], df[3:7],df[7:]]\n",
    "pieces"
   ]
  },
  {
   "cell_type": "code",
   "execution_count": 72,
   "metadata": {
    "focus": false,
    "id": "1b3617e6-0a0e-4f0a-b8a1-8715c961aa8f",
    "slideshow": {
     "slide_type": "fragment"
    }
   },
   "outputs": [
    {
     "data": {
      "text/html": [
       "<div>\n",
       "<style>\n",
       "    .dataframe thead tr:only-child th {\n",
       "        text-align: right;\n",
       "    }\n",
       "\n",
       "    .dataframe thead th {\n",
       "        text-align: left;\n",
       "    }\n",
       "\n",
       "    .dataframe tbody tr th {\n",
       "        vertical-align: top;\n",
       "    }\n",
       "</style>\n",
       "<table border=\"1\" class=\"dataframe\">\n",
       "  <thead>\n",
       "    <tr style=\"text-align: right;\">\n",
       "      <th></th>\n",
       "      <th>0</th>\n",
       "      <th>1</th>\n",
       "      <th>2</th>\n",
       "      <th>3</th>\n",
       "    </tr>\n",
       "  </thead>\n",
       "  <tbody>\n",
       "    <tr>\n",
       "      <th>0</th>\n",
       "      <td>-0.278333</td>\n",
       "      <td>0.195459</td>\n",
       "      <td>-0.401318</td>\n",
       "      <td>-1.610336</td>\n",
       "    </tr>\n",
       "    <tr>\n",
       "      <th>1</th>\n",
       "      <td>-1.789226</td>\n",
       "      <td>1.273203</td>\n",
       "      <td>2.477695</td>\n",
       "      <td>0.741275</td>\n",
       "    </tr>\n",
       "    <tr>\n",
       "      <th>2</th>\n",
       "      <td>-1.238613</td>\n",
       "      <td>0.114002</td>\n",
       "      <td>-0.728302</td>\n",
       "      <td>0.832313</td>\n",
       "    </tr>\n",
       "    <tr>\n",
       "      <th>3</th>\n",
       "      <td>0.314552</td>\n",
       "      <td>-0.058522</td>\n",
       "      <td>1.329424</td>\n",
       "      <td>0.911328</td>\n",
       "    </tr>\n",
       "    <tr>\n",
       "      <th>4</th>\n",
       "      <td>-0.516010</td>\n",
       "      <td>0.109561</td>\n",
       "      <td>0.554909</td>\n",
       "      <td>-0.896910</td>\n",
       "    </tr>\n",
       "    <tr>\n",
       "      <th>5</th>\n",
       "      <td>-0.072406</td>\n",
       "      <td>-0.321589</td>\n",
       "      <td>1.038541</td>\n",
       "      <td>-0.351587</td>\n",
       "    </tr>\n",
       "    <tr>\n",
       "      <th>6</th>\n",
       "      <td>0.085116</td>\n",
       "      <td>-0.722688</td>\n",
       "      <td>0.189906</td>\n",
       "      <td>-1.028109</td>\n",
       "    </tr>\n",
       "    <tr>\n",
       "      <th>7</th>\n",
       "      <td>0.456935</td>\n",
       "      <td>0.955018</td>\n",
       "      <td>0.036407</td>\n",
       "      <td>-0.335046</td>\n",
       "    </tr>\n",
       "    <tr>\n",
       "      <th>8</th>\n",
       "      <td>-0.838093</td>\n",
       "      <td>0.035093</td>\n",
       "      <td>-0.029559</td>\n",
       "      <td>0.178640</td>\n",
       "    </tr>\n",
       "    <tr>\n",
       "      <th>9</th>\n",
       "      <td>1.342146</td>\n",
       "      <td>-0.506482</td>\n",
       "      <td>-0.013340</td>\n",
       "      <td>-0.917982</td>\n",
       "    </tr>\n",
       "  </tbody>\n",
       "</table>\n",
       "</div>"
      ],
      "text/plain": [
       "          0         1         2         3\n",
       "0 -0.278333  0.195459 -0.401318 -1.610336\n",
       "1 -1.789226  1.273203  2.477695  0.741275\n",
       "2 -1.238613  0.114002 -0.728302  0.832313\n",
       "3  0.314552 -0.058522  1.329424  0.911328\n",
       "4 -0.516010  0.109561  0.554909 -0.896910\n",
       "5 -0.072406 -0.321589  1.038541 -0.351587\n",
       "6  0.085116 -0.722688  0.189906 -1.028109\n",
       "7  0.456935  0.955018  0.036407 -0.335046\n",
       "8 -0.838093  0.035093 -0.029559  0.178640\n",
       "9  1.342146 -0.506482 -0.013340 -0.917982"
      ]
     },
     "execution_count": 72,
     "metadata": {},
     "output_type": "execute_result"
    }
   ],
   "source": [
    "pd.concat(pieces)"
   ]
  },
  {
   "cell_type": "code",
   "execution_count": 73,
   "metadata": {
    "focus": false,
    "id": "487ed85b-a5c7-436b-80ce-53b7c5e23948",
    "slideshow": {
     "slide_type": "fragment"
    }
   },
   "outputs": [
    {
     "data": {
      "text/html": [
       "<div>\n",
       "<style>\n",
       "    .dataframe thead tr:only-child th {\n",
       "        text-align: right;\n",
       "    }\n",
       "\n",
       "    .dataframe thead th {\n",
       "        text-align: left;\n",
       "    }\n",
       "\n",
       "    .dataframe tbody tr th {\n",
       "        vertical-align: top;\n",
       "    }\n",
       "</style>\n",
       "<table border=\"1\" class=\"dataframe\">\n",
       "  <thead>\n",
       "    <tr style=\"text-align: right;\">\n",
       "      <th></th>\n",
       "      <th>0</th>\n",
       "      <th>1</th>\n",
       "      <th>2</th>\n",
       "      <th>3</th>\n",
       "    </tr>\n",
       "  </thead>\n",
       "  <tbody>\n",
       "    <tr>\n",
       "      <th>0</th>\n",
       "      <td>-0.278333</td>\n",
       "      <td>0.195459</td>\n",
       "      <td>-0.401318</td>\n",
       "      <td>-1.610336</td>\n",
       "    </tr>\n",
       "    <tr>\n",
       "      <th>1</th>\n",
       "      <td>-1.789226</td>\n",
       "      <td>1.273203</td>\n",
       "      <td>2.477695</td>\n",
       "      <td>0.741275</td>\n",
       "    </tr>\n",
       "    <tr>\n",
       "      <th>2</th>\n",
       "      <td>-1.238613</td>\n",
       "      <td>0.114002</td>\n",
       "      <td>-0.728302</td>\n",
       "      <td>0.832313</td>\n",
       "    </tr>\n",
       "    <tr>\n",
       "      <th>3</th>\n",
       "      <td>0.314552</td>\n",
       "      <td>-0.058522</td>\n",
       "      <td>1.329424</td>\n",
       "      <td>0.911328</td>\n",
       "    </tr>\n",
       "    <tr>\n",
       "      <th>4</th>\n",
       "      <td>-0.516010</td>\n",
       "      <td>0.109561</td>\n",
       "      <td>0.554909</td>\n",
       "      <td>-0.896910</td>\n",
       "    </tr>\n",
       "    <tr>\n",
       "      <th>5</th>\n",
       "      <td>-0.072406</td>\n",
       "      <td>-0.321589</td>\n",
       "      <td>1.038541</td>\n",
       "      <td>-0.351587</td>\n",
       "    </tr>\n",
       "    <tr>\n",
       "      <th>6</th>\n",
       "      <td>0.085116</td>\n",
       "      <td>-0.722688</td>\n",
       "      <td>0.189906</td>\n",
       "      <td>-1.028109</td>\n",
       "    </tr>\n",
       "    <tr>\n",
       "      <th>7</th>\n",
       "      <td>0.456935</td>\n",
       "      <td>0.955018</td>\n",
       "      <td>0.036407</td>\n",
       "      <td>-0.335046</td>\n",
       "    </tr>\n",
       "    <tr>\n",
       "      <th>8</th>\n",
       "      <td>-0.838093</td>\n",
       "      <td>0.035093</td>\n",
       "      <td>-0.029559</td>\n",
       "      <td>0.178640</td>\n",
       "    </tr>\n",
       "    <tr>\n",
       "      <th>9</th>\n",
       "      <td>1.342146</td>\n",
       "      <td>-0.506482</td>\n",
       "      <td>-0.013340</td>\n",
       "      <td>-0.917982</td>\n",
       "    </tr>\n",
       "  </tbody>\n",
       "</table>\n",
       "</div>"
      ],
      "text/plain": [
       "          0         1         2         3\n",
       "0 -0.278333  0.195459 -0.401318 -1.610336\n",
       "1 -1.789226  1.273203  2.477695  0.741275\n",
       "2 -1.238613  0.114002 -0.728302  0.832313\n",
       "3  0.314552 -0.058522  1.329424  0.911328\n",
       "4 -0.516010  0.109561  0.554909 -0.896910\n",
       "5 -0.072406 -0.321589  1.038541 -0.351587\n",
       "6  0.085116 -0.722688  0.189906 -1.028109\n",
       "7  0.456935  0.955018  0.036407 -0.335046\n",
       "8 -0.838093  0.035093 -0.029559  0.178640\n",
       "9  1.342146 -0.506482 -0.013340 -0.917982"
      ]
     },
     "execution_count": 73,
     "metadata": {},
     "output_type": "execute_result"
    }
   ],
   "source": [
    "# Also can \"Join\" and \"Append\"\n",
    "df"
   ]
  },
  {
   "cell_type": "markdown",
   "metadata": {
    "focus": false,
    "id": "d71e2439-0018-4564-a3c9-08b21df14f49",
    "slideshow": {
     "slide_type": "subslide"
    }
   },
   "source": [
    "### Grouping\n"
   ]
  },
  {
   "cell_type": "code",
   "execution_count": 74,
   "metadata": {
    "collapsed": true,
    "focus": false,
    "id": "fa9636d6-592b-4166-b440-ab7fccf1a617",
    "slideshow": {
     "slide_type": "subslide"
    }
   },
   "outputs": [],
   "source": [
    "df = pd.DataFrame({'Origin' : ['foo', 'bar', 'foo', 'bar',\n",
    "                       'foo', 'bar', 'foo', 'foo'],\n",
    "                       'Destination' : ['one', 'one', 'two', 'three',\n",
    "                             'two', 'two', 'one', 'three'],\n",
    "                       'C' : np.random.randn(8),\n",
    "                       'D' : np.random.randn(8)})"
   ]
  },
  {
   "cell_type": "code",
   "execution_count": 75,
   "metadata": {
    "focus": false,
    "id": "be026ca6-3b88-4e6c-935f-339089743711",
    "slideshow": {
     "slide_type": "fragment"
    }
   },
   "outputs": [
    {
     "data": {
      "text/html": [
       "<div>\n",
       "<style>\n",
       "    .dataframe thead tr:only-child th {\n",
       "        text-align: right;\n",
       "    }\n",
       "\n",
       "    .dataframe thead th {\n",
       "        text-align: left;\n",
       "    }\n",
       "\n",
       "    .dataframe tbody tr th {\n",
       "        vertical-align: top;\n",
       "    }\n",
       "</style>\n",
       "<table border=\"1\" class=\"dataframe\">\n",
       "  <thead>\n",
       "    <tr style=\"text-align: right;\">\n",
       "      <th></th>\n",
       "      <th>C</th>\n",
       "      <th>D</th>\n",
       "      <th>Destination</th>\n",
       "      <th>Origin</th>\n",
       "    </tr>\n",
       "  </thead>\n",
       "  <tbody>\n",
       "    <tr>\n",
       "      <th>0</th>\n",
       "      <td>-1.178256</td>\n",
       "      <td>-0.215448</td>\n",
       "      <td>one</td>\n",
       "      <td>foo</td>\n",
       "    </tr>\n",
       "    <tr>\n",
       "      <th>1</th>\n",
       "      <td>0.825166</td>\n",
       "      <td>0.493228</td>\n",
       "      <td>one</td>\n",
       "      <td>bar</td>\n",
       "    </tr>\n",
       "    <tr>\n",
       "      <th>2</th>\n",
       "      <td>-0.032167</td>\n",
       "      <td>-1.206044</td>\n",
       "      <td>two</td>\n",
       "      <td>foo</td>\n",
       "    </tr>\n",
       "    <tr>\n",
       "      <th>3</th>\n",
       "      <td>0.145815</td>\n",
       "      <td>-1.868281</td>\n",
       "      <td>three</td>\n",
       "      <td>bar</td>\n",
       "    </tr>\n",
       "    <tr>\n",
       "      <th>4</th>\n",
       "      <td>0.783330</td>\n",
       "      <td>0.941726</td>\n",
       "      <td>two</td>\n",
       "      <td>foo</td>\n",
       "    </tr>\n",
       "    <tr>\n",
       "      <th>5</th>\n",
       "      <td>-1.973103</td>\n",
       "      <td>0.562442</td>\n",
       "      <td>two</td>\n",
       "      <td>bar</td>\n",
       "    </tr>\n",
       "    <tr>\n",
       "      <th>6</th>\n",
       "      <td>0.568068</td>\n",
       "      <td>-0.025025</td>\n",
       "      <td>one</td>\n",
       "      <td>foo</td>\n",
       "    </tr>\n",
       "    <tr>\n",
       "      <th>7</th>\n",
       "      <td>-0.476725</td>\n",
       "      <td>0.311091</td>\n",
       "      <td>three</td>\n",
       "      <td>foo</td>\n",
       "    </tr>\n",
       "  </tbody>\n",
       "</table>\n",
       "</div>"
      ],
      "text/plain": [
       "          C         D Destination Origin\n",
       "0 -1.178256 -0.215448         one    foo\n",
       "1  0.825166  0.493228         one    bar\n",
       "2 -0.032167 -1.206044         two    foo\n",
       "3  0.145815 -1.868281       three    bar\n",
       "4  0.783330  0.941726         two    foo\n",
       "5 -1.973103  0.562442         two    bar\n",
       "6  0.568068 -0.025025         one    foo\n",
       "7 -0.476725  0.311091       three    foo"
      ]
     },
     "execution_count": 75,
     "metadata": {},
     "output_type": "execute_result"
    }
   ],
   "source": [
    "df"
   ]
  },
  {
   "cell_type": "code",
   "execution_count": 76,
   "metadata": {
    "focus": false,
    "id": "20574670-3a23-4a2c-8b67-fbf3a9a7737e",
    "slideshow": {
     "slide_type": "fragment"
    }
   },
   "outputs": [
    {
     "data": {
      "text/html": [
       "<div>\n",
       "<style>\n",
       "    .dataframe thead tr:only-child th {\n",
       "        text-align: right;\n",
       "    }\n",
       "\n",
       "    .dataframe thead th {\n",
       "        text-align: left;\n",
       "    }\n",
       "\n",
       "    .dataframe tbody tr th {\n",
       "        vertical-align: top;\n",
       "    }\n",
       "</style>\n",
       "<table border=\"1\" class=\"dataframe\">\n",
       "  <thead>\n",
       "    <tr style=\"text-align: right;\">\n",
       "      <th></th>\n",
       "      <th></th>\n",
       "      <th>C</th>\n",
       "      <th>D</th>\n",
       "    </tr>\n",
       "    <tr>\n",
       "      <th>Origin</th>\n",
       "      <th>Destination</th>\n",
       "      <th></th>\n",
       "      <th></th>\n",
       "    </tr>\n",
       "  </thead>\n",
       "  <tbody>\n",
       "    <tr>\n",
       "      <th rowspan=\"3\" valign=\"top\">bar</th>\n",
       "      <th>one</th>\n",
       "      <td>0.825166</td>\n",
       "      <td>0.493228</td>\n",
       "    </tr>\n",
       "    <tr>\n",
       "      <th>three</th>\n",
       "      <td>0.145815</td>\n",
       "      <td>-1.868281</td>\n",
       "    </tr>\n",
       "    <tr>\n",
       "      <th>two</th>\n",
       "      <td>-1.973103</td>\n",
       "      <td>0.562442</td>\n",
       "    </tr>\n",
       "    <tr>\n",
       "      <th rowspan=\"3\" valign=\"top\">foo</th>\n",
       "      <th>one</th>\n",
       "      <td>-0.610189</td>\n",
       "      <td>-0.240474</td>\n",
       "    </tr>\n",
       "    <tr>\n",
       "      <th>three</th>\n",
       "      <td>-0.476725</td>\n",
       "      <td>0.311091</td>\n",
       "    </tr>\n",
       "    <tr>\n",
       "      <th>two</th>\n",
       "      <td>0.751163</td>\n",
       "      <td>-0.264317</td>\n",
       "    </tr>\n",
       "  </tbody>\n",
       "</table>\n",
       "</div>"
      ],
      "text/plain": [
       "                           C         D\n",
       "Origin Destination                    \n",
       "bar    one          0.825166  0.493228\n",
       "       three        0.145815 -1.868281\n",
       "       two         -1.973103  0.562442\n",
       "foo    one         -0.610189 -0.240474\n",
       "       three       -0.476725  0.311091\n",
       "       two          0.751163 -0.264317"
      ]
     },
     "execution_count": 76,
     "metadata": {},
     "output_type": "execute_result"
    }
   ],
   "source": [
    "df.groupby(['Origin','Destination']).sum()"
   ]
  },
  {
   "cell_type": "markdown",
   "metadata": {
    "focus": false,
    "id": "fa94e6a7-1981-4d98-b43e-3090182e5836",
    "slideshow": {
     "slide_type": "subslide"
    }
   },
   "source": [
    "### Reshaping"
   ]
  },
  {
   "cell_type": "code",
   "execution_count": 77,
   "metadata": {
    "collapsed": true,
    "focus": false,
    "id": "df08ec54-d000-4c15-8f93-100cae7a72da",
    "slideshow": {
     "slide_type": "fragment"
    }
   },
   "outputs": [],
   "source": [
    "# You can also stack or unstack levels"
   ]
  },
  {
   "cell_type": "code",
   "execution_count": 78,
   "metadata": {
    "collapsed": true,
    "focus": false,
    "id": "ab096955-7280-41aa-9ca8-e1d714d6f12c",
    "slideshow": {
     "slide_type": "fragment"
    }
   },
   "outputs": [],
   "source": [
    "a = df.groupby(['Origin','Destination']).sum()"
   ]
  },
  {
   "cell_type": "code",
   "execution_count": 79,
   "metadata": {},
   "outputs": [
    {
     "data": {
      "text/html": [
       "<div>\n",
       "<style>\n",
       "    .dataframe thead tr:only-child th {\n",
       "        text-align: right;\n",
       "    }\n",
       "\n",
       "    .dataframe thead th {\n",
       "        text-align: left;\n",
       "    }\n",
       "\n",
       "    .dataframe tbody tr th {\n",
       "        vertical-align: top;\n",
       "    }\n",
       "</style>\n",
       "<table border=\"1\" class=\"dataframe\">\n",
       "  <thead>\n",
       "    <tr style=\"text-align: right;\">\n",
       "      <th></th>\n",
       "      <th></th>\n",
       "      <th>C</th>\n",
       "      <th>D</th>\n",
       "    </tr>\n",
       "    <tr>\n",
       "      <th>Origin</th>\n",
       "      <th>Destination</th>\n",
       "      <th></th>\n",
       "      <th></th>\n",
       "    </tr>\n",
       "  </thead>\n",
       "  <tbody>\n",
       "    <tr>\n",
       "      <th rowspan=\"3\" valign=\"top\">bar</th>\n",
       "      <th>one</th>\n",
       "      <td>0.825166</td>\n",
       "      <td>0.493228</td>\n",
       "    </tr>\n",
       "    <tr>\n",
       "      <th>three</th>\n",
       "      <td>0.145815</td>\n",
       "      <td>-1.868281</td>\n",
       "    </tr>\n",
       "    <tr>\n",
       "      <th>two</th>\n",
       "      <td>-1.973103</td>\n",
       "      <td>0.562442</td>\n",
       "    </tr>\n",
       "    <tr>\n",
       "      <th rowspan=\"3\" valign=\"top\">foo</th>\n",
       "      <th>one</th>\n",
       "      <td>-0.610189</td>\n",
       "      <td>-0.240474</td>\n",
       "    </tr>\n",
       "    <tr>\n",
       "      <th>three</th>\n",
       "      <td>-0.476725</td>\n",
       "      <td>0.311091</td>\n",
       "    </tr>\n",
       "    <tr>\n",
       "      <th>two</th>\n",
       "      <td>0.751163</td>\n",
       "      <td>-0.264317</td>\n",
       "    </tr>\n",
       "  </tbody>\n",
       "</table>\n",
       "</div>"
      ],
      "text/plain": [
       "                           C         D\n",
       "Origin Destination                    \n",
       "bar    one          0.825166  0.493228\n",
       "       three        0.145815 -1.868281\n",
       "       two         -1.973103  0.562442\n",
       "foo    one         -0.610189 -0.240474\n",
       "       three       -0.476725  0.311091\n",
       "       two          0.751163 -0.264317"
      ]
     },
     "execution_count": 79,
     "metadata": {},
     "output_type": "execute_result"
    }
   ],
   "source": [
    "a"
   ]
  },
  {
   "cell_type": "code",
   "execution_count": 80,
   "metadata": {
    "focus": false,
    "id": "19be1110-9007-4818-b7df-7bfe76201f28",
    "slideshow": {
     "slide_type": "fragment"
    }
   },
   "outputs": [
    {
     "data": {
      "text/html": [
       "<div>\n",
       "<style>\n",
       "    .dataframe thead tr:only-child th {\n",
       "        text-align: right;\n",
       "    }\n",
       "\n",
       "    .dataframe thead th {\n",
       "        text-align: left;\n",
       "    }\n",
       "\n",
       "    .dataframe tbody tr th {\n",
       "        vertical-align: top;\n",
       "    }\n",
       "</style>\n",
       "<table border=\"1\" class=\"dataframe\">\n",
       "  <thead>\n",
       "    <tr>\n",
       "      <th></th>\n",
       "      <th colspan=\"3\" halign=\"left\">C</th>\n",
       "      <th colspan=\"3\" halign=\"left\">D</th>\n",
       "    </tr>\n",
       "    <tr>\n",
       "      <th>Destination</th>\n",
       "      <th>one</th>\n",
       "      <th>three</th>\n",
       "      <th>two</th>\n",
       "      <th>one</th>\n",
       "      <th>three</th>\n",
       "      <th>two</th>\n",
       "    </tr>\n",
       "    <tr>\n",
       "      <th>Origin</th>\n",
       "      <th></th>\n",
       "      <th></th>\n",
       "      <th></th>\n",
       "      <th></th>\n",
       "      <th></th>\n",
       "      <th></th>\n",
       "    </tr>\n",
       "  </thead>\n",
       "  <tbody>\n",
       "    <tr>\n",
       "      <th>bar</th>\n",
       "      <td>0.825166</td>\n",
       "      <td>0.145815</td>\n",
       "      <td>-1.973103</td>\n",
       "      <td>0.493228</td>\n",
       "      <td>-1.868281</td>\n",
       "      <td>0.562442</td>\n",
       "    </tr>\n",
       "    <tr>\n",
       "      <th>foo</th>\n",
       "      <td>-0.305094</td>\n",
       "      <td>-0.476725</td>\n",
       "      <td>0.375582</td>\n",
       "      <td>-0.120237</td>\n",
       "      <td>0.311091</td>\n",
       "      <td>-0.132159</td>\n",
       "    </tr>\n",
       "  </tbody>\n",
       "</table>\n",
       "</div>"
      ],
      "text/plain": [
       "                    C                             D                    \n",
       "Destination       one     three       two       one     three       two\n",
       "Origin                                                                 \n",
       "bar          0.825166  0.145815 -1.973103  0.493228 -1.868281  0.562442\n",
       "foo         -0.305094 -0.476725  0.375582 -0.120237  0.311091 -0.132159"
      ]
     },
     "execution_count": 80,
     "metadata": {},
     "output_type": "execute_result"
    }
   ],
   "source": [
    "# Pivot Tables\n",
    "pd.pivot_table(df,values=['C','D'],index=['Origin'],columns=['Destination'])"
   ]
  },
  {
   "cell_type": "markdown",
   "metadata": {
    "focus": false,
    "id": "67f5eb61-baaf-4cae-973d-808a2bf89829",
    "slideshow": {
     "slide_type": "subslide"
    }
   },
   "source": [
    "### Time Series\n"
   ]
  },
  {
   "cell_type": "code",
   "execution_count": 81,
   "metadata": {
    "collapsed": true,
    "focus": false,
    "id": "09b41ef7-1b6f-4231-a3c3-b083ee337aa4"
   },
   "outputs": [],
   "source": [
    "import pandas as pd\n",
    "import numpy as np"
   ]
  },
  {
   "cell_type": "code",
   "execution_count": 82,
   "metadata": {
    "collapsed": true,
    "focus": false,
    "id": "af09a1c8-fd55-44ad-a340-93284b578f52",
    "slideshow": {
     "slide_type": "fragment"
    }
   },
   "outputs": [],
   "source": [
    "# 100 Seconds starting on January 1st\n",
    "rng = pd.date_range('1/1/2017', periods=1000, freq='S')"
   ]
  },
  {
   "cell_type": "code",
   "execution_count": 83,
   "metadata": {
    "collapsed": true,
    "focus": false,
    "id": "948b5dba-e17c-4e0a-9bcb-e5cfd5dbd151",
    "slideshow": {
     "slide_type": "fragment"
    }
   },
   "outputs": [],
   "source": [
    "# Give each second a random value\n",
    "ts = pd.Series(np.random.randint(0, 500, len(rng)), index=rng)"
   ]
  },
  {
   "cell_type": "code",
   "execution_count": 84,
   "metadata": {
    "focus": false,
    "id": "ee2c76e8-2e6b-4083-97a2-ee65d8a4adde",
    "slideshow": {
     "slide_type": "fragment"
    }
   },
   "outputs": [
    {
     "data": {
      "text/plain": [
       "2017-01-01 00:00:00     24\n",
       "2017-01-01 00:00:01    105\n",
       "2017-01-01 00:00:02    142\n",
       "2017-01-01 00:00:03    440\n",
       "2017-01-01 00:00:04    169\n",
       "2017-01-01 00:00:05    419\n",
       "2017-01-01 00:00:06     76\n",
       "2017-01-01 00:00:07    226\n",
       "2017-01-01 00:00:08    334\n",
       "2017-01-01 00:00:09    339\n",
       "2017-01-01 00:00:10    322\n",
       "2017-01-01 00:00:11    263\n",
       "2017-01-01 00:00:12    274\n",
       "2017-01-01 00:00:13    259\n",
       "2017-01-01 00:00:14    250\n",
       "2017-01-01 00:00:15    449\n",
       "2017-01-01 00:00:16    480\n",
       "2017-01-01 00:00:17      7\n",
       "2017-01-01 00:00:18     39\n",
       "2017-01-01 00:00:19    298\n",
       "2017-01-01 00:00:20    418\n",
       "2017-01-01 00:00:21     85\n",
       "2017-01-01 00:00:22    112\n",
       "2017-01-01 00:00:23    380\n",
       "2017-01-01 00:00:24    109\n",
       "2017-01-01 00:00:25     11\n",
       "2017-01-01 00:00:26    472\n",
       "2017-01-01 00:00:27    411\n",
       "2017-01-01 00:00:28     79\n",
       "2017-01-01 00:00:29     76\n",
       "                      ... \n",
       "2017-01-01 00:16:10    263\n",
       "2017-01-01 00:16:11    315\n",
       "2017-01-01 00:16:12     45\n",
       "2017-01-01 00:16:13    369\n",
       "2017-01-01 00:16:14    453\n",
       "2017-01-01 00:16:15    236\n",
       "2017-01-01 00:16:16    198\n",
       "2017-01-01 00:16:17    166\n",
       "2017-01-01 00:16:18    457\n",
       "2017-01-01 00:16:19    182\n",
       "2017-01-01 00:16:20    212\n",
       "2017-01-01 00:16:21    335\n",
       "2017-01-01 00:16:22    293\n",
       "2017-01-01 00:16:23    435\n",
       "2017-01-01 00:16:24    265\n",
       "2017-01-01 00:16:25    230\n",
       "2017-01-01 00:16:26    218\n",
       "2017-01-01 00:16:27     32\n",
       "2017-01-01 00:16:28    367\n",
       "2017-01-01 00:16:29    467\n",
       "2017-01-01 00:16:30    140\n",
       "2017-01-01 00:16:31    255\n",
       "2017-01-01 00:16:32    234\n",
       "2017-01-01 00:16:33    258\n",
       "2017-01-01 00:16:34    428\n",
       "2017-01-01 00:16:35     29\n",
       "2017-01-01 00:16:36    307\n",
       "2017-01-01 00:16:37    475\n",
       "2017-01-01 00:16:38    180\n",
       "2017-01-01 00:16:39     41\n",
       "Freq: S, Length: 1000, dtype: int64"
      ]
     },
     "execution_count": 84,
     "metadata": {},
     "output_type": "execute_result"
    }
   ],
   "source": [
    "ts"
   ]
  },
  {
   "cell_type": "code",
   "execution_count": 85,
   "metadata": {
    "focus": false,
    "id": "a5d4c14a-379a-4e9a-a3cc-e6cd5476b781",
    "slideshow": {
     "slide_type": "subslide"
    }
   },
   "outputs": [
    {
     "data": {
      "text/plain": [
       "2017-01-01 00:00:00    235.600000\n",
       "2017-01-01 00:00:30    288.433333\n",
       "2017-01-01 00:01:00    216.200000\n",
       "2017-01-01 00:01:30    287.100000\n",
       "2017-01-01 00:02:00    227.900000\n",
       "2017-01-01 00:02:30    242.000000\n",
       "2017-01-01 00:03:00    198.533333\n",
       "2017-01-01 00:03:30    195.766667\n",
       "2017-01-01 00:04:00    263.100000\n",
       "2017-01-01 00:04:30    284.966667\n",
       "2017-01-01 00:05:00    251.033333\n",
       "2017-01-01 00:05:30    233.900000\n",
       "2017-01-01 00:06:00    277.033333\n",
       "2017-01-01 00:06:30    227.600000\n",
       "2017-01-01 00:07:00    272.933333\n",
       "2017-01-01 00:07:30    215.766667\n",
       "2017-01-01 00:08:00    226.100000\n",
       "2017-01-01 00:08:30    236.333333\n",
       "2017-01-01 00:09:00    224.133333\n",
       "2017-01-01 00:09:30    249.733333\n",
       "2017-01-01 00:10:00    258.800000\n",
       "2017-01-01 00:10:30    211.133333\n",
       "2017-01-01 00:11:00    225.600000\n",
       "2017-01-01 00:11:30    224.866667\n",
       "2017-01-01 00:12:00    266.966667\n",
       "2017-01-01 00:12:30    225.833333\n",
       "2017-01-01 00:13:00    203.766667\n",
       "2017-01-01 00:13:30    278.900000\n",
       "2017-01-01 00:14:00    219.600000\n",
       "2017-01-01 00:14:30    244.466667\n",
       "2017-01-01 00:15:00    262.433333\n",
       "2017-01-01 00:15:30    276.566667\n",
       "2017-01-01 00:16:00    275.533333\n",
       "2017-01-01 00:16:30    234.700000\n",
       "Freq: 30S, dtype: float64"
      ]
     },
     "execution_count": 85,
     "metadata": {},
     "output_type": "execute_result"
    }
   ],
   "source": [
    "# Built in resampling\n",
    "ts.resample('30S').mean() # Resample secondly to 1Minutely"
   ]
  },
  {
   "cell_type": "code",
   "execution_count": 86,
   "metadata": {
    "focus": false,
    "id": "e3a2aac3-1aec-41fb-8076-ca3433d38c87",
    "slideshow": {
     "slide_type": "slide"
    }
   },
   "outputs": [
    {
     "ename": "SyntaxError",
     "evalue": "invalid syntax (<ipython-input-86-5c9240a56f62>, line 2)",
     "output_type": "error",
     "traceback": [
      "\u001b[0;36m  File \u001b[0;32m\"<ipython-input-86-5c9240a56f62>\"\u001b[0;36m, line \u001b[0;32m2\u001b[0m\n\u001b[0;31m    ts. #use tab\u001b[0m\n\u001b[0m                ^\u001b[0m\n\u001b[0;31mSyntaxError\u001b[0m\u001b[0;31m:\u001b[0m invalid syntax\n"
     ]
    }
   ],
   "source": [
    "# Many additional time series features\n",
    "ts. #use tab"
   ]
  },
  {
   "cell_type": "markdown",
   "metadata": {
    "focus": false,
    "id": "b281a484-9cf5-41da-b898-ac5ea012053a",
    "slideshow": {
     "slide_type": "slide"
    }
   },
   "source": [
    "### Plotting\n"
   ]
  },
  {
   "cell_type": "code",
   "execution_count": 87,
   "metadata": {
    "focus": false,
    "id": "e0d64120-b593-447e-9088-731b31629e25",
    "slideshow": {
     "slide_type": "subslide"
    }
   },
   "outputs": [
    {
     "data": {
      "application/vnd.plotly.v1+json": {
       "data": [
        {
         "line": {
          "color": "rgba(255, 153, 51, 1.0)",
          "dash": "solid",
          "width": 1.3
         },
         "mode": "lines",
         "name": "None",
         "text": "",
         "type": "scatter",
         "x": [
          "2017-01-01 00:00:00",
          "2017-01-01 00:00:01",
          "2017-01-01 00:00:02",
          "2017-01-01 00:00:03",
          "2017-01-01 00:00:04",
          "2017-01-01 00:00:05",
          "2017-01-01 00:00:06",
          "2017-01-01 00:00:07",
          "2017-01-01 00:00:08",
          "2017-01-01 00:00:09",
          "2017-01-01 00:00:10",
          "2017-01-01 00:00:11",
          "2017-01-01 00:00:12",
          "2017-01-01 00:00:13",
          "2017-01-01 00:00:14",
          "2017-01-01 00:00:15",
          "2017-01-01 00:00:16",
          "2017-01-01 00:00:17",
          "2017-01-01 00:00:18",
          "2017-01-01 00:00:19",
          "2017-01-01 00:00:20",
          "2017-01-01 00:00:21",
          "2017-01-01 00:00:22",
          "2017-01-01 00:00:23",
          "2017-01-01 00:00:24",
          "2017-01-01 00:00:25",
          "2017-01-01 00:00:26",
          "2017-01-01 00:00:27",
          "2017-01-01 00:00:28",
          "2017-01-01 00:00:29",
          "2017-01-01 00:00:30",
          "2017-01-01 00:00:31",
          "2017-01-01 00:00:32",
          "2017-01-01 00:00:33",
          "2017-01-01 00:00:34",
          "2017-01-01 00:00:35",
          "2017-01-01 00:00:36",
          "2017-01-01 00:00:37",
          "2017-01-01 00:00:38",
          "2017-01-01 00:00:39",
          "2017-01-01 00:00:40",
          "2017-01-01 00:00:41",
          "2017-01-01 00:00:42",
          "2017-01-01 00:00:43",
          "2017-01-01 00:00:44",
          "2017-01-01 00:00:45",
          "2017-01-01 00:00:46",
          "2017-01-01 00:00:47",
          "2017-01-01 00:00:48",
          "2017-01-01 00:00:49",
          "2017-01-01 00:00:50",
          "2017-01-01 00:00:51",
          "2017-01-01 00:00:52",
          "2017-01-01 00:00:53",
          "2017-01-01 00:00:54",
          "2017-01-01 00:00:55",
          "2017-01-01 00:00:56",
          "2017-01-01 00:00:57",
          "2017-01-01 00:00:58",
          "2017-01-01 00:00:59",
          "2017-01-01 00:01:00",
          "2017-01-01 00:01:01",
          "2017-01-01 00:01:02",
          "2017-01-01 00:01:03",
          "2017-01-01 00:01:04",
          "2017-01-01 00:01:05",
          "2017-01-01 00:01:06",
          "2017-01-01 00:01:07",
          "2017-01-01 00:01:08",
          "2017-01-01 00:01:09",
          "2017-01-01 00:01:10",
          "2017-01-01 00:01:11",
          "2017-01-01 00:01:12",
          "2017-01-01 00:01:13",
          "2017-01-01 00:01:14",
          "2017-01-01 00:01:15",
          "2017-01-01 00:01:16",
          "2017-01-01 00:01:17",
          "2017-01-01 00:01:18",
          "2017-01-01 00:01:19",
          "2017-01-01 00:01:20",
          "2017-01-01 00:01:21",
          "2017-01-01 00:01:22",
          "2017-01-01 00:01:23",
          "2017-01-01 00:01:24",
          "2017-01-01 00:01:25",
          "2017-01-01 00:01:26",
          "2017-01-01 00:01:27",
          "2017-01-01 00:01:28",
          "2017-01-01 00:01:29",
          "2017-01-01 00:01:30",
          "2017-01-01 00:01:31",
          "2017-01-01 00:01:32",
          "2017-01-01 00:01:33",
          "2017-01-01 00:01:34",
          "2017-01-01 00:01:35",
          "2017-01-01 00:01:36",
          "2017-01-01 00:01:37",
          "2017-01-01 00:01:38",
          "2017-01-01 00:01:39",
          "2017-01-01 00:01:40",
          "2017-01-01 00:01:41",
          "2017-01-01 00:01:42",
          "2017-01-01 00:01:43",
          "2017-01-01 00:01:44",
          "2017-01-01 00:01:45",
          "2017-01-01 00:01:46",
          "2017-01-01 00:01:47",
          "2017-01-01 00:01:48",
          "2017-01-01 00:01:49",
          "2017-01-01 00:01:50",
          "2017-01-01 00:01:51",
          "2017-01-01 00:01:52",
          "2017-01-01 00:01:53",
          "2017-01-01 00:01:54",
          "2017-01-01 00:01:55",
          "2017-01-01 00:01:56",
          "2017-01-01 00:01:57",
          "2017-01-01 00:01:58",
          "2017-01-01 00:01:59",
          "2017-01-01 00:02:00",
          "2017-01-01 00:02:01",
          "2017-01-01 00:02:02",
          "2017-01-01 00:02:03",
          "2017-01-01 00:02:04",
          "2017-01-01 00:02:05",
          "2017-01-01 00:02:06",
          "2017-01-01 00:02:07",
          "2017-01-01 00:02:08",
          "2017-01-01 00:02:09",
          "2017-01-01 00:02:10",
          "2017-01-01 00:02:11",
          "2017-01-01 00:02:12",
          "2017-01-01 00:02:13",
          "2017-01-01 00:02:14",
          "2017-01-01 00:02:15",
          "2017-01-01 00:02:16",
          "2017-01-01 00:02:17",
          "2017-01-01 00:02:18",
          "2017-01-01 00:02:19",
          "2017-01-01 00:02:20",
          "2017-01-01 00:02:21",
          "2017-01-01 00:02:22",
          "2017-01-01 00:02:23",
          "2017-01-01 00:02:24",
          "2017-01-01 00:02:25",
          "2017-01-01 00:02:26",
          "2017-01-01 00:02:27",
          "2017-01-01 00:02:28",
          "2017-01-01 00:02:29",
          "2017-01-01 00:02:30",
          "2017-01-01 00:02:31",
          "2017-01-01 00:02:32",
          "2017-01-01 00:02:33",
          "2017-01-01 00:02:34",
          "2017-01-01 00:02:35",
          "2017-01-01 00:02:36",
          "2017-01-01 00:02:37",
          "2017-01-01 00:02:38",
          "2017-01-01 00:02:39",
          "2017-01-01 00:02:40",
          "2017-01-01 00:02:41",
          "2017-01-01 00:02:42",
          "2017-01-01 00:02:43",
          "2017-01-01 00:02:44",
          "2017-01-01 00:02:45",
          "2017-01-01 00:02:46",
          "2017-01-01 00:02:47",
          "2017-01-01 00:02:48",
          "2017-01-01 00:02:49",
          "2017-01-01 00:02:50",
          "2017-01-01 00:02:51",
          "2017-01-01 00:02:52",
          "2017-01-01 00:02:53",
          "2017-01-01 00:02:54",
          "2017-01-01 00:02:55",
          "2017-01-01 00:02:56",
          "2017-01-01 00:02:57",
          "2017-01-01 00:02:58",
          "2017-01-01 00:02:59",
          "2017-01-01 00:03:00",
          "2017-01-01 00:03:01",
          "2017-01-01 00:03:02",
          "2017-01-01 00:03:03",
          "2017-01-01 00:03:04",
          "2017-01-01 00:03:05",
          "2017-01-01 00:03:06",
          "2017-01-01 00:03:07",
          "2017-01-01 00:03:08",
          "2017-01-01 00:03:09",
          "2017-01-01 00:03:10",
          "2017-01-01 00:03:11",
          "2017-01-01 00:03:12",
          "2017-01-01 00:03:13",
          "2017-01-01 00:03:14",
          "2017-01-01 00:03:15",
          "2017-01-01 00:03:16",
          "2017-01-01 00:03:17",
          "2017-01-01 00:03:18",
          "2017-01-01 00:03:19",
          "2017-01-01 00:03:20",
          "2017-01-01 00:03:21",
          "2017-01-01 00:03:22",
          "2017-01-01 00:03:23",
          "2017-01-01 00:03:24",
          "2017-01-01 00:03:25",
          "2017-01-01 00:03:26",
          "2017-01-01 00:03:27",
          "2017-01-01 00:03:28",
          "2017-01-01 00:03:29",
          "2017-01-01 00:03:30",
          "2017-01-01 00:03:31",
          "2017-01-01 00:03:32",
          "2017-01-01 00:03:33",
          "2017-01-01 00:03:34",
          "2017-01-01 00:03:35",
          "2017-01-01 00:03:36",
          "2017-01-01 00:03:37",
          "2017-01-01 00:03:38",
          "2017-01-01 00:03:39",
          "2017-01-01 00:03:40",
          "2017-01-01 00:03:41",
          "2017-01-01 00:03:42",
          "2017-01-01 00:03:43",
          "2017-01-01 00:03:44",
          "2017-01-01 00:03:45",
          "2017-01-01 00:03:46",
          "2017-01-01 00:03:47",
          "2017-01-01 00:03:48",
          "2017-01-01 00:03:49",
          "2017-01-01 00:03:50",
          "2017-01-01 00:03:51",
          "2017-01-01 00:03:52",
          "2017-01-01 00:03:53",
          "2017-01-01 00:03:54",
          "2017-01-01 00:03:55",
          "2017-01-01 00:03:56",
          "2017-01-01 00:03:57",
          "2017-01-01 00:03:58",
          "2017-01-01 00:03:59",
          "2017-01-01 00:04:00",
          "2017-01-01 00:04:01",
          "2017-01-01 00:04:02",
          "2017-01-01 00:04:03",
          "2017-01-01 00:04:04",
          "2017-01-01 00:04:05",
          "2017-01-01 00:04:06",
          "2017-01-01 00:04:07",
          "2017-01-01 00:04:08",
          "2017-01-01 00:04:09",
          "2017-01-01 00:04:10",
          "2017-01-01 00:04:11",
          "2017-01-01 00:04:12",
          "2017-01-01 00:04:13",
          "2017-01-01 00:04:14",
          "2017-01-01 00:04:15",
          "2017-01-01 00:04:16",
          "2017-01-01 00:04:17",
          "2017-01-01 00:04:18",
          "2017-01-01 00:04:19",
          "2017-01-01 00:04:20",
          "2017-01-01 00:04:21",
          "2017-01-01 00:04:22",
          "2017-01-01 00:04:23",
          "2017-01-01 00:04:24",
          "2017-01-01 00:04:25",
          "2017-01-01 00:04:26",
          "2017-01-01 00:04:27",
          "2017-01-01 00:04:28",
          "2017-01-01 00:04:29",
          "2017-01-01 00:04:30",
          "2017-01-01 00:04:31",
          "2017-01-01 00:04:32",
          "2017-01-01 00:04:33",
          "2017-01-01 00:04:34",
          "2017-01-01 00:04:35",
          "2017-01-01 00:04:36",
          "2017-01-01 00:04:37",
          "2017-01-01 00:04:38",
          "2017-01-01 00:04:39",
          "2017-01-01 00:04:40",
          "2017-01-01 00:04:41",
          "2017-01-01 00:04:42",
          "2017-01-01 00:04:43",
          "2017-01-01 00:04:44",
          "2017-01-01 00:04:45",
          "2017-01-01 00:04:46",
          "2017-01-01 00:04:47",
          "2017-01-01 00:04:48",
          "2017-01-01 00:04:49",
          "2017-01-01 00:04:50",
          "2017-01-01 00:04:51",
          "2017-01-01 00:04:52",
          "2017-01-01 00:04:53",
          "2017-01-01 00:04:54",
          "2017-01-01 00:04:55",
          "2017-01-01 00:04:56",
          "2017-01-01 00:04:57",
          "2017-01-01 00:04:58",
          "2017-01-01 00:04:59",
          "2017-01-01 00:05:00",
          "2017-01-01 00:05:01",
          "2017-01-01 00:05:02",
          "2017-01-01 00:05:03",
          "2017-01-01 00:05:04",
          "2017-01-01 00:05:05",
          "2017-01-01 00:05:06",
          "2017-01-01 00:05:07",
          "2017-01-01 00:05:08",
          "2017-01-01 00:05:09",
          "2017-01-01 00:05:10",
          "2017-01-01 00:05:11",
          "2017-01-01 00:05:12",
          "2017-01-01 00:05:13",
          "2017-01-01 00:05:14",
          "2017-01-01 00:05:15",
          "2017-01-01 00:05:16",
          "2017-01-01 00:05:17",
          "2017-01-01 00:05:18",
          "2017-01-01 00:05:19",
          "2017-01-01 00:05:20",
          "2017-01-01 00:05:21",
          "2017-01-01 00:05:22",
          "2017-01-01 00:05:23",
          "2017-01-01 00:05:24",
          "2017-01-01 00:05:25",
          "2017-01-01 00:05:26",
          "2017-01-01 00:05:27",
          "2017-01-01 00:05:28",
          "2017-01-01 00:05:29",
          "2017-01-01 00:05:30",
          "2017-01-01 00:05:31",
          "2017-01-01 00:05:32",
          "2017-01-01 00:05:33",
          "2017-01-01 00:05:34",
          "2017-01-01 00:05:35",
          "2017-01-01 00:05:36",
          "2017-01-01 00:05:37",
          "2017-01-01 00:05:38",
          "2017-01-01 00:05:39",
          "2017-01-01 00:05:40",
          "2017-01-01 00:05:41",
          "2017-01-01 00:05:42",
          "2017-01-01 00:05:43",
          "2017-01-01 00:05:44",
          "2017-01-01 00:05:45",
          "2017-01-01 00:05:46",
          "2017-01-01 00:05:47",
          "2017-01-01 00:05:48",
          "2017-01-01 00:05:49",
          "2017-01-01 00:05:50",
          "2017-01-01 00:05:51",
          "2017-01-01 00:05:52",
          "2017-01-01 00:05:53",
          "2017-01-01 00:05:54",
          "2017-01-01 00:05:55",
          "2017-01-01 00:05:56",
          "2017-01-01 00:05:57",
          "2017-01-01 00:05:58",
          "2017-01-01 00:05:59",
          "2017-01-01 00:06:00",
          "2017-01-01 00:06:01",
          "2017-01-01 00:06:02",
          "2017-01-01 00:06:03",
          "2017-01-01 00:06:04",
          "2017-01-01 00:06:05",
          "2017-01-01 00:06:06",
          "2017-01-01 00:06:07",
          "2017-01-01 00:06:08",
          "2017-01-01 00:06:09",
          "2017-01-01 00:06:10",
          "2017-01-01 00:06:11",
          "2017-01-01 00:06:12",
          "2017-01-01 00:06:13",
          "2017-01-01 00:06:14",
          "2017-01-01 00:06:15",
          "2017-01-01 00:06:16",
          "2017-01-01 00:06:17",
          "2017-01-01 00:06:18",
          "2017-01-01 00:06:19",
          "2017-01-01 00:06:20",
          "2017-01-01 00:06:21",
          "2017-01-01 00:06:22",
          "2017-01-01 00:06:23",
          "2017-01-01 00:06:24",
          "2017-01-01 00:06:25",
          "2017-01-01 00:06:26",
          "2017-01-01 00:06:27",
          "2017-01-01 00:06:28",
          "2017-01-01 00:06:29",
          "2017-01-01 00:06:30",
          "2017-01-01 00:06:31",
          "2017-01-01 00:06:32",
          "2017-01-01 00:06:33",
          "2017-01-01 00:06:34",
          "2017-01-01 00:06:35",
          "2017-01-01 00:06:36",
          "2017-01-01 00:06:37",
          "2017-01-01 00:06:38",
          "2017-01-01 00:06:39",
          "2017-01-01 00:06:40",
          "2017-01-01 00:06:41",
          "2017-01-01 00:06:42",
          "2017-01-01 00:06:43",
          "2017-01-01 00:06:44",
          "2017-01-01 00:06:45",
          "2017-01-01 00:06:46",
          "2017-01-01 00:06:47",
          "2017-01-01 00:06:48",
          "2017-01-01 00:06:49",
          "2017-01-01 00:06:50",
          "2017-01-01 00:06:51",
          "2017-01-01 00:06:52",
          "2017-01-01 00:06:53",
          "2017-01-01 00:06:54",
          "2017-01-01 00:06:55",
          "2017-01-01 00:06:56",
          "2017-01-01 00:06:57",
          "2017-01-01 00:06:58",
          "2017-01-01 00:06:59",
          "2017-01-01 00:07:00",
          "2017-01-01 00:07:01",
          "2017-01-01 00:07:02",
          "2017-01-01 00:07:03",
          "2017-01-01 00:07:04",
          "2017-01-01 00:07:05",
          "2017-01-01 00:07:06",
          "2017-01-01 00:07:07",
          "2017-01-01 00:07:08",
          "2017-01-01 00:07:09",
          "2017-01-01 00:07:10",
          "2017-01-01 00:07:11",
          "2017-01-01 00:07:12",
          "2017-01-01 00:07:13",
          "2017-01-01 00:07:14",
          "2017-01-01 00:07:15",
          "2017-01-01 00:07:16",
          "2017-01-01 00:07:17",
          "2017-01-01 00:07:18",
          "2017-01-01 00:07:19",
          "2017-01-01 00:07:20",
          "2017-01-01 00:07:21",
          "2017-01-01 00:07:22",
          "2017-01-01 00:07:23",
          "2017-01-01 00:07:24",
          "2017-01-01 00:07:25",
          "2017-01-01 00:07:26",
          "2017-01-01 00:07:27",
          "2017-01-01 00:07:28",
          "2017-01-01 00:07:29",
          "2017-01-01 00:07:30",
          "2017-01-01 00:07:31",
          "2017-01-01 00:07:32",
          "2017-01-01 00:07:33",
          "2017-01-01 00:07:34",
          "2017-01-01 00:07:35",
          "2017-01-01 00:07:36",
          "2017-01-01 00:07:37",
          "2017-01-01 00:07:38",
          "2017-01-01 00:07:39",
          "2017-01-01 00:07:40",
          "2017-01-01 00:07:41",
          "2017-01-01 00:07:42",
          "2017-01-01 00:07:43",
          "2017-01-01 00:07:44",
          "2017-01-01 00:07:45",
          "2017-01-01 00:07:46",
          "2017-01-01 00:07:47",
          "2017-01-01 00:07:48",
          "2017-01-01 00:07:49",
          "2017-01-01 00:07:50",
          "2017-01-01 00:07:51",
          "2017-01-01 00:07:52",
          "2017-01-01 00:07:53",
          "2017-01-01 00:07:54",
          "2017-01-01 00:07:55",
          "2017-01-01 00:07:56",
          "2017-01-01 00:07:57",
          "2017-01-01 00:07:58",
          "2017-01-01 00:07:59",
          "2017-01-01 00:08:00",
          "2017-01-01 00:08:01",
          "2017-01-01 00:08:02",
          "2017-01-01 00:08:03",
          "2017-01-01 00:08:04",
          "2017-01-01 00:08:05",
          "2017-01-01 00:08:06",
          "2017-01-01 00:08:07",
          "2017-01-01 00:08:08",
          "2017-01-01 00:08:09",
          "2017-01-01 00:08:10",
          "2017-01-01 00:08:11",
          "2017-01-01 00:08:12",
          "2017-01-01 00:08:13",
          "2017-01-01 00:08:14",
          "2017-01-01 00:08:15",
          "2017-01-01 00:08:16",
          "2017-01-01 00:08:17",
          "2017-01-01 00:08:18",
          "2017-01-01 00:08:19",
          "2017-01-01 00:08:20",
          "2017-01-01 00:08:21",
          "2017-01-01 00:08:22",
          "2017-01-01 00:08:23",
          "2017-01-01 00:08:24",
          "2017-01-01 00:08:25",
          "2017-01-01 00:08:26",
          "2017-01-01 00:08:27",
          "2017-01-01 00:08:28",
          "2017-01-01 00:08:29",
          "2017-01-01 00:08:30",
          "2017-01-01 00:08:31",
          "2017-01-01 00:08:32",
          "2017-01-01 00:08:33",
          "2017-01-01 00:08:34",
          "2017-01-01 00:08:35",
          "2017-01-01 00:08:36",
          "2017-01-01 00:08:37",
          "2017-01-01 00:08:38",
          "2017-01-01 00:08:39",
          "2017-01-01 00:08:40",
          "2017-01-01 00:08:41",
          "2017-01-01 00:08:42",
          "2017-01-01 00:08:43",
          "2017-01-01 00:08:44",
          "2017-01-01 00:08:45",
          "2017-01-01 00:08:46",
          "2017-01-01 00:08:47",
          "2017-01-01 00:08:48",
          "2017-01-01 00:08:49",
          "2017-01-01 00:08:50",
          "2017-01-01 00:08:51",
          "2017-01-01 00:08:52",
          "2017-01-01 00:08:53",
          "2017-01-01 00:08:54",
          "2017-01-01 00:08:55",
          "2017-01-01 00:08:56",
          "2017-01-01 00:08:57",
          "2017-01-01 00:08:58",
          "2017-01-01 00:08:59",
          "2017-01-01 00:09:00",
          "2017-01-01 00:09:01",
          "2017-01-01 00:09:02",
          "2017-01-01 00:09:03",
          "2017-01-01 00:09:04",
          "2017-01-01 00:09:05",
          "2017-01-01 00:09:06",
          "2017-01-01 00:09:07",
          "2017-01-01 00:09:08",
          "2017-01-01 00:09:09",
          "2017-01-01 00:09:10",
          "2017-01-01 00:09:11",
          "2017-01-01 00:09:12",
          "2017-01-01 00:09:13",
          "2017-01-01 00:09:14",
          "2017-01-01 00:09:15",
          "2017-01-01 00:09:16",
          "2017-01-01 00:09:17",
          "2017-01-01 00:09:18",
          "2017-01-01 00:09:19",
          "2017-01-01 00:09:20",
          "2017-01-01 00:09:21",
          "2017-01-01 00:09:22",
          "2017-01-01 00:09:23",
          "2017-01-01 00:09:24",
          "2017-01-01 00:09:25",
          "2017-01-01 00:09:26",
          "2017-01-01 00:09:27",
          "2017-01-01 00:09:28",
          "2017-01-01 00:09:29",
          "2017-01-01 00:09:30",
          "2017-01-01 00:09:31",
          "2017-01-01 00:09:32",
          "2017-01-01 00:09:33",
          "2017-01-01 00:09:34",
          "2017-01-01 00:09:35",
          "2017-01-01 00:09:36",
          "2017-01-01 00:09:37",
          "2017-01-01 00:09:38",
          "2017-01-01 00:09:39",
          "2017-01-01 00:09:40",
          "2017-01-01 00:09:41",
          "2017-01-01 00:09:42",
          "2017-01-01 00:09:43",
          "2017-01-01 00:09:44",
          "2017-01-01 00:09:45",
          "2017-01-01 00:09:46",
          "2017-01-01 00:09:47",
          "2017-01-01 00:09:48",
          "2017-01-01 00:09:49",
          "2017-01-01 00:09:50",
          "2017-01-01 00:09:51",
          "2017-01-01 00:09:52",
          "2017-01-01 00:09:53",
          "2017-01-01 00:09:54",
          "2017-01-01 00:09:55",
          "2017-01-01 00:09:56",
          "2017-01-01 00:09:57",
          "2017-01-01 00:09:58",
          "2017-01-01 00:09:59",
          "2017-01-01 00:10:00",
          "2017-01-01 00:10:01",
          "2017-01-01 00:10:02",
          "2017-01-01 00:10:03",
          "2017-01-01 00:10:04",
          "2017-01-01 00:10:05",
          "2017-01-01 00:10:06",
          "2017-01-01 00:10:07",
          "2017-01-01 00:10:08",
          "2017-01-01 00:10:09",
          "2017-01-01 00:10:10",
          "2017-01-01 00:10:11",
          "2017-01-01 00:10:12",
          "2017-01-01 00:10:13",
          "2017-01-01 00:10:14",
          "2017-01-01 00:10:15",
          "2017-01-01 00:10:16",
          "2017-01-01 00:10:17",
          "2017-01-01 00:10:18",
          "2017-01-01 00:10:19",
          "2017-01-01 00:10:20",
          "2017-01-01 00:10:21",
          "2017-01-01 00:10:22",
          "2017-01-01 00:10:23",
          "2017-01-01 00:10:24",
          "2017-01-01 00:10:25",
          "2017-01-01 00:10:26",
          "2017-01-01 00:10:27",
          "2017-01-01 00:10:28",
          "2017-01-01 00:10:29",
          "2017-01-01 00:10:30",
          "2017-01-01 00:10:31",
          "2017-01-01 00:10:32",
          "2017-01-01 00:10:33",
          "2017-01-01 00:10:34",
          "2017-01-01 00:10:35",
          "2017-01-01 00:10:36",
          "2017-01-01 00:10:37",
          "2017-01-01 00:10:38",
          "2017-01-01 00:10:39",
          "2017-01-01 00:10:40",
          "2017-01-01 00:10:41",
          "2017-01-01 00:10:42",
          "2017-01-01 00:10:43",
          "2017-01-01 00:10:44",
          "2017-01-01 00:10:45",
          "2017-01-01 00:10:46",
          "2017-01-01 00:10:47",
          "2017-01-01 00:10:48",
          "2017-01-01 00:10:49",
          "2017-01-01 00:10:50",
          "2017-01-01 00:10:51",
          "2017-01-01 00:10:52",
          "2017-01-01 00:10:53",
          "2017-01-01 00:10:54",
          "2017-01-01 00:10:55",
          "2017-01-01 00:10:56",
          "2017-01-01 00:10:57",
          "2017-01-01 00:10:58",
          "2017-01-01 00:10:59",
          "2017-01-01 00:11:00",
          "2017-01-01 00:11:01",
          "2017-01-01 00:11:02",
          "2017-01-01 00:11:03",
          "2017-01-01 00:11:04",
          "2017-01-01 00:11:05",
          "2017-01-01 00:11:06",
          "2017-01-01 00:11:07",
          "2017-01-01 00:11:08",
          "2017-01-01 00:11:09",
          "2017-01-01 00:11:10",
          "2017-01-01 00:11:11",
          "2017-01-01 00:11:12",
          "2017-01-01 00:11:13",
          "2017-01-01 00:11:14",
          "2017-01-01 00:11:15",
          "2017-01-01 00:11:16",
          "2017-01-01 00:11:17",
          "2017-01-01 00:11:18",
          "2017-01-01 00:11:19",
          "2017-01-01 00:11:20",
          "2017-01-01 00:11:21",
          "2017-01-01 00:11:22",
          "2017-01-01 00:11:23",
          "2017-01-01 00:11:24",
          "2017-01-01 00:11:25",
          "2017-01-01 00:11:26",
          "2017-01-01 00:11:27",
          "2017-01-01 00:11:28",
          "2017-01-01 00:11:29",
          "2017-01-01 00:11:30",
          "2017-01-01 00:11:31",
          "2017-01-01 00:11:32",
          "2017-01-01 00:11:33",
          "2017-01-01 00:11:34",
          "2017-01-01 00:11:35",
          "2017-01-01 00:11:36",
          "2017-01-01 00:11:37",
          "2017-01-01 00:11:38",
          "2017-01-01 00:11:39",
          "2017-01-01 00:11:40",
          "2017-01-01 00:11:41",
          "2017-01-01 00:11:42",
          "2017-01-01 00:11:43",
          "2017-01-01 00:11:44",
          "2017-01-01 00:11:45",
          "2017-01-01 00:11:46",
          "2017-01-01 00:11:47",
          "2017-01-01 00:11:48",
          "2017-01-01 00:11:49",
          "2017-01-01 00:11:50",
          "2017-01-01 00:11:51",
          "2017-01-01 00:11:52",
          "2017-01-01 00:11:53",
          "2017-01-01 00:11:54",
          "2017-01-01 00:11:55",
          "2017-01-01 00:11:56",
          "2017-01-01 00:11:57",
          "2017-01-01 00:11:58",
          "2017-01-01 00:11:59",
          "2017-01-01 00:12:00",
          "2017-01-01 00:12:01",
          "2017-01-01 00:12:02",
          "2017-01-01 00:12:03",
          "2017-01-01 00:12:04",
          "2017-01-01 00:12:05",
          "2017-01-01 00:12:06",
          "2017-01-01 00:12:07",
          "2017-01-01 00:12:08",
          "2017-01-01 00:12:09",
          "2017-01-01 00:12:10",
          "2017-01-01 00:12:11",
          "2017-01-01 00:12:12",
          "2017-01-01 00:12:13",
          "2017-01-01 00:12:14",
          "2017-01-01 00:12:15",
          "2017-01-01 00:12:16",
          "2017-01-01 00:12:17",
          "2017-01-01 00:12:18",
          "2017-01-01 00:12:19",
          "2017-01-01 00:12:20",
          "2017-01-01 00:12:21",
          "2017-01-01 00:12:22",
          "2017-01-01 00:12:23",
          "2017-01-01 00:12:24",
          "2017-01-01 00:12:25",
          "2017-01-01 00:12:26",
          "2017-01-01 00:12:27",
          "2017-01-01 00:12:28",
          "2017-01-01 00:12:29",
          "2017-01-01 00:12:30",
          "2017-01-01 00:12:31",
          "2017-01-01 00:12:32",
          "2017-01-01 00:12:33",
          "2017-01-01 00:12:34",
          "2017-01-01 00:12:35",
          "2017-01-01 00:12:36",
          "2017-01-01 00:12:37",
          "2017-01-01 00:12:38",
          "2017-01-01 00:12:39",
          "2017-01-01 00:12:40",
          "2017-01-01 00:12:41",
          "2017-01-01 00:12:42",
          "2017-01-01 00:12:43",
          "2017-01-01 00:12:44",
          "2017-01-01 00:12:45",
          "2017-01-01 00:12:46",
          "2017-01-01 00:12:47",
          "2017-01-01 00:12:48",
          "2017-01-01 00:12:49",
          "2017-01-01 00:12:50",
          "2017-01-01 00:12:51",
          "2017-01-01 00:12:52",
          "2017-01-01 00:12:53",
          "2017-01-01 00:12:54",
          "2017-01-01 00:12:55",
          "2017-01-01 00:12:56",
          "2017-01-01 00:12:57",
          "2017-01-01 00:12:58",
          "2017-01-01 00:12:59",
          "2017-01-01 00:13:00",
          "2017-01-01 00:13:01",
          "2017-01-01 00:13:02",
          "2017-01-01 00:13:03",
          "2017-01-01 00:13:04",
          "2017-01-01 00:13:05",
          "2017-01-01 00:13:06",
          "2017-01-01 00:13:07",
          "2017-01-01 00:13:08",
          "2017-01-01 00:13:09",
          "2017-01-01 00:13:10",
          "2017-01-01 00:13:11",
          "2017-01-01 00:13:12",
          "2017-01-01 00:13:13",
          "2017-01-01 00:13:14",
          "2017-01-01 00:13:15",
          "2017-01-01 00:13:16",
          "2017-01-01 00:13:17",
          "2017-01-01 00:13:18",
          "2017-01-01 00:13:19",
          "2017-01-01 00:13:20",
          "2017-01-01 00:13:21",
          "2017-01-01 00:13:22",
          "2017-01-01 00:13:23",
          "2017-01-01 00:13:24",
          "2017-01-01 00:13:25",
          "2017-01-01 00:13:26",
          "2017-01-01 00:13:27",
          "2017-01-01 00:13:28",
          "2017-01-01 00:13:29",
          "2017-01-01 00:13:30",
          "2017-01-01 00:13:31",
          "2017-01-01 00:13:32",
          "2017-01-01 00:13:33",
          "2017-01-01 00:13:34",
          "2017-01-01 00:13:35",
          "2017-01-01 00:13:36",
          "2017-01-01 00:13:37",
          "2017-01-01 00:13:38",
          "2017-01-01 00:13:39",
          "2017-01-01 00:13:40",
          "2017-01-01 00:13:41",
          "2017-01-01 00:13:42",
          "2017-01-01 00:13:43",
          "2017-01-01 00:13:44",
          "2017-01-01 00:13:45",
          "2017-01-01 00:13:46",
          "2017-01-01 00:13:47",
          "2017-01-01 00:13:48",
          "2017-01-01 00:13:49",
          "2017-01-01 00:13:50",
          "2017-01-01 00:13:51",
          "2017-01-01 00:13:52",
          "2017-01-01 00:13:53",
          "2017-01-01 00:13:54",
          "2017-01-01 00:13:55",
          "2017-01-01 00:13:56",
          "2017-01-01 00:13:57",
          "2017-01-01 00:13:58",
          "2017-01-01 00:13:59",
          "2017-01-01 00:14:00",
          "2017-01-01 00:14:01",
          "2017-01-01 00:14:02",
          "2017-01-01 00:14:03",
          "2017-01-01 00:14:04",
          "2017-01-01 00:14:05",
          "2017-01-01 00:14:06",
          "2017-01-01 00:14:07",
          "2017-01-01 00:14:08",
          "2017-01-01 00:14:09",
          "2017-01-01 00:14:10",
          "2017-01-01 00:14:11",
          "2017-01-01 00:14:12",
          "2017-01-01 00:14:13",
          "2017-01-01 00:14:14",
          "2017-01-01 00:14:15",
          "2017-01-01 00:14:16",
          "2017-01-01 00:14:17",
          "2017-01-01 00:14:18",
          "2017-01-01 00:14:19",
          "2017-01-01 00:14:20",
          "2017-01-01 00:14:21",
          "2017-01-01 00:14:22",
          "2017-01-01 00:14:23",
          "2017-01-01 00:14:24",
          "2017-01-01 00:14:25",
          "2017-01-01 00:14:26",
          "2017-01-01 00:14:27",
          "2017-01-01 00:14:28",
          "2017-01-01 00:14:29",
          "2017-01-01 00:14:30",
          "2017-01-01 00:14:31",
          "2017-01-01 00:14:32",
          "2017-01-01 00:14:33",
          "2017-01-01 00:14:34",
          "2017-01-01 00:14:35",
          "2017-01-01 00:14:36",
          "2017-01-01 00:14:37",
          "2017-01-01 00:14:38",
          "2017-01-01 00:14:39",
          "2017-01-01 00:14:40",
          "2017-01-01 00:14:41",
          "2017-01-01 00:14:42",
          "2017-01-01 00:14:43",
          "2017-01-01 00:14:44",
          "2017-01-01 00:14:45",
          "2017-01-01 00:14:46",
          "2017-01-01 00:14:47",
          "2017-01-01 00:14:48",
          "2017-01-01 00:14:49",
          "2017-01-01 00:14:50",
          "2017-01-01 00:14:51",
          "2017-01-01 00:14:52",
          "2017-01-01 00:14:53",
          "2017-01-01 00:14:54",
          "2017-01-01 00:14:55",
          "2017-01-01 00:14:56",
          "2017-01-01 00:14:57",
          "2017-01-01 00:14:58",
          "2017-01-01 00:14:59",
          "2017-01-01 00:15:00",
          "2017-01-01 00:15:01",
          "2017-01-01 00:15:02",
          "2017-01-01 00:15:03",
          "2017-01-01 00:15:04",
          "2017-01-01 00:15:05",
          "2017-01-01 00:15:06",
          "2017-01-01 00:15:07",
          "2017-01-01 00:15:08",
          "2017-01-01 00:15:09",
          "2017-01-01 00:15:10",
          "2017-01-01 00:15:11",
          "2017-01-01 00:15:12",
          "2017-01-01 00:15:13",
          "2017-01-01 00:15:14",
          "2017-01-01 00:15:15",
          "2017-01-01 00:15:16",
          "2017-01-01 00:15:17",
          "2017-01-01 00:15:18",
          "2017-01-01 00:15:19",
          "2017-01-01 00:15:20",
          "2017-01-01 00:15:21",
          "2017-01-01 00:15:22",
          "2017-01-01 00:15:23",
          "2017-01-01 00:15:24",
          "2017-01-01 00:15:25",
          "2017-01-01 00:15:26",
          "2017-01-01 00:15:27",
          "2017-01-01 00:15:28",
          "2017-01-01 00:15:29",
          "2017-01-01 00:15:30",
          "2017-01-01 00:15:31",
          "2017-01-01 00:15:32",
          "2017-01-01 00:15:33",
          "2017-01-01 00:15:34",
          "2017-01-01 00:15:35",
          "2017-01-01 00:15:36",
          "2017-01-01 00:15:37",
          "2017-01-01 00:15:38",
          "2017-01-01 00:15:39",
          "2017-01-01 00:15:40",
          "2017-01-01 00:15:41",
          "2017-01-01 00:15:42",
          "2017-01-01 00:15:43",
          "2017-01-01 00:15:44",
          "2017-01-01 00:15:45",
          "2017-01-01 00:15:46",
          "2017-01-01 00:15:47",
          "2017-01-01 00:15:48",
          "2017-01-01 00:15:49",
          "2017-01-01 00:15:50",
          "2017-01-01 00:15:51",
          "2017-01-01 00:15:52",
          "2017-01-01 00:15:53",
          "2017-01-01 00:15:54",
          "2017-01-01 00:15:55",
          "2017-01-01 00:15:56",
          "2017-01-01 00:15:57",
          "2017-01-01 00:15:58",
          "2017-01-01 00:15:59",
          "2017-01-01 00:16:00",
          "2017-01-01 00:16:01",
          "2017-01-01 00:16:02",
          "2017-01-01 00:16:03",
          "2017-01-01 00:16:04",
          "2017-01-01 00:16:05",
          "2017-01-01 00:16:06",
          "2017-01-01 00:16:07",
          "2017-01-01 00:16:08",
          "2017-01-01 00:16:09",
          "2017-01-01 00:16:10",
          "2017-01-01 00:16:11",
          "2017-01-01 00:16:12",
          "2017-01-01 00:16:13",
          "2017-01-01 00:16:14",
          "2017-01-01 00:16:15",
          "2017-01-01 00:16:16",
          "2017-01-01 00:16:17",
          "2017-01-01 00:16:18",
          "2017-01-01 00:16:19",
          "2017-01-01 00:16:20",
          "2017-01-01 00:16:21",
          "2017-01-01 00:16:22",
          "2017-01-01 00:16:23",
          "2017-01-01 00:16:24",
          "2017-01-01 00:16:25",
          "2017-01-01 00:16:26",
          "2017-01-01 00:16:27",
          "2017-01-01 00:16:28",
          "2017-01-01 00:16:29",
          "2017-01-01 00:16:30",
          "2017-01-01 00:16:31",
          "2017-01-01 00:16:32",
          "2017-01-01 00:16:33",
          "2017-01-01 00:16:34",
          "2017-01-01 00:16:35",
          "2017-01-01 00:16:36",
          "2017-01-01 00:16:37",
          "2017-01-01 00:16:38",
          "2017-01-01 00:16:39"
         ],
         "y": [
          24,
          105,
          142,
          440,
          169,
          419,
          76,
          226,
          334,
          339,
          322,
          263,
          274,
          259,
          250,
          449,
          480,
          7,
          39,
          298,
          418,
          85,
          112,
          380,
          109,
          11,
          472,
          411,
          79,
          76,
          316,
          492,
          84,
          475,
          472,
          272,
          450,
          423,
          87,
          445,
          51,
          279,
          384,
          283,
          122,
          388,
          411,
          204,
          141,
          115,
          78,
          426,
          452,
          69,
          142,
          308,
          481,
          400,
          231,
          172,
          204,
          300,
          53,
          10,
          364,
          48,
          304,
          347,
          212,
          12,
          83,
          44,
          82,
          472,
          389,
          5,
          329,
          268,
          100,
          325,
          422,
          367,
          338,
          233,
          12,
          44,
          347,
          275,
          225,
          272,
          320,
          328,
          384,
          42,
          105,
          229,
          115,
          80,
          104,
          167,
          448,
          347,
          459,
          403,
          170,
          495,
          439,
          448,
          472,
          318,
          19,
          107,
          462,
          344,
          188,
          476,
          221,
          223,
          307,
          393,
          147,
          321,
          353,
          119,
          338,
          42,
          55,
          63,
          342,
          198,
          247,
          264,
          233,
          492,
          23,
          107,
          453,
          477,
          135,
          432,
          56,
          169,
          392,
          152,
          204,
          223,
          109,
          71,
          399,
          221,
          177,
          198,
          485,
          282,
          498,
          123,
          182,
          377,
          64,
          4,
          206,
          122,
          131,
          270,
          479,
          452,
          439,
          495,
          209,
          21,
          240,
          59,
          39,
          1,
          191,
          324,
          106,
          404,
          261,
          421,
          469,
          57,
          115,
          44,
          184,
          306,
          174,
          471,
          4,
          321,
          216,
          70,
          13,
          132,
          310,
          333,
          169,
          254,
          454,
          179,
          261,
          197,
          147,
          377,
          121,
          0,
          31,
          145,
          162,
          240,
          184,
          30,
          237,
          310,
          259,
          61,
          123,
          256,
          156,
          431,
          6,
          188,
          57,
          295,
          482,
          152,
          92,
          240,
          238,
          76,
          319,
          208,
          143,
          295,
          202,
          439,
          95,
          93,
          93,
          113,
          226,
          469,
          376,
          5,
          79,
          180,
          458,
          23,
          378,
          410,
          486,
          290,
          230,
          298,
          20,
          284,
          422,
          404,
          262,
          240,
          207,
          89,
          486,
          205,
          373,
          459,
          3,
          416,
          92,
          23,
          377,
          352,
          493,
          258,
          400,
          156,
          415,
          411,
          177,
          462,
          147,
          305,
          43,
          135,
          405,
          13,
          237,
          230,
          361,
          366,
          188,
          268,
          321,
          204,
          222,
          364,
          354,
          383,
          477,
          25,
          256,
          163,
          239,
          216,
          333,
          460,
          403,
          266,
          4,
          284,
          199,
          411,
          399,
          23,
          194,
          43,
          314,
          290,
          400,
          394,
          98,
          58,
          487,
          262,
          88,
          495,
          83,
          177,
          226,
          266,
          269,
          421,
          487,
          80,
          196,
          0,
          166,
          405,
          145,
          95,
          13,
          125,
          294,
          116,
          488,
          214,
          335,
          396,
          481,
          1,
          348,
          188,
          434,
          33,
          87,
          143,
          225,
          298,
          254,
          280,
          332,
          302,
          239,
          453,
          315,
          196,
          445,
          0,
          238,
          286,
          212,
          371,
          383,
          482,
          32,
          274,
          103,
          188,
          248,
          357,
          348,
          160,
          400,
          332,
          83,
          489,
          397,
          310,
          262,
          74,
          429,
          118,
          432,
          141,
          54,
          15,
          224,
          84,
          330,
          269,
          18,
          482,
          287,
          261,
          170,
          349,
          441,
          402,
          299,
          477,
          82,
          68,
          407,
          128,
          25,
          159,
          81,
          94,
          385,
          117,
          252,
          207,
          320,
          21,
          403,
          334,
          174,
          274,
          363,
          439,
          448,
          445,
          77,
          295,
          269,
          459,
          83,
          81,
          37,
          281,
          305,
          61,
          387,
          471,
          71,
          158,
          241,
          366,
          407,
          459,
          285,
          307,
          303,
          98,
          236,
          258,
          108,
          47,
          50,
          62,
          122,
          372,
          221,
          13,
          376,
          466,
          326,
          115,
          0,
          391,
          295,
          86,
          217,
          330,
          101,
          143,
          425,
          3,
          414,
          303,
          359,
          206,
          195,
          13,
          126,
          234,
          39,
          445,
          446,
          303,
          12,
          279,
          95,
          311,
          257,
          2,
          359,
          102,
          8,
          60,
          79,
          423,
          443,
          402,
          467,
          5,
          486,
          53,
          215,
          359,
          383,
          184,
          82,
          233,
          158,
          219,
          70,
          1,
          307,
          31,
          234,
          273,
          437,
          385,
          295,
          415,
          321,
          211,
          216,
          405,
          138,
          333,
          373,
          409,
          51,
          70,
          289,
          76,
          466,
          25,
          118,
          35,
          474,
          303,
          448,
          21,
          434,
          319,
          383,
          106,
          78,
          261,
          176,
          271,
          165,
          46,
          178,
          235,
          144,
          231,
          250,
          379,
          179,
          27,
          324,
          111,
          259,
          307,
          16,
          446,
          388,
          157,
          146,
          391,
          91,
          251,
          293,
          427,
          462,
          73,
          204,
          97,
          254,
          435,
          404,
          29,
          214,
          260,
          83,
          98,
          285,
          371,
          10,
          299,
          254,
          421,
          5,
          364,
          356,
          370,
          348,
          173,
          112,
          247,
          186,
          414,
          365,
          164,
          232,
          155,
          480,
          266,
          496,
          471,
          77,
          488,
          411,
          171,
          167,
          264,
          347,
          53,
          13,
          255,
          141,
          143,
          448,
          152,
          364,
          161,
          472,
          125,
          250,
          249,
          370,
          206,
          7,
          2,
          61,
          270,
          379,
          110,
          16,
          385,
          89,
          63,
          375,
          153,
          172,
          87,
          291,
          433,
          108,
          204,
          101,
          456,
          147,
          268,
          62,
          423,
          475,
          183,
          155,
          357,
          40,
          457,
          114,
          219,
          116,
          205,
          103,
          76,
          443,
          360,
          248,
          337,
          84,
          414,
          171,
          97,
          215,
          56,
          383,
          204,
          279,
          29,
          77,
          354,
          427,
          90,
          13,
          143,
          211,
          229,
          384,
          79,
          316,
          70,
          351,
          195,
          151,
          473,
          142,
          239,
          241,
          266,
          439,
          178,
          429,
          368,
          179,
          269,
          98,
          185,
          11,
          279,
          15,
          18,
          365,
          410,
          491,
          134,
          338,
          206,
          287,
          284,
          472,
          104,
          345,
          26,
          115,
          250,
          470,
          52,
          428,
          263,
          193,
          308,
          478,
          277,
          254,
          86,
          204,
          68,
          449,
          126,
          326,
          211,
          474,
          290,
          58,
          167,
          146,
          297,
          426,
          405,
          61,
          368,
          427,
          132,
          329,
          470,
          269,
          77,
          275,
          116,
          50,
          77,
          145,
          152,
          378,
          153,
          181,
          407,
          420,
          164,
          26,
          55,
          155,
          389,
          59,
          355,
          229,
          22,
          351,
          357,
          102,
          152,
          161,
          432,
          453,
          188,
          44,
          73,
          96,
          366,
          129,
          7,
          87,
          256,
          333,
          276,
          476,
          493,
          22,
          197,
          162,
          101,
          50,
          84,
          309,
          426,
          21,
          286,
          89,
          385,
          267,
          227,
          350,
          243,
          473,
          479,
          226,
          150,
          17,
          452,
          417,
          305,
          332,
          366,
          301,
          17,
          442,
          301,
          149,
          248,
          109,
          382,
          219,
          379,
          334,
          339,
          368,
          150,
          147,
          251,
          224,
          485,
          221,
          353,
          82,
          234,
          464,
          158,
          388,
          155,
          79,
          114,
          83,
          89,
          96,
          320,
          420,
          220,
          52,
          305,
          15,
          46,
          275,
          121,
          19,
          441,
          207,
          22,
          26,
          409,
          2,
          203,
          11,
          94,
          305,
          338,
          415,
          156,
          190,
          248,
          182,
          155,
          124,
          379,
          224,
          232,
          431,
          344,
          212,
          335,
          486,
          490,
          223,
          431,
          22,
          98,
          17,
          346,
          181,
          130,
          117,
          349,
          150,
          210,
          495,
          356,
          145,
          472,
          451,
          111,
          161,
          118,
          74,
          457,
          300,
          271,
          234,
          289,
          301,
          373,
          265,
          499,
          454,
          427,
          141,
          256,
          251,
          446,
          41,
          441,
          418,
          437,
          161,
          411,
          207,
          435,
          364,
          311,
          213,
          106,
          324,
          389,
          24,
          358,
          487,
          171,
          197,
          168,
          343,
          476,
          444,
          91,
          151,
          35,
          461,
          407,
          406,
          409,
          262,
          100,
          25,
          162,
          461,
          35,
          263,
          315,
          45,
          369,
          453,
          236,
          198,
          166,
          457,
          182,
          212,
          335,
          293,
          435,
          265,
          230,
          218,
          32,
          367,
          467,
          140,
          255,
          234,
          258,
          428,
          29,
          307,
          475,
          180,
          41
         ]
        }
       ],
       "layout": {
        "legend": {
         "bgcolor": "#F5F6F9",
         "font": {
          "color": "#4D5663"
         }
        },
        "paper_bgcolor": "#F5F6F9",
        "plot_bgcolor": "#F5F6F9",
        "titlefont": {
         "color": "#4D5663"
        },
        "xaxis1": {
         "gridcolor": "#E1E5ED",
         "showgrid": true,
         "tickfont": {
          "color": "#4D5663"
         },
         "title": "",
         "titlefont": {
          "color": "#4D5663"
         },
         "zerolinecolor": "#E1E5ED"
        },
        "yaxis1": {
         "gridcolor": "#E1E5ED",
         "showgrid": true,
         "tickfont": {
          "color": "#4D5663"
         },
         "title": "",
         "titlefont": {
          "color": "#4D5663"
         },
         "zerolinecolor": "#E1E5ED"
        }
       }
      },
      "text/html": [
       "<div id=\"1f46823f-7f32-4620-a046-e2f6c64ba9e3\" style=\"height: 525px; width: 100%;\" class=\"plotly-graph-div\"></div><script type=\"text/javascript\">require([\"plotly\"], function(Plotly) { window.PLOTLYENV=window.PLOTLYENV || {};window.PLOTLYENV.BASE_URL=\"https://plot.ly\";Plotly.newPlot(\"1f46823f-7f32-4620-a046-e2f6c64ba9e3\", [{\"name\": \"None\", \"text\": \"\", \"mode\": \"lines\", \"y\": [24, 105, 142, 440, 169, 419, 76, 226, 334, 339, 322, 263, 274, 259, 250, 449, 480, 7, 39, 298, 418, 85, 112, 380, 109, 11, 472, 411, 79, 76, 316, 492, 84, 475, 472, 272, 450, 423, 87, 445, 51, 279, 384, 283, 122, 388, 411, 204, 141, 115, 78, 426, 452, 69, 142, 308, 481, 400, 231, 172, 204, 300, 53, 10, 364, 48, 304, 347, 212, 12, 83, 44, 82, 472, 389, 5, 329, 268, 100, 325, 422, 367, 338, 233, 12, 44, 347, 275, 225, 272, 320, 328, 384, 42, 105, 229, 115, 80, 104, 167, 448, 347, 459, 403, 170, 495, 439, 448, 472, 318, 19, 107, 462, 344, 188, 476, 221, 223, 307, 393, 147, 321, 353, 119, 338, 42, 55, 63, 342, 198, 247, 264, 233, 492, 23, 107, 453, 477, 135, 432, 56, 169, 392, 152, 204, 223, 109, 71, 399, 221, 177, 198, 485, 282, 498, 123, 182, 377, 64, 4, 206, 122, 131, 270, 479, 452, 439, 495, 209, 21, 240, 59, 39, 1, 191, 324, 106, 404, 261, 421, 469, 57, 115, 44, 184, 306, 174, 471, 4, 321, 216, 70, 13, 132, 310, 333, 169, 254, 454, 179, 261, 197, 147, 377, 121, 0, 31, 145, 162, 240, 184, 30, 237, 310, 259, 61, 123, 256, 156, 431, 6, 188, 57, 295, 482, 152, 92, 240, 238, 76, 319, 208, 143, 295, 202, 439, 95, 93, 93, 113, 226, 469, 376, 5, 79, 180, 458, 23, 378, 410, 486, 290, 230, 298, 20, 284, 422, 404, 262, 240, 207, 89, 486, 205, 373, 459, 3, 416, 92, 23, 377, 352, 493, 258, 400, 156, 415, 411, 177, 462, 147, 305, 43, 135, 405, 13, 237, 230, 361, 366, 188, 268, 321, 204, 222, 364, 354, 383, 477, 25, 256, 163, 239, 216, 333, 460, 403, 266, 4, 284, 199, 411, 399, 23, 194, 43, 314, 290, 400, 394, 98, 58, 487, 262, 88, 495, 83, 177, 226, 266, 269, 421, 487, 80, 196, 0, 166, 405, 145, 95, 13, 125, 294, 116, 488, 214, 335, 396, 481, 1, 348, 188, 434, 33, 87, 143, 225, 298, 254, 280, 332, 302, 239, 453, 315, 196, 445, 0, 238, 286, 212, 371, 383, 482, 32, 274, 103, 188, 248, 357, 348, 160, 400, 332, 83, 489, 397, 310, 262, 74, 429, 118, 432, 141, 54, 15, 224, 84, 330, 269, 18, 482, 287, 261, 170, 349, 441, 402, 299, 477, 82, 68, 407, 128, 25, 159, 81, 94, 385, 117, 252, 207, 320, 21, 403, 334, 174, 274, 363, 439, 448, 445, 77, 295, 269, 459, 83, 81, 37, 281, 305, 61, 387, 471, 71, 158, 241, 366, 407, 459, 285, 307, 303, 98, 236, 258, 108, 47, 50, 62, 122, 372, 221, 13, 376, 466, 326, 115, 0, 391, 295, 86, 217, 330, 101, 143, 425, 3, 414, 303, 359, 206, 195, 13, 126, 234, 39, 445, 446, 303, 12, 279, 95, 311, 257, 2, 359, 102, 8, 60, 79, 423, 443, 402, 467, 5, 486, 53, 215, 359, 383, 184, 82, 233, 158, 219, 70, 1, 307, 31, 234, 273, 437, 385, 295, 415, 321, 211, 216, 405, 138, 333, 373, 409, 51, 70, 289, 76, 466, 25, 118, 35, 474, 303, 448, 21, 434, 319, 383, 106, 78, 261, 176, 271, 165, 46, 178, 235, 144, 231, 250, 379, 179, 27, 324, 111, 259, 307, 16, 446, 388, 157, 146, 391, 91, 251, 293, 427, 462, 73, 204, 97, 254, 435, 404, 29, 214, 260, 83, 98, 285, 371, 10, 299, 254, 421, 5, 364, 356, 370, 348, 173, 112, 247, 186, 414, 365, 164, 232, 155, 480, 266, 496, 471, 77, 488, 411, 171, 167, 264, 347, 53, 13, 255, 141, 143, 448, 152, 364, 161, 472, 125, 250, 249, 370, 206, 7, 2, 61, 270, 379, 110, 16, 385, 89, 63, 375, 153, 172, 87, 291, 433, 108, 204, 101, 456, 147, 268, 62, 423, 475, 183, 155, 357, 40, 457, 114, 219, 116, 205, 103, 76, 443, 360, 248, 337, 84, 414, 171, 97, 215, 56, 383, 204, 279, 29, 77, 354, 427, 90, 13, 143, 211, 229, 384, 79, 316, 70, 351, 195, 151, 473, 142, 239, 241, 266, 439, 178, 429, 368, 179, 269, 98, 185, 11, 279, 15, 18, 365, 410, 491, 134, 338, 206, 287, 284, 472, 104, 345, 26, 115, 250, 470, 52, 428, 263, 193, 308, 478, 277, 254, 86, 204, 68, 449, 126, 326, 211, 474, 290, 58, 167, 146, 297, 426, 405, 61, 368, 427, 132, 329, 470, 269, 77, 275, 116, 50, 77, 145, 152, 378, 153, 181, 407, 420, 164, 26, 55, 155, 389, 59, 355, 229, 22, 351, 357, 102, 152, 161, 432, 453, 188, 44, 73, 96, 366, 129, 7, 87, 256, 333, 276, 476, 493, 22, 197, 162, 101, 50, 84, 309, 426, 21, 286, 89, 385, 267, 227, 350, 243, 473, 479, 226, 150, 17, 452, 417, 305, 332, 366, 301, 17, 442, 301, 149, 248, 109, 382, 219, 379, 334, 339, 368, 150, 147, 251, 224, 485, 221, 353, 82, 234, 464, 158, 388, 155, 79, 114, 83, 89, 96, 320, 420, 220, 52, 305, 15, 46, 275, 121, 19, 441, 207, 22, 26, 409, 2, 203, 11, 94, 305, 338, 415, 156, 190, 248, 182, 155, 124, 379, 224, 232, 431, 344, 212, 335, 486, 490, 223, 431, 22, 98, 17, 346, 181, 130, 117, 349, 150, 210, 495, 356, 145, 472, 451, 111, 161, 118, 74, 457, 300, 271, 234, 289, 301, 373, 265, 499, 454, 427, 141, 256, 251, 446, 41, 441, 418, 437, 161, 411, 207, 435, 364, 311, 213, 106, 324, 389, 24, 358, 487, 171, 197, 168, 343, 476, 444, 91, 151, 35, 461, 407, 406, 409, 262, 100, 25, 162, 461, 35, 263, 315, 45, 369, 453, 236, 198, 166, 457, 182, 212, 335, 293, 435, 265, 230, 218, 32, 367, 467, 140, 255, 234, 258, 428, 29, 307, 475, 180, 41], \"x\": [\"2017-01-01 00:00:00\", \"2017-01-01 00:00:01\", \"2017-01-01 00:00:02\", \"2017-01-01 00:00:03\", \"2017-01-01 00:00:04\", \"2017-01-01 00:00:05\", \"2017-01-01 00:00:06\", \"2017-01-01 00:00:07\", \"2017-01-01 00:00:08\", \"2017-01-01 00:00:09\", \"2017-01-01 00:00:10\", \"2017-01-01 00:00:11\", \"2017-01-01 00:00:12\", \"2017-01-01 00:00:13\", \"2017-01-01 00:00:14\", \"2017-01-01 00:00:15\", \"2017-01-01 00:00:16\", \"2017-01-01 00:00:17\", \"2017-01-01 00:00:18\", \"2017-01-01 00:00:19\", \"2017-01-01 00:00:20\", \"2017-01-01 00:00:21\", \"2017-01-01 00:00:22\", \"2017-01-01 00:00:23\", \"2017-01-01 00:00:24\", \"2017-01-01 00:00:25\", \"2017-01-01 00:00:26\", \"2017-01-01 00:00:27\", \"2017-01-01 00:00:28\", \"2017-01-01 00:00:29\", \"2017-01-01 00:00:30\", \"2017-01-01 00:00:31\", \"2017-01-01 00:00:32\", \"2017-01-01 00:00:33\", \"2017-01-01 00:00:34\", \"2017-01-01 00:00:35\", \"2017-01-01 00:00:36\", \"2017-01-01 00:00:37\", \"2017-01-01 00:00:38\", \"2017-01-01 00:00:39\", \"2017-01-01 00:00:40\", \"2017-01-01 00:00:41\", \"2017-01-01 00:00:42\", \"2017-01-01 00:00:43\", \"2017-01-01 00:00:44\", \"2017-01-01 00:00:45\", \"2017-01-01 00:00:46\", \"2017-01-01 00:00:47\", \"2017-01-01 00:00:48\", \"2017-01-01 00:00:49\", \"2017-01-01 00:00:50\", \"2017-01-01 00:00:51\", \"2017-01-01 00:00:52\", \"2017-01-01 00:00:53\", \"2017-01-01 00:00:54\", \"2017-01-01 00:00:55\", \"2017-01-01 00:00:56\", \"2017-01-01 00:00:57\", \"2017-01-01 00:00:58\", \"2017-01-01 00:00:59\", \"2017-01-01 00:01:00\", \"2017-01-01 00:01:01\", \"2017-01-01 00:01:02\", \"2017-01-01 00:01:03\", \"2017-01-01 00:01:04\", \"2017-01-01 00:01:05\", \"2017-01-01 00:01:06\", \"2017-01-01 00:01:07\", \"2017-01-01 00:01:08\", \"2017-01-01 00:01:09\", \"2017-01-01 00:01:10\", \"2017-01-01 00:01:11\", \"2017-01-01 00:01:12\", \"2017-01-01 00:01:13\", \"2017-01-01 00:01:14\", \"2017-01-01 00:01:15\", \"2017-01-01 00:01:16\", \"2017-01-01 00:01:17\", \"2017-01-01 00:01:18\", \"2017-01-01 00:01:19\", \"2017-01-01 00:01:20\", \"2017-01-01 00:01:21\", \"2017-01-01 00:01:22\", \"2017-01-01 00:01:23\", \"2017-01-01 00:01:24\", \"2017-01-01 00:01:25\", \"2017-01-01 00:01:26\", \"2017-01-01 00:01:27\", \"2017-01-01 00:01:28\", \"2017-01-01 00:01:29\", \"2017-01-01 00:01:30\", \"2017-01-01 00:01:31\", \"2017-01-01 00:01:32\", \"2017-01-01 00:01:33\", \"2017-01-01 00:01:34\", \"2017-01-01 00:01:35\", \"2017-01-01 00:01:36\", \"2017-01-01 00:01:37\", \"2017-01-01 00:01:38\", \"2017-01-01 00:01:39\", \"2017-01-01 00:01:40\", \"2017-01-01 00:01:41\", \"2017-01-01 00:01:42\", \"2017-01-01 00:01:43\", \"2017-01-01 00:01:44\", \"2017-01-01 00:01:45\", \"2017-01-01 00:01:46\", \"2017-01-01 00:01:47\", \"2017-01-01 00:01:48\", \"2017-01-01 00:01:49\", \"2017-01-01 00:01:50\", \"2017-01-01 00:01:51\", \"2017-01-01 00:01:52\", \"2017-01-01 00:01:53\", \"2017-01-01 00:01:54\", \"2017-01-01 00:01:55\", \"2017-01-01 00:01:56\", \"2017-01-01 00:01:57\", \"2017-01-01 00:01:58\", \"2017-01-01 00:01:59\", \"2017-01-01 00:02:00\", \"2017-01-01 00:02:01\", \"2017-01-01 00:02:02\", \"2017-01-01 00:02:03\", \"2017-01-01 00:02:04\", \"2017-01-01 00:02:05\", \"2017-01-01 00:02:06\", \"2017-01-01 00:02:07\", \"2017-01-01 00:02:08\", \"2017-01-01 00:02:09\", \"2017-01-01 00:02:10\", \"2017-01-01 00:02:11\", \"2017-01-01 00:02:12\", \"2017-01-01 00:02:13\", \"2017-01-01 00:02:14\", \"2017-01-01 00:02:15\", \"2017-01-01 00:02:16\", \"2017-01-01 00:02:17\", \"2017-01-01 00:02:18\", \"2017-01-01 00:02:19\", \"2017-01-01 00:02:20\", \"2017-01-01 00:02:21\", \"2017-01-01 00:02:22\", \"2017-01-01 00:02:23\", \"2017-01-01 00:02:24\", \"2017-01-01 00:02:25\", \"2017-01-01 00:02:26\", \"2017-01-01 00:02:27\", \"2017-01-01 00:02:28\", \"2017-01-01 00:02:29\", \"2017-01-01 00:02:30\", \"2017-01-01 00:02:31\", \"2017-01-01 00:02:32\", \"2017-01-01 00:02:33\", \"2017-01-01 00:02:34\", \"2017-01-01 00:02:35\", \"2017-01-01 00:02:36\", \"2017-01-01 00:02:37\", \"2017-01-01 00:02:38\", \"2017-01-01 00:02:39\", \"2017-01-01 00:02:40\", \"2017-01-01 00:02:41\", \"2017-01-01 00:02:42\", \"2017-01-01 00:02:43\", \"2017-01-01 00:02:44\", \"2017-01-01 00:02:45\", \"2017-01-01 00:02:46\", \"2017-01-01 00:02:47\", \"2017-01-01 00:02:48\", \"2017-01-01 00:02:49\", \"2017-01-01 00:02:50\", \"2017-01-01 00:02:51\", \"2017-01-01 00:02:52\", \"2017-01-01 00:02:53\", \"2017-01-01 00:02:54\", \"2017-01-01 00:02:55\", \"2017-01-01 00:02:56\", \"2017-01-01 00:02:57\", \"2017-01-01 00:02:58\", \"2017-01-01 00:02:59\", \"2017-01-01 00:03:00\", \"2017-01-01 00:03:01\", \"2017-01-01 00:03:02\", \"2017-01-01 00:03:03\", \"2017-01-01 00:03:04\", \"2017-01-01 00:03:05\", \"2017-01-01 00:03:06\", \"2017-01-01 00:03:07\", \"2017-01-01 00:03:08\", \"2017-01-01 00:03:09\", \"2017-01-01 00:03:10\", \"2017-01-01 00:03:11\", \"2017-01-01 00:03:12\", \"2017-01-01 00:03:13\", \"2017-01-01 00:03:14\", \"2017-01-01 00:03:15\", \"2017-01-01 00:03:16\", \"2017-01-01 00:03:17\", \"2017-01-01 00:03:18\", \"2017-01-01 00:03:19\", \"2017-01-01 00:03:20\", \"2017-01-01 00:03:21\", \"2017-01-01 00:03:22\", \"2017-01-01 00:03:23\", \"2017-01-01 00:03:24\", \"2017-01-01 00:03:25\", \"2017-01-01 00:03:26\", \"2017-01-01 00:03:27\", \"2017-01-01 00:03:28\", \"2017-01-01 00:03:29\", \"2017-01-01 00:03:30\", \"2017-01-01 00:03:31\", \"2017-01-01 00:03:32\", \"2017-01-01 00:03:33\", \"2017-01-01 00:03:34\", \"2017-01-01 00:03:35\", \"2017-01-01 00:03:36\", \"2017-01-01 00:03:37\", \"2017-01-01 00:03:38\", \"2017-01-01 00:03:39\", \"2017-01-01 00:03:40\", \"2017-01-01 00:03:41\", \"2017-01-01 00:03:42\", \"2017-01-01 00:03:43\", \"2017-01-01 00:03:44\", \"2017-01-01 00:03:45\", \"2017-01-01 00:03:46\", \"2017-01-01 00:03:47\", \"2017-01-01 00:03:48\", \"2017-01-01 00:03:49\", \"2017-01-01 00:03:50\", \"2017-01-01 00:03:51\", \"2017-01-01 00:03:52\", \"2017-01-01 00:03:53\", \"2017-01-01 00:03:54\", \"2017-01-01 00:03:55\", \"2017-01-01 00:03:56\", \"2017-01-01 00:03:57\", \"2017-01-01 00:03:58\", \"2017-01-01 00:03:59\", \"2017-01-01 00:04:00\", \"2017-01-01 00:04:01\", \"2017-01-01 00:04:02\", \"2017-01-01 00:04:03\", \"2017-01-01 00:04:04\", \"2017-01-01 00:04:05\", \"2017-01-01 00:04:06\", \"2017-01-01 00:04:07\", \"2017-01-01 00:04:08\", \"2017-01-01 00:04:09\", \"2017-01-01 00:04:10\", \"2017-01-01 00:04:11\", \"2017-01-01 00:04:12\", \"2017-01-01 00:04:13\", \"2017-01-01 00:04:14\", \"2017-01-01 00:04:15\", \"2017-01-01 00:04:16\", \"2017-01-01 00:04:17\", \"2017-01-01 00:04:18\", \"2017-01-01 00:04:19\", \"2017-01-01 00:04:20\", \"2017-01-01 00:04:21\", \"2017-01-01 00:04:22\", \"2017-01-01 00:04:23\", \"2017-01-01 00:04:24\", \"2017-01-01 00:04:25\", \"2017-01-01 00:04:26\", \"2017-01-01 00:04:27\", \"2017-01-01 00:04:28\", \"2017-01-01 00:04:29\", \"2017-01-01 00:04:30\", \"2017-01-01 00:04:31\", \"2017-01-01 00:04:32\", \"2017-01-01 00:04:33\", \"2017-01-01 00:04:34\", \"2017-01-01 00:04:35\", \"2017-01-01 00:04:36\", \"2017-01-01 00:04:37\", \"2017-01-01 00:04:38\", \"2017-01-01 00:04:39\", \"2017-01-01 00:04:40\", \"2017-01-01 00:04:41\", \"2017-01-01 00:04:42\", \"2017-01-01 00:04:43\", \"2017-01-01 00:04:44\", \"2017-01-01 00:04:45\", \"2017-01-01 00:04:46\", \"2017-01-01 00:04:47\", \"2017-01-01 00:04:48\", \"2017-01-01 00:04:49\", \"2017-01-01 00:04:50\", \"2017-01-01 00:04:51\", \"2017-01-01 00:04:52\", \"2017-01-01 00:04:53\", \"2017-01-01 00:04:54\", \"2017-01-01 00:04:55\", \"2017-01-01 00:04:56\", \"2017-01-01 00:04:57\", \"2017-01-01 00:04:58\", \"2017-01-01 00:04:59\", \"2017-01-01 00:05:00\", \"2017-01-01 00:05:01\", \"2017-01-01 00:05:02\", \"2017-01-01 00:05:03\", \"2017-01-01 00:05:04\", \"2017-01-01 00:05:05\", \"2017-01-01 00:05:06\", \"2017-01-01 00:05:07\", \"2017-01-01 00:05:08\", \"2017-01-01 00:05:09\", \"2017-01-01 00:05:10\", \"2017-01-01 00:05:11\", \"2017-01-01 00:05:12\", \"2017-01-01 00:05:13\", \"2017-01-01 00:05:14\", \"2017-01-01 00:05:15\", \"2017-01-01 00:05:16\", \"2017-01-01 00:05:17\", \"2017-01-01 00:05:18\", \"2017-01-01 00:05:19\", \"2017-01-01 00:05:20\", \"2017-01-01 00:05:21\", \"2017-01-01 00:05:22\", \"2017-01-01 00:05:23\", \"2017-01-01 00:05:24\", \"2017-01-01 00:05:25\", \"2017-01-01 00:05:26\", \"2017-01-01 00:05:27\", \"2017-01-01 00:05:28\", \"2017-01-01 00:05:29\", \"2017-01-01 00:05:30\", \"2017-01-01 00:05:31\", \"2017-01-01 00:05:32\", \"2017-01-01 00:05:33\", \"2017-01-01 00:05:34\", \"2017-01-01 00:05:35\", \"2017-01-01 00:05:36\", \"2017-01-01 00:05:37\", \"2017-01-01 00:05:38\", \"2017-01-01 00:05:39\", \"2017-01-01 00:05:40\", \"2017-01-01 00:05:41\", \"2017-01-01 00:05:42\", \"2017-01-01 00:05:43\", \"2017-01-01 00:05:44\", \"2017-01-01 00:05:45\", \"2017-01-01 00:05:46\", \"2017-01-01 00:05:47\", \"2017-01-01 00:05:48\", \"2017-01-01 00:05:49\", \"2017-01-01 00:05:50\", \"2017-01-01 00:05:51\", \"2017-01-01 00:05:52\", \"2017-01-01 00:05:53\", \"2017-01-01 00:05:54\", \"2017-01-01 00:05:55\", \"2017-01-01 00:05:56\", \"2017-01-01 00:05:57\", \"2017-01-01 00:05:58\", \"2017-01-01 00:05:59\", \"2017-01-01 00:06:00\", \"2017-01-01 00:06:01\", \"2017-01-01 00:06:02\", \"2017-01-01 00:06:03\", \"2017-01-01 00:06:04\", \"2017-01-01 00:06:05\", \"2017-01-01 00:06:06\", \"2017-01-01 00:06:07\", \"2017-01-01 00:06:08\", \"2017-01-01 00:06:09\", \"2017-01-01 00:06:10\", \"2017-01-01 00:06:11\", \"2017-01-01 00:06:12\", \"2017-01-01 00:06:13\", \"2017-01-01 00:06:14\", \"2017-01-01 00:06:15\", \"2017-01-01 00:06:16\", \"2017-01-01 00:06:17\", \"2017-01-01 00:06:18\", \"2017-01-01 00:06:19\", \"2017-01-01 00:06:20\", \"2017-01-01 00:06:21\", \"2017-01-01 00:06:22\", \"2017-01-01 00:06:23\", \"2017-01-01 00:06:24\", \"2017-01-01 00:06:25\", \"2017-01-01 00:06:26\", \"2017-01-01 00:06:27\", \"2017-01-01 00:06:28\", \"2017-01-01 00:06:29\", \"2017-01-01 00:06:30\", \"2017-01-01 00:06:31\", \"2017-01-01 00:06:32\", \"2017-01-01 00:06:33\", \"2017-01-01 00:06:34\", \"2017-01-01 00:06:35\", \"2017-01-01 00:06:36\", \"2017-01-01 00:06:37\", \"2017-01-01 00:06:38\", \"2017-01-01 00:06:39\", \"2017-01-01 00:06:40\", \"2017-01-01 00:06:41\", \"2017-01-01 00:06:42\", \"2017-01-01 00:06:43\", \"2017-01-01 00:06:44\", \"2017-01-01 00:06:45\", \"2017-01-01 00:06:46\", \"2017-01-01 00:06:47\", \"2017-01-01 00:06:48\", \"2017-01-01 00:06:49\", \"2017-01-01 00:06:50\", \"2017-01-01 00:06:51\", \"2017-01-01 00:06:52\", \"2017-01-01 00:06:53\", \"2017-01-01 00:06:54\", \"2017-01-01 00:06:55\", \"2017-01-01 00:06:56\", \"2017-01-01 00:06:57\", \"2017-01-01 00:06:58\", \"2017-01-01 00:06:59\", \"2017-01-01 00:07:00\", \"2017-01-01 00:07:01\", \"2017-01-01 00:07:02\", \"2017-01-01 00:07:03\", \"2017-01-01 00:07:04\", \"2017-01-01 00:07:05\", \"2017-01-01 00:07:06\", \"2017-01-01 00:07:07\", \"2017-01-01 00:07:08\", \"2017-01-01 00:07:09\", \"2017-01-01 00:07:10\", \"2017-01-01 00:07:11\", \"2017-01-01 00:07:12\", \"2017-01-01 00:07:13\", \"2017-01-01 00:07:14\", \"2017-01-01 00:07:15\", \"2017-01-01 00:07:16\", \"2017-01-01 00:07:17\", \"2017-01-01 00:07:18\", \"2017-01-01 00:07:19\", \"2017-01-01 00:07:20\", \"2017-01-01 00:07:21\", \"2017-01-01 00:07:22\", \"2017-01-01 00:07:23\", \"2017-01-01 00:07:24\", \"2017-01-01 00:07:25\", \"2017-01-01 00:07:26\", \"2017-01-01 00:07:27\", \"2017-01-01 00:07:28\", \"2017-01-01 00:07:29\", \"2017-01-01 00:07:30\", \"2017-01-01 00:07:31\", \"2017-01-01 00:07:32\", \"2017-01-01 00:07:33\", \"2017-01-01 00:07:34\", \"2017-01-01 00:07:35\", \"2017-01-01 00:07:36\", \"2017-01-01 00:07:37\", \"2017-01-01 00:07:38\", \"2017-01-01 00:07:39\", \"2017-01-01 00:07:40\", \"2017-01-01 00:07:41\", \"2017-01-01 00:07:42\", \"2017-01-01 00:07:43\", \"2017-01-01 00:07:44\", \"2017-01-01 00:07:45\", \"2017-01-01 00:07:46\", \"2017-01-01 00:07:47\", \"2017-01-01 00:07:48\", \"2017-01-01 00:07:49\", \"2017-01-01 00:07:50\", \"2017-01-01 00:07:51\", \"2017-01-01 00:07:52\", \"2017-01-01 00:07:53\", \"2017-01-01 00:07:54\", \"2017-01-01 00:07:55\", \"2017-01-01 00:07:56\", \"2017-01-01 00:07:57\", \"2017-01-01 00:07:58\", \"2017-01-01 00:07:59\", \"2017-01-01 00:08:00\", \"2017-01-01 00:08:01\", \"2017-01-01 00:08:02\", \"2017-01-01 00:08:03\", \"2017-01-01 00:08:04\", \"2017-01-01 00:08:05\", \"2017-01-01 00:08:06\", \"2017-01-01 00:08:07\", \"2017-01-01 00:08:08\", \"2017-01-01 00:08:09\", \"2017-01-01 00:08:10\", \"2017-01-01 00:08:11\", \"2017-01-01 00:08:12\", \"2017-01-01 00:08:13\", \"2017-01-01 00:08:14\", \"2017-01-01 00:08:15\", \"2017-01-01 00:08:16\", \"2017-01-01 00:08:17\", \"2017-01-01 00:08:18\", \"2017-01-01 00:08:19\", \"2017-01-01 00:08:20\", \"2017-01-01 00:08:21\", \"2017-01-01 00:08:22\", \"2017-01-01 00:08:23\", \"2017-01-01 00:08:24\", \"2017-01-01 00:08:25\", \"2017-01-01 00:08:26\", \"2017-01-01 00:08:27\", \"2017-01-01 00:08:28\", \"2017-01-01 00:08:29\", \"2017-01-01 00:08:30\", \"2017-01-01 00:08:31\", \"2017-01-01 00:08:32\", \"2017-01-01 00:08:33\", \"2017-01-01 00:08:34\", \"2017-01-01 00:08:35\", \"2017-01-01 00:08:36\", \"2017-01-01 00:08:37\", \"2017-01-01 00:08:38\", \"2017-01-01 00:08:39\", \"2017-01-01 00:08:40\", \"2017-01-01 00:08:41\", \"2017-01-01 00:08:42\", \"2017-01-01 00:08:43\", \"2017-01-01 00:08:44\", \"2017-01-01 00:08:45\", \"2017-01-01 00:08:46\", \"2017-01-01 00:08:47\", \"2017-01-01 00:08:48\", \"2017-01-01 00:08:49\", \"2017-01-01 00:08:50\", \"2017-01-01 00:08:51\", \"2017-01-01 00:08:52\", \"2017-01-01 00:08:53\", \"2017-01-01 00:08:54\", \"2017-01-01 00:08:55\", \"2017-01-01 00:08:56\", \"2017-01-01 00:08:57\", \"2017-01-01 00:08:58\", \"2017-01-01 00:08:59\", \"2017-01-01 00:09:00\", \"2017-01-01 00:09:01\", \"2017-01-01 00:09:02\", \"2017-01-01 00:09:03\", \"2017-01-01 00:09:04\", \"2017-01-01 00:09:05\", \"2017-01-01 00:09:06\", \"2017-01-01 00:09:07\", \"2017-01-01 00:09:08\", \"2017-01-01 00:09:09\", \"2017-01-01 00:09:10\", \"2017-01-01 00:09:11\", \"2017-01-01 00:09:12\", \"2017-01-01 00:09:13\", \"2017-01-01 00:09:14\", \"2017-01-01 00:09:15\", \"2017-01-01 00:09:16\", \"2017-01-01 00:09:17\", \"2017-01-01 00:09:18\", \"2017-01-01 00:09:19\", \"2017-01-01 00:09:20\", \"2017-01-01 00:09:21\", \"2017-01-01 00:09:22\", \"2017-01-01 00:09:23\", \"2017-01-01 00:09:24\", \"2017-01-01 00:09:25\", \"2017-01-01 00:09:26\", \"2017-01-01 00:09:27\", \"2017-01-01 00:09:28\", \"2017-01-01 00:09:29\", \"2017-01-01 00:09:30\", \"2017-01-01 00:09:31\", \"2017-01-01 00:09:32\", \"2017-01-01 00:09:33\", \"2017-01-01 00:09:34\", \"2017-01-01 00:09:35\", \"2017-01-01 00:09:36\", \"2017-01-01 00:09:37\", \"2017-01-01 00:09:38\", \"2017-01-01 00:09:39\", \"2017-01-01 00:09:40\", \"2017-01-01 00:09:41\", \"2017-01-01 00:09:42\", \"2017-01-01 00:09:43\", \"2017-01-01 00:09:44\", \"2017-01-01 00:09:45\", \"2017-01-01 00:09:46\", \"2017-01-01 00:09:47\", \"2017-01-01 00:09:48\", \"2017-01-01 00:09:49\", \"2017-01-01 00:09:50\", \"2017-01-01 00:09:51\", \"2017-01-01 00:09:52\", \"2017-01-01 00:09:53\", \"2017-01-01 00:09:54\", \"2017-01-01 00:09:55\", \"2017-01-01 00:09:56\", \"2017-01-01 00:09:57\", \"2017-01-01 00:09:58\", \"2017-01-01 00:09:59\", \"2017-01-01 00:10:00\", \"2017-01-01 00:10:01\", \"2017-01-01 00:10:02\", \"2017-01-01 00:10:03\", \"2017-01-01 00:10:04\", \"2017-01-01 00:10:05\", \"2017-01-01 00:10:06\", \"2017-01-01 00:10:07\", \"2017-01-01 00:10:08\", \"2017-01-01 00:10:09\", \"2017-01-01 00:10:10\", \"2017-01-01 00:10:11\", \"2017-01-01 00:10:12\", \"2017-01-01 00:10:13\", \"2017-01-01 00:10:14\", \"2017-01-01 00:10:15\", \"2017-01-01 00:10:16\", \"2017-01-01 00:10:17\", \"2017-01-01 00:10:18\", \"2017-01-01 00:10:19\", \"2017-01-01 00:10:20\", \"2017-01-01 00:10:21\", \"2017-01-01 00:10:22\", \"2017-01-01 00:10:23\", \"2017-01-01 00:10:24\", \"2017-01-01 00:10:25\", \"2017-01-01 00:10:26\", \"2017-01-01 00:10:27\", \"2017-01-01 00:10:28\", \"2017-01-01 00:10:29\", \"2017-01-01 00:10:30\", \"2017-01-01 00:10:31\", \"2017-01-01 00:10:32\", \"2017-01-01 00:10:33\", \"2017-01-01 00:10:34\", \"2017-01-01 00:10:35\", \"2017-01-01 00:10:36\", \"2017-01-01 00:10:37\", \"2017-01-01 00:10:38\", \"2017-01-01 00:10:39\", \"2017-01-01 00:10:40\", \"2017-01-01 00:10:41\", \"2017-01-01 00:10:42\", \"2017-01-01 00:10:43\", \"2017-01-01 00:10:44\", \"2017-01-01 00:10:45\", \"2017-01-01 00:10:46\", \"2017-01-01 00:10:47\", \"2017-01-01 00:10:48\", \"2017-01-01 00:10:49\", \"2017-01-01 00:10:50\", \"2017-01-01 00:10:51\", \"2017-01-01 00:10:52\", \"2017-01-01 00:10:53\", \"2017-01-01 00:10:54\", \"2017-01-01 00:10:55\", \"2017-01-01 00:10:56\", \"2017-01-01 00:10:57\", \"2017-01-01 00:10:58\", \"2017-01-01 00:10:59\", \"2017-01-01 00:11:00\", \"2017-01-01 00:11:01\", \"2017-01-01 00:11:02\", \"2017-01-01 00:11:03\", \"2017-01-01 00:11:04\", \"2017-01-01 00:11:05\", \"2017-01-01 00:11:06\", \"2017-01-01 00:11:07\", \"2017-01-01 00:11:08\", \"2017-01-01 00:11:09\", \"2017-01-01 00:11:10\", \"2017-01-01 00:11:11\", \"2017-01-01 00:11:12\", \"2017-01-01 00:11:13\", \"2017-01-01 00:11:14\", \"2017-01-01 00:11:15\", \"2017-01-01 00:11:16\", \"2017-01-01 00:11:17\", \"2017-01-01 00:11:18\", \"2017-01-01 00:11:19\", \"2017-01-01 00:11:20\", \"2017-01-01 00:11:21\", \"2017-01-01 00:11:22\", \"2017-01-01 00:11:23\", \"2017-01-01 00:11:24\", \"2017-01-01 00:11:25\", \"2017-01-01 00:11:26\", \"2017-01-01 00:11:27\", \"2017-01-01 00:11:28\", \"2017-01-01 00:11:29\", \"2017-01-01 00:11:30\", \"2017-01-01 00:11:31\", \"2017-01-01 00:11:32\", \"2017-01-01 00:11:33\", \"2017-01-01 00:11:34\", \"2017-01-01 00:11:35\", \"2017-01-01 00:11:36\", \"2017-01-01 00:11:37\", \"2017-01-01 00:11:38\", \"2017-01-01 00:11:39\", \"2017-01-01 00:11:40\", \"2017-01-01 00:11:41\", \"2017-01-01 00:11:42\", \"2017-01-01 00:11:43\", \"2017-01-01 00:11:44\", \"2017-01-01 00:11:45\", \"2017-01-01 00:11:46\", \"2017-01-01 00:11:47\", \"2017-01-01 00:11:48\", \"2017-01-01 00:11:49\", \"2017-01-01 00:11:50\", \"2017-01-01 00:11:51\", \"2017-01-01 00:11:52\", \"2017-01-01 00:11:53\", \"2017-01-01 00:11:54\", \"2017-01-01 00:11:55\", \"2017-01-01 00:11:56\", \"2017-01-01 00:11:57\", \"2017-01-01 00:11:58\", \"2017-01-01 00:11:59\", \"2017-01-01 00:12:00\", \"2017-01-01 00:12:01\", \"2017-01-01 00:12:02\", \"2017-01-01 00:12:03\", \"2017-01-01 00:12:04\", \"2017-01-01 00:12:05\", \"2017-01-01 00:12:06\", \"2017-01-01 00:12:07\", \"2017-01-01 00:12:08\", \"2017-01-01 00:12:09\", \"2017-01-01 00:12:10\", \"2017-01-01 00:12:11\", \"2017-01-01 00:12:12\", \"2017-01-01 00:12:13\", \"2017-01-01 00:12:14\", \"2017-01-01 00:12:15\", \"2017-01-01 00:12:16\", \"2017-01-01 00:12:17\", \"2017-01-01 00:12:18\", \"2017-01-01 00:12:19\", \"2017-01-01 00:12:20\", \"2017-01-01 00:12:21\", \"2017-01-01 00:12:22\", \"2017-01-01 00:12:23\", \"2017-01-01 00:12:24\", \"2017-01-01 00:12:25\", \"2017-01-01 00:12:26\", \"2017-01-01 00:12:27\", \"2017-01-01 00:12:28\", \"2017-01-01 00:12:29\", \"2017-01-01 00:12:30\", \"2017-01-01 00:12:31\", \"2017-01-01 00:12:32\", \"2017-01-01 00:12:33\", \"2017-01-01 00:12:34\", \"2017-01-01 00:12:35\", \"2017-01-01 00:12:36\", \"2017-01-01 00:12:37\", \"2017-01-01 00:12:38\", \"2017-01-01 00:12:39\", \"2017-01-01 00:12:40\", \"2017-01-01 00:12:41\", \"2017-01-01 00:12:42\", \"2017-01-01 00:12:43\", \"2017-01-01 00:12:44\", \"2017-01-01 00:12:45\", \"2017-01-01 00:12:46\", \"2017-01-01 00:12:47\", \"2017-01-01 00:12:48\", \"2017-01-01 00:12:49\", \"2017-01-01 00:12:50\", \"2017-01-01 00:12:51\", \"2017-01-01 00:12:52\", \"2017-01-01 00:12:53\", \"2017-01-01 00:12:54\", \"2017-01-01 00:12:55\", \"2017-01-01 00:12:56\", \"2017-01-01 00:12:57\", \"2017-01-01 00:12:58\", \"2017-01-01 00:12:59\", \"2017-01-01 00:13:00\", \"2017-01-01 00:13:01\", \"2017-01-01 00:13:02\", \"2017-01-01 00:13:03\", \"2017-01-01 00:13:04\", \"2017-01-01 00:13:05\", \"2017-01-01 00:13:06\", \"2017-01-01 00:13:07\", \"2017-01-01 00:13:08\", \"2017-01-01 00:13:09\", \"2017-01-01 00:13:10\", \"2017-01-01 00:13:11\", \"2017-01-01 00:13:12\", \"2017-01-01 00:13:13\", \"2017-01-01 00:13:14\", \"2017-01-01 00:13:15\", \"2017-01-01 00:13:16\", \"2017-01-01 00:13:17\", \"2017-01-01 00:13:18\", \"2017-01-01 00:13:19\", \"2017-01-01 00:13:20\", \"2017-01-01 00:13:21\", \"2017-01-01 00:13:22\", \"2017-01-01 00:13:23\", \"2017-01-01 00:13:24\", \"2017-01-01 00:13:25\", \"2017-01-01 00:13:26\", \"2017-01-01 00:13:27\", \"2017-01-01 00:13:28\", \"2017-01-01 00:13:29\", \"2017-01-01 00:13:30\", \"2017-01-01 00:13:31\", \"2017-01-01 00:13:32\", \"2017-01-01 00:13:33\", \"2017-01-01 00:13:34\", \"2017-01-01 00:13:35\", \"2017-01-01 00:13:36\", \"2017-01-01 00:13:37\", \"2017-01-01 00:13:38\", \"2017-01-01 00:13:39\", \"2017-01-01 00:13:40\", \"2017-01-01 00:13:41\", \"2017-01-01 00:13:42\", \"2017-01-01 00:13:43\", \"2017-01-01 00:13:44\", \"2017-01-01 00:13:45\", \"2017-01-01 00:13:46\", \"2017-01-01 00:13:47\", \"2017-01-01 00:13:48\", \"2017-01-01 00:13:49\", \"2017-01-01 00:13:50\", \"2017-01-01 00:13:51\", \"2017-01-01 00:13:52\", \"2017-01-01 00:13:53\", \"2017-01-01 00:13:54\", \"2017-01-01 00:13:55\", \"2017-01-01 00:13:56\", \"2017-01-01 00:13:57\", \"2017-01-01 00:13:58\", \"2017-01-01 00:13:59\", \"2017-01-01 00:14:00\", \"2017-01-01 00:14:01\", \"2017-01-01 00:14:02\", \"2017-01-01 00:14:03\", \"2017-01-01 00:14:04\", \"2017-01-01 00:14:05\", \"2017-01-01 00:14:06\", \"2017-01-01 00:14:07\", \"2017-01-01 00:14:08\", \"2017-01-01 00:14:09\", \"2017-01-01 00:14:10\", \"2017-01-01 00:14:11\", \"2017-01-01 00:14:12\", \"2017-01-01 00:14:13\", \"2017-01-01 00:14:14\", \"2017-01-01 00:14:15\", \"2017-01-01 00:14:16\", \"2017-01-01 00:14:17\", \"2017-01-01 00:14:18\", \"2017-01-01 00:14:19\", \"2017-01-01 00:14:20\", \"2017-01-01 00:14:21\", \"2017-01-01 00:14:22\", \"2017-01-01 00:14:23\", \"2017-01-01 00:14:24\", \"2017-01-01 00:14:25\", \"2017-01-01 00:14:26\", \"2017-01-01 00:14:27\", \"2017-01-01 00:14:28\", \"2017-01-01 00:14:29\", \"2017-01-01 00:14:30\", \"2017-01-01 00:14:31\", \"2017-01-01 00:14:32\", \"2017-01-01 00:14:33\", \"2017-01-01 00:14:34\", \"2017-01-01 00:14:35\", \"2017-01-01 00:14:36\", \"2017-01-01 00:14:37\", \"2017-01-01 00:14:38\", \"2017-01-01 00:14:39\", \"2017-01-01 00:14:40\", \"2017-01-01 00:14:41\", \"2017-01-01 00:14:42\", \"2017-01-01 00:14:43\", \"2017-01-01 00:14:44\", \"2017-01-01 00:14:45\", \"2017-01-01 00:14:46\", \"2017-01-01 00:14:47\", \"2017-01-01 00:14:48\", \"2017-01-01 00:14:49\", \"2017-01-01 00:14:50\", \"2017-01-01 00:14:51\", \"2017-01-01 00:14:52\", \"2017-01-01 00:14:53\", \"2017-01-01 00:14:54\", \"2017-01-01 00:14:55\", \"2017-01-01 00:14:56\", \"2017-01-01 00:14:57\", \"2017-01-01 00:14:58\", \"2017-01-01 00:14:59\", \"2017-01-01 00:15:00\", \"2017-01-01 00:15:01\", \"2017-01-01 00:15:02\", \"2017-01-01 00:15:03\", \"2017-01-01 00:15:04\", \"2017-01-01 00:15:05\", \"2017-01-01 00:15:06\", \"2017-01-01 00:15:07\", \"2017-01-01 00:15:08\", \"2017-01-01 00:15:09\", \"2017-01-01 00:15:10\", \"2017-01-01 00:15:11\", \"2017-01-01 00:15:12\", \"2017-01-01 00:15:13\", \"2017-01-01 00:15:14\", \"2017-01-01 00:15:15\", \"2017-01-01 00:15:16\", \"2017-01-01 00:15:17\", \"2017-01-01 00:15:18\", \"2017-01-01 00:15:19\", \"2017-01-01 00:15:20\", \"2017-01-01 00:15:21\", \"2017-01-01 00:15:22\", \"2017-01-01 00:15:23\", \"2017-01-01 00:15:24\", \"2017-01-01 00:15:25\", \"2017-01-01 00:15:26\", \"2017-01-01 00:15:27\", \"2017-01-01 00:15:28\", \"2017-01-01 00:15:29\", \"2017-01-01 00:15:30\", \"2017-01-01 00:15:31\", \"2017-01-01 00:15:32\", \"2017-01-01 00:15:33\", \"2017-01-01 00:15:34\", \"2017-01-01 00:15:35\", \"2017-01-01 00:15:36\", \"2017-01-01 00:15:37\", \"2017-01-01 00:15:38\", \"2017-01-01 00:15:39\", \"2017-01-01 00:15:40\", \"2017-01-01 00:15:41\", \"2017-01-01 00:15:42\", \"2017-01-01 00:15:43\", \"2017-01-01 00:15:44\", \"2017-01-01 00:15:45\", \"2017-01-01 00:15:46\", \"2017-01-01 00:15:47\", \"2017-01-01 00:15:48\", \"2017-01-01 00:15:49\", \"2017-01-01 00:15:50\", \"2017-01-01 00:15:51\", \"2017-01-01 00:15:52\", \"2017-01-01 00:15:53\", \"2017-01-01 00:15:54\", \"2017-01-01 00:15:55\", \"2017-01-01 00:15:56\", \"2017-01-01 00:15:57\", \"2017-01-01 00:15:58\", \"2017-01-01 00:15:59\", \"2017-01-01 00:16:00\", \"2017-01-01 00:16:01\", \"2017-01-01 00:16:02\", \"2017-01-01 00:16:03\", \"2017-01-01 00:16:04\", \"2017-01-01 00:16:05\", \"2017-01-01 00:16:06\", \"2017-01-01 00:16:07\", \"2017-01-01 00:16:08\", \"2017-01-01 00:16:09\", \"2017-01-01 00:16:10\", \"2017-01-01 00:16:11\", \"2017-01-01 00:16:12\", \"2017-01-01 00:16:13\", \"2017-01-01 00:16:14\", \"2017-01-01 00:16:15\", \"2017-01-01 00:16:16\", \"2017-01-01 00:16:17\", \"2017-01-01 00:16:18\", \"2017-01-01 00:16:19\", \"2017-01-01 00:16:20\", \"2017-01-01 00:16:21\", \"2017-01-01 00:16:22\", \"2017-01-01 00:16:23\", \"2017-01-01 00:16:24\", \"2017-01-01 00:16:25\", \"2017-01-01 00:16:26\", \"2017-01-01 00:16:27\", \"2017-01-01 00:16:28\", \"2017-01-01 00:16:29\", \"2017-01-01 00:16:30\", \"2017-01-01 00:16:31\", \"2017-01-01 00:16:32\", \"2017-01-01 00:16:33\", \"2017-01-01 00:16:34\", \"2017-01-01 00:16:35\", \"2017-01-01 00:16:36\", \"2017-01-01 00:16:37\", \"2017-01-01 00:16:38\", \"2017-01-01 00:16:39\"], \"line\": {\"color\": \"rgba(255, 153, 51, 1.0)\", \"width\": 1.3, \"dash\": \"solid\"}, \"type\": \"scatter\"}], {\"paper_bgcolor\": \"#F5F6F9\", \"plot_bgcolor\": \"#F5F6F9\", \"xaxis1\": {\"tickfont\": {\"color\": \"#4D5663\"}, \"title\": \"\", \"showgrid\": true, \"zerolinecolor\": \"#E1E5ED\", \"gridcolor\": \"#E1E5ED\", \"titlefont\": {\"color\": \"#4D5663\"}}, \"yaxis1\": {\"tickfont\": {\"color\": \"#4D5663\"}, \"title\": \"\", \"showgrid\": true, \"zerolinecolor\": \"#E1E5ED\", \"gridcolor\": \"#E1E5ED\", \"titlefont\": {\"color\": \"#4D5663\"}}, \"titlefont\": {\"color\": \"#4D5663\"}, \"legend\": {\"bgcolor\": \"#F5F6F9\", \"font\": {\"color\": \"#4D5663\"}}}, {\"linkText\": \"Export to plot.ly\", \"showLink\": true})});</script>"
      ],
      "text/vnd.plotly.v1+html": [
       "<div id=\"1f46823f-7f32-4620-a046-e2f6c64ba9e3\" style=\"height: 525px; width: 100%;\" class=\"plotly-graph-div\"></div><script type=\"text/javascript\">require([\"plotly\"], function(Plotly) { window.PLOTLYENV=window.PLOTLYENV || {};window.PLOTLYENV.BASE_URL=\"https://plot.ly\";Plotly.newPlot(\"1f46823f-7f32-4620-a046-e2f6c64ba9e3\", [{\"name\": \"None\", \"text\": \"\", \"mode\": \"lines\", \"y\": [24, 105, 142, 440, 169, 419, 76, 226, 334, 339, 322, 263, 274, 259, 250, 449, 480, 7, 39, 298, 418, 85, 112, 380, 109, 11, 472, 411, 79, 76, 316, 492, 84, 475, 472, 272, 450, 423, 87, 445, 51, 279, 384, 283, 122, 388, 411, 204, 141, 115, 78, 426, 452, 69, 142, 308, 481, 400, 231, 172, 204, 300, 53, 10, 364, 48, 304, 347, 212, 12, 83, 44, 82, 472, 389, 5, 329, 268, 100, 325, 422, 367, 338, 233, 12, 44, 347, 275, 225, 272, 320, 328, 384, 42, 105, 229, 115, 80, 104, 167, 448, 347, 459, 403, 170, 495, 439, 448, 472, 318, 19, 107, 462, 344, 188, 476, 221, 223, 307, 393, 147, 321, 353, 119, 338, 42, 55, 63, 342, 198, 247, 264, 233, 492, 23, 107, 453, 477, 135, 432, 56, 169, 392, 152, 204, 223, 109, 71, 399, 221, 177, 198, 485, 282, 498, 123, 182, 377, 64, 4, 206, 122, 131, 270, 479, 452, 439, 495, 209, 21, 240, 59, 39, 1, 191, 324, 106, 404, 261, 421, 469, 57, 115, 44, 184, 306, 174, 471, 4, 321, 216, 70, 13, 132, 310, 333, 169, 254, 454, 179, 261, 197, 147, 377, 121, 0, 31, 145, 162, 240, 184, 30, 237, 310, 259, 61, 123, 256, 156, 431, 6, 188, 57, 295, 482, 152, 92, 240, 238, 76, 319, 208, 143, 295, 202, 439, 95, 93, 93, 113, 226, 469, 376, 5, 79, 180, 458, 23, 378, 410, 486, 290, 230, 298, 20, 284, 422, 404, 262, 240, 207, 89, 486, 205, 373, 459, 3, 416, 92, 23, 377, 352, 493, 258, 400, 156, 415, 411, 177, 462, 147, 305, 43, 135, 405, 13, 237, 230, 361, 366, 188, 268, 321, 204, 222, 364, 354, 383, 477, 25, 256, 163, 239, 216, 333, 460, 403, 266, 4, 284, 199, 411, 399, 23, 194, 43, 314, 290, 400, 394, 98, 58, 487, 262, 88, 495, 83, 177, 226, 266, 269, 421, 487, 80, 196, 0, 166, 405, 145, 95, 13, 125, 294, 116, 488, 214, 335, 396, 481, 1, 348, 188, 434, 33, 87, 143, 225, 298, 254, 280, 332, 302, 239, 453, 315, 196, 445, 0, 238, 286, 212, 371, 383, 482, 32, 274, 103, 188, 248, 357, 348, 160, 400, 332, 83, 489, 397, 310, 262, 74, 429, 118, 432, 141, 54, 15, 224, 84, 330, 269, 18, 482, 287, 261, 170, 349, 441, 402, 299, 477, 82, 68, 407, 128, 25, 159, 81, 94, 385, 117, 252, 207, 320, 21, 403, 334, 174, 274, 363, 439, 448, 445, 77, 295, 269, 459, 83, 81, 37, 281, 305, 61, 387, 471, 71, 158, 241, 366, 407, 459, 285, 307, 303, 98, 236, 258, 108, 47, 50, 62, 122, 372, 221, 13, 376, 466, 326, 115, 0, 391, 295, 86, 217, 330, 101, 143, 425, 3, 414, 303, 359, 206, 195, 13, 126, 234, 39, 445, 446, 303, 12, 279, 95, 311, 257, 2, 359, 102, 8, 60, 79, 423, 443, 402, 467, 5, 486, 53, 215, 359, 383, 184, 82, 233, 158, 219, 70, 1, 307, 31, 234, 273, 437, 385, 295, 415, 321, 211, 216, 405, 138, 333, 373, 409, 51, 70, 289, 76, 466, 25, 118, 35, 474, 303, 448, 21, 434, 319, 383, 106, 78, 261, 176, 271, 165, 46, 178, 235, 144, 231, 250, 379, 179, 27, 324, 111, 259, 307, 16, 446, 388, 157, 146, 391, 91, 251, 293, 427, 462, 73, 204, 97, 254, 435, 404, 29, 214, 260, 83, 98, 285, 371, 10, 299, 254, 421, 5, 364, 356, 370, 348, 173, 112, 247, 186, 414, 365, 164, 232, 155, 480, 266, 496, 471, 77, 488, 411, 171, 167, 264, 347, 53, 13, 255, 141, 143, 448, 152, 364, 161, 472, 125, 250, 249, 370, 206, 7, 2, 61, 270, 379, 110, 16, 385, 89, 63, 375, 153, 172, 87, 291, 433, 108, 204, 101, 456, 147, 268, 62, 423, 475, 183, 155, 357, 40, 457, 114, 219, 116, 205, 103, 76, 443, 360, 248, 337, 84, 414, 171, 97, 215, 56, 383, 204, 279, 29, 77, 354, 427, 90, 13, 143, 211, 229, 384, 79, 316, 70, 351, 195, 151, 473, 142, 239, 241, 266, 439, 178, 429, 368, 179, 269, 98, 185, 11, 279, 15, 18, 365, 410, 491, 134, 338, 206, 287, 284, 472, 104, 345, 26, 115, 250, 470, 52, 428, 263, 193, 308, 478, 277, 254, 86, 204, 68, 449, 126, 326, 211, 474, 290, 58, 167, 146, 297, 426, 405, 61, 368, 427, 132, 329, 470, 269, 77, 275, 116, 50, 77, 145, 152, 378, 153, 181, 407, 420, 164, 26, 55, 155, 389, 59, 355, 229, 22, 351, 357, 102, 152, 161, 432, 453, 188, 44, 73, 96, 366, 129, 7, 87, 256, 333, 276, 476, 493, 22, 197, 162, 101, 50, 84, 309, 426, 21, 286, 89, 385, 267, 227, 350, 243, 473, 479, 226, 150, 17, 452, 417, 305, 332, 366, 301, 17, 442, 301, 149, 248, 109, 382, 219, 379, 334, 339, 368, 150, 147, 251, 224, 485, 221, 353, 82, 234, 464, 158, 388, 155, 79, 114, 83, 89, 96, 320, 420, 220, 52, 305, 15, 46, 275, 121, 19, 441, 207, 22, 26, 409, 2, 203, 11, 94, 305, 338, 415, 156, 190, 248, 182, 155, 124, 379, 224, 232, 431, 344, 212, 335, 486, 490, 223, 431, 22, 98, 17, 346, 181, 130, 117, 349, 150, 210, 495, 356, 145, 472, 451, 111, 161, 118, 74, 457, 300, 271, 234, 289, 301, 373, 265, 499, 454, 427, 141, 256, 251, 446, 41, 441, 418, 437, 161, 411, 207, 435, 364, 311, 213, 106, 324, 389, 24, 358, 487, 171, 197, 168, 343, 476, 444, 91, 151, 35, 461, 407, 406, 409, 262, 100, 25, 162, 461, 35, 263, 315, 45, 369, 453, 236, 198, 166, 457, 182, 212, 335, 293, 435, 265, 230, 218, 32, 367, 467, 140, 255, 234, 258, 428, 29, 307, 475, 180, 41], \"x\": [\"2017-01-01 00:00:00\", \"2017-01-01 00:00:01\", \"2017-01-01 00:00:02\", \"2017-01-01 00:00:03\", \"2017-01-01 00:00:04\", \"2017-01-01 00:00:05\", \"2017-01-01 00:00:06\", \"2017-01-01 00:00:07\", \"2017-01-01 00:00:08\", \"2017-01-01 00:00:09\", \"2017-01-01 00:00:10\", \"2017-01-01 00:00:11\", \"2017-01-01 00:00:12\", \"2017-01-01 00:00:13\", \"2017-01-01 00:00:14\", \"2017-01-01 00:00:15\", \"2017-01-01 00:00:16\", \"2017-01-01 00:00:17\", \"2017-01-01 00:00:18\", \"2017-01-01 00:00:19\", \"2017-01-01 00:00:20\", \"2017-01-01 00:00:21\", \"2017-01-01 00:00:22\", \"2017-01-01 00:00:23\", \"2017-01-01 00:00:24\", \"2017-01-01 00:00:25\", \"2017-01-01 00:00:26\", \"2017-01-01 00:00:27\", \"2017-01-01 00:00:28\", \"2017-01-01 00:00:29\", \"2017-01-01 00:00:30\", \"2017-01-01 00:00:31\", \"2017-01-01 00:00:32\", \"2017-01-01 00:00:33\", \"2017-01-01 00:00:34\", \"2017-01-01 00:00:35\", \"2017-01-01 00:00:36\", \"2017-01-01 00:00:37\", \"2017-01-01 00:00:38\", \"2017-01-01 00:00:39\", \"2017-01-01 00:00:40\", \"2017-01-01 00:00:41\", \"2017-01-01 00:00:42\", \"2017-01-01 00:00:43\", \"2017-01-01 00:00:44\", \"2017-01-01 00:00:45\", \"2017-01-01 00:00:46\", \"2017-01-01 00:00:47\", \"2017-01-01 00:00:48\", \"2017-01-01 00:00:49\", \"2017-01-01 00:00:50\", \"2017-01-01 00:00:51\", \"2017-01-01 00:00:52\", \"2017-01-01 00:00:53\", \"2017-01-01 00:00:54\", \"2017-01-01 00:00:55\", \"2017-01-01 00:00:56\", \"2017-01-01 00:00:57\", \"2017-01-01 00:00:58\", \"2017-01-01 00:00:59\", \"2017-01-01 00:01:00\", \"2017-01-01 00:01:01\", \"2017-01-01 00:01:02\", \"2017-01-01 00:01:03\", \"2017-01-01 00:01:04\", \"2017-01-01 00:01:05\", \"2017-01-01 00:01:06\", \"2017-01-01 00:01:07\", \"2017-01-01 00:01:08\", \"2017-01-01 00:01:09\", \"2017-01-01 00:01:10\", \"2017-01-01 00:01:11\", \"2017-01-01 00:01:12\", \"2017-01-01 00:01:13\", \"2017-01-01 00:01:14\", \"2017-01-01 00:01:15\", \"2017-01-01 00:01:16\", \"2017-01-01 00:01:17\", \"2017-01-01 00:01:18\", \"2017-01-01 00:01:19\", \"2017-01-01 00:01:20\", \"2017-01-01 00:01:21\", \"2017-01-01 00:01:22\", \"2017-01-01 00:01:23\", \"2017-01-01 00:01:24\", \"2017-01-01 00:01:25\", \"2017-01-01 00:01:26\", \"2017-01-01 00:01:27\", \"2017-01-01 00:01:28\", \"2017-01-01 00:01:29\", \"2017-01-01 00:01:30\", \"2017-01-01 00:01:31\", \"2017-01-01 00:01:32\", \"2017-01-01 00:01:33\", \"2017-01-01 00:01:34\", \"2017-01-01 00:01:35\", \"2017-01-01 00:01:36\", \"2017-01-01 00:01:37\", \"2017-01-01 00:01:38\", \"2017-01-01 00:01:39\", \"2017-01-01 00:01:40\", \"2017-01-01 00:01:41\", \"2017-01-01 00:01:42\", \"2017-01-01 00:01:43\", \"2017-01-01 00:01:44\", \"2017-01-01 00:01:45\", \"2017-01-01 00:01:46\", \"2017-01-01 00:01:47\", \"2017-01-01 00:01:48\", \"2017-01-01 00:01:49\", \"2017-01-01 00:01:50\", \"2017-01-01 00:01:51\", \"2017-01-01 00:01:52\", \"2017-01-01 00:01:53\", \"2017-01-01 00:01:54\", \"2017-01-01 00:01:55\", \"2017-01-01 00:01:56\", \"2017-01-01 00:01:57\", \"2017-01-01 00:01:58\", \"2017-01-01 00:01:59\", \"2017-01-01 00:02:00\", \"2017-01-01 00:02:01\", \"2017-01-01 00:02:02\", \"2017-01-01 00:02:03\", \"2017-01-01 00:02:04\", \"2017-01-01 00:02:05\", \"2017-01-01 00:02:06\", \"2017-01-01 00:02:07\", \"2017-01-01 00:02:08\", \"2017-01-01 00:02:09\", \"2017-01-01 00:02:10\", \"2017-01-01 00:02:11\", \"2017-01-01 00:02:12\", \"2017-01-01 00:02:13\", \"2017-01-01 00:02:14\", \"2017-01-01 00:02:15\", \"2017-01-01 00:02:16\", \"2017-01-01 00:02:17\", \"2017-01-01 00:02:18\", \"2017-01-01 00:02:19\", \"2017-01-01 00:02:20\", \"2017-01-01 00:02:21\", \"2017-01-01 00:02:22\", \"2017-01-01 00:02:23\", \"2017-01-01 00:02:24\", \"2017-01-01 00:02:25\", \"2017-01-01 00:02:26\", \"2017-01-01 00:02:27\", \"2017-01-01 00:02:28\", \"2017-01-01 00:02:29\", \"2017-01-01 00:02:30\", \"2017-01-01 00:02:31\", \"2017-01-01 00:02:32\", \"2017-01-01 00:02:33\", \"2017-01-01 00:02:34\", \"2017-01-01 00:02:35\", \"2017-01-01 00:02:36\", \"2017-01-01 00:02:37\", \"2017-01-01 00:02:38\", \"2017-01-01 00:02:39\", \"2017-01-01 00:02:40\", \"2017-01-01 00:02:41\", \"2017-01-01 00:02:42\", \"2017-01-01 00:02:43\", \"2017-01-01 00:02:44\", \"2017-01-01 00:02:45\", \"2017-01-01 00:02:46\", \"2017-01-01 00:02:47\", \"2017-01-01 00:02:48\", \"2017-01-01 00:02:49\", \"2017-01-01 00:02:50\", \"2017-01-01 00:02:51\", \"2017-01-01 00:02:52\", \"2017-01-01 00:02:53\", \"2017-01-01 00:02:54\", \"2017-01-01 00:02:55\", \"2017-01-01 00:02:56\", \"2017-01-01 00:02:57\", \"2017-01-01 00:02:58\", \"2017-01-01 00:02:59\", \"2017-01-01 00:03:00\", \"2017-01-01 00:03:01\", \"2017-01-01 00:03:02\", \"2017-01-01 00:03:03\", \"2017-01-01 00:03:04\", \"2017-01-01 00:03:05\", \"2017-01-01 00:03:06\", \"2017-01-01 00:03:07\", \"2017-01-01 00:03:08\", \"2017-01-01 00:03:09\", \"2017-01-01 00:03:10\", \"2017-01-01 00:03:11\", \"2017-01-01 00:03:12\", \"2017-01-01 00:03:13\", \"2017-01-01 00:03:14\", \"2017-01-01 00:03:15\", \"2017-01-01 00:03:16\", \"2017-01-01 00:03:17\", \"2017-01-01 00:03:18\", \"2017-01-01 00:03:19\", \"2017-01-01 00:03:20\", \"2017-01-01 00:03:21\", \"2017-01-01 00:03:22\", \"2017-01-01 00:03:23\", \"2017-01-01 00:03:24\", \"2017-01-01 00:03:25\", \"2017-01-01 00:03:26\", \"2017-01-01 00:03:27\", \"2017-01-01 00:03:28\", \"2017-01-01 00:03:29\", \"2017-01-01 00:03:30\", \"2017-01-01 00:03:31\", \"2017-01-01 00:03:32\", \"2017-01-01 00:03:33\", \"2017-01-01 00:03:34\", \"2017-01-01 00:03:35\", \"2017-01-01 00:03:36\", \"2017-01-01 00:03:37\", \"2017-01-01 00:03:38\", \"2017-01-01 00:03:39\", \"2017-01-01 00:03:40\", \"2017-01-01 00:03:41\", \"2017-01-01 00:03:42\", \"2017-01-01 00:03:43\", \"2017-01-01 00:03:44\", \"2017-01-01 00:03:45\", \"2017-01-01 00:03:46\", \"2017-01-01 00:03:47\", \"2017-01-01 00:03:48\", \"2017-01-01 00:03:49\", \"2017-01-01 00:03:50\", \"2017-01-01 00:03:51\", \"2017-01-01 00:03:52\", \"2017-01-01 00:03:53\", \"2017-01-01 00:03:54\", \"2017-01-01 00:03:55\", \"2017-01-01 00:03:56\", \"2017-01-01 00:03:57\", \"2017-01-01 00:03:58\", \"2017-01-01 00:03:59\", \"2017-01-01 00:04:00\", \"2017-01-01 00:04:01\", \"2017-01-01 00:04:02\", \"2017-01-01 00:04:03\", \"2017-01-01 00:04:04\", \"2017-01-01 00:04:05\", \"2017-01-01 00:04:06\", \"2017-01-01 00:04:07\", \"2017-01-01 00:04:08\", \"2017-01-01 00:04:09\", \"2017-01-01 00:04:10\", \"2017-01-01 00:04:11\", \"2017-01-01 00:04:12\", \"2017-01-01 00:04:13\", \"2017-01-01 00:04:14\", \"2017-01-01 00:04:15\", \"2017-01-01 00:04:16\", \"2017-01-01 00:04:17\", \"2017-01-01 00:04:18\", \"2017-01-01 00:04:19\", \"2017-01-01 00:04:20\", \"2017-01-01 00:04:21\", \"2017-01-01 00:04:22\", \"2017-01-01 00:04:23\", \"2017-01-01 00:04:24\", \"2017-01-01 00:04:25\", \"2017-01-01 00:04:26\", \"2017-01-01 00:04:27\", \"2017-01-01 00:04:28\", \"2017-01-01 00:04:29\", \"2017-01-01 00:04:30\", \"2017-01-01 00:04:31\", \"2017-01-01 00:04:32\", \"2017-01-01 00:04:33\", \"2017-01-01 00:04:34\", \"2017-01-01 00:04:35\", \"2017-01-01 00:04:36\", \"2017-01-01 00:04:37\", \"2017-01-01 00:04:38\", \"2017-01-01 00:04:39\", \"2017-01-01 00:04:40\", \"2017-01-01 00:04:41\", \"2017-01-01 00:04:42\", \"2017-01-01 00:04:43\", \"2017-01-01 00:04:44\", \"2017-01-01 00:04:45\", \"2017-01-01 00:04:46\", \"2017-01-01 00:04:47\", \"2017-01-01 00:04:48\", \"2017-01-01 00:04:49\", \"2017-01-01 00:04:50\", \"2017-01-01 00:04:51\", \"2017-01-01 00:04:52\", \"2017-01-01 00:04:53\", \"2017-01-01 00:04:54\", \"2017-01-01 00:04:55\", \"2017-01-01 00:04:56\", \"2017-01-01 00:04:57\", \"2017-01-01 00:04:58\", \"2017-01-01 00:04:59\", \"2017-01-01 00:05:00\", \"2017-01-01 00:05:01\", \"2017-01-01 00:05:02\", \"2017-01-01 00:05:03\", \"2017-01-01 00:05:04\", \"2017-01-01 00:05:05\", \"2017-01-01 00:05:06\", \"2017-01-01 00:05:07\", \"2017-01-01 00:05:08\", \"2017-01-01 00:05:09\", \"2017-01-01 00:05:10\", \"2017-01-01 00:05:11\", \"2017-01-01 00:05:12\", \"2017-01-01 00:05:13\", \"2017-01-01 00:05:14\", \"2017-01-01 00:05:15\", \"2017-01-01 00:05:16\", \"2017-01-01 00:05:17\", \"2017-01-01 00:05:18\", \"2017-01-01 00:05:19\", \"2017-01-01 00:05:20\", \"2017-01-01 00:05:21\", \"2017-01-01 00:05:22\", \"2017-01-01 00:05:23\", \"2017-01-01 00:05:24\", \"2017-01-01 00:05:25\", \"2017-01-01 00:05:26\", \"2017-01-01 00:05:27\", \"2017-01-01 00:05:28\", \"2017-01-01 00:05:29\", \"2017-01-01 00:05:30\", \"2017-01-01 00:05:31\", \"2017-01-01 00:05:32\", \"2017-01-01 00:05:33\", \"2017-01-01 00:05:34\", \"2017-01-01 00:05:35\", \"2017-01-01 00:05:36\", \"2017-01-01 00:05:37\", \"2017-01-01 00:05:38\", \"2017-01-01 00:05:39\", \"2017-01-01 00:05:40\", \"2017-01-01 00:05:41\", \"2017-01-01 00:05:42\", \"2017-01-01 00:05:43\", \"2017-01-01 00:05:44\", \"2017-01-01 00:05:45\", \"2017-01-01 00:05:46\", \"2017-01-01 00:05:47\", \"2017-01-01 00:05:48\", \"2017-01-01 00:05:49\", \"2017-01-01 00:05:50\", \"2017-01-01 00:05:51\", \"2017-01-01 00:05:52\", \"2017-01-01 00:05:53\", \"2017-01-01 00:05:54\", \"2017-01-01 00:05:55\", \"2017-01-01 00:05:56\", \"2017-01-01 00:05:57\", \"2017-01-01 00:05:58\", \"2017-01-01 00:05:59\", \"2017-01-01 00:06:00\", \"2017-01-01 00:06:01\", \"2017-01-01 00:06:02\", \"2017-01-01 00:06:03\", \"2017-01-01 00:06:04\", \"2017-01-01 00:06:05\", \"2017-01-01 00:06:06\", \"2017-01-01 00:06:07\", \"2017-01-01 00:06:08\", \"2017-01-01 00:06:09\", \"2017-01-01 00:06:10\", \"2017-01-01 00:06:11\", \"2017-01-01 00:06:12\", \"2017-01-01 00:06:13\", \"2017-01-01 00:06:14\", \"2017-01-01 00:06:15\", \"2017-01-01 00:06:16\", \"2017-01-01 00:06:17\", \"2017-01-01 00:06:18\", \"2017-01-01 00:06:19\", \"2017-01-01 00:06:20\", \"2017-01-01 00:06:21\", \"2017-01-01 00:06:22\", \"2017-01-01 00:06:23\", \"2017-01-01 00:06:24\", \"2017-01-01 00:06:25\", \"2017-01-01 00:06:26\", \"2017-01-01 00:06:27\", \"2017-01-01 00:06:28\", \"2017-01-01 00:06:29\", \"2017-01-01 00:06:30\", \"2017-01-01 00:06:31\", \"2017-01-01 00:06:32\", \"2017-01-01 00:06:33\", \"2017-01-01 00:06:34\", \"2017-01-01 00:06:35\", \"2017-01-01 00:06:36\", \"2017-01-01 00:06:37\", \"2017-01-01 00:06:38\", \"2017-01-01 00:06:39\", \"2017-01-01 00:06:40\", \"2017-01-01 00:06:41\", \"2017-01-01 00:06:42\", \"2017-01-01 00:06:43\", \"2017-01-01 00:06:44\", \"2017-01-01 00:06:45\", \"2017-01-01 00:06:46\", \"2017-01-01 00:06:47\", \"2017-01-01 00:06:48\", \"2017-01-01 00:06:49\", \"2017-01-01 00:06:50\", \"2017-01-01 00:06:51\", \"2017-01-01 00:06:52\", \"2017-01-01 00:06:53\", \"2017-01-01 00:06:54\", \"2017-01-01 00:06:55\", \"2017-01-01 00:06:56\", \"2017-01-01 00:06:57\", \"2017-01-01 00:06:58\", \"2017-01-01 00:06:59\", \"2017-01-01 00:07:00\", \"2017-01-01 00:07:01\", \"2017-01-01 00:07:02\", \"2017-01-01 00:07:03\", \"2017-01-01 00:07:04\", \"2017-01-01 00:07:05\", \"2017-01-01 00:07:06\", \"2017-01-01 00:07:07\", \"2017-01-01 00:07:08\", \"2017-01-01 00:07:09\", \"2017-01-01 00:07:10\", \"2017-01-01 00:07:11\", \"2017-01-01 00:07:12\", \"2017-01-01 00:07:13\", \"2017-01-01 00:07:14\", \"2017-01-01 00:07:15\", \"2017-01-01 00:07:16\", \"2017-01-01 00:07:17\", \"2017-01-01 00:07:18\", \"2017-01-01 00:07:19\", \"2017-01-01 00:07:20\", \"2017-01-01 00:07:21\", \"2017-01-01 00:07:22\", \"2017-01-01 00:07:23\", \"2017-01-01 00:07:24\", \"2017-01-01 00:07:25\", \"2017-01-01 00:07:26\", \"2017-01-01 00:07:27\", \"2017-01-01 00:07:28\", \"2017-01-01 00:07:29\", \"2017-01-01 00:07:30\", \"2017-01-01 00:07:31\", \"2017-01-01 00:07:32\", \"2017-01-01 00:07:33\", \"2017-01-01 00:07:34\", \"2017-01-01 00:07:35\", \"2017-01-01 00:07:36\", \"2017-01-01 00:07:37\", \"2017-01-01 00:07:38\", \"2017-01-01 00:07:39\", \"2017-01-01 00:07:40\", \"2017-01-01 00:07:41\", \"2017-01-01 00:07:42\", \"2017-01-01 00:07:43\", \"2017-01-01 00:07:44\", \"2017-01-01 00:07:45\", \"2017-01-01 00:07:46\", \"2017-01-01 00:07:47\", \"2017-01-01 00:07:48\", \"2017-01-01 00:07:49\", \"2017-01-01 00:07:50\", \"2017-01-01 00:07:51\", \"2017-01-01 00:07:52\", \"2017-01-01 00:07:53\", \"2017-01-01 00:07:54\", \"2017-01-01 00:07:55\", \"2017-01-01 00:07:56\", \"2017-01-01 00:07:57\", \"2017-01-01 00:07:58\", \"2017-01-01 00:07:59\", \"2017-01-01 00:08:00\", \"2017-01-01 00:08:01\", \"2017-01-01 00:08:02\", \"2017-01-01 00:08:03\", \"2017-01-01 00:08:04\", \"2017-01-01 00:08:05\", \"2017-01-01 00:08:06\", \"2017-01-01 00:08:07\", \"2017-01-01 00:08:08\", \"2017-01-01 00:08:09\", \"2017-01-01 00:08:10\", \"2017-01-01 00:08:11\", \"2017-01-01 00:08:12\", \"2017-01-01 00:08:13\", \"2017-01-01 00:08:14\", \"2017-01-01 00:08:15\", \"2017-01-01 00:08:16\", \"2017-01-01 00:08:17\", \"2017-01-01 00:08:18\", \"2017-01-01 00:08:19\", \"2017-01-01 00:08:20\", \"2017-01-01 00:08:21\", \"2017-01-01 00:08:22\", \"2017-01-01 00:08:23\", \"2017-01-01 00:08:24\", \"2017-01-01 00:08:25\", \"2017-01-01 00:08:26\", \"2017-01-01 00:08:27\", \"2017-01-01 00:08:28\", \"2017-01-01 00:08:29\", \"2017-01-01 00:08:30\", \"2017-01-01 00:08:31\", \"2017-01-01 00:08:32\", \"2017-01-01 00:08:33\", \"2017-01-01 00:08:34\", \"2017-01-01 00:08:35\", \"2017-01-01 00:08:36\", \"2017-01-01 00:08:37\", \"2017-01-01 00:08:38\", \"2017-01-01 00:08:39\", \"2017-01-01 00:08:40\", \"2017-01-01 00:08:41\", \"2017-01-01 00:08:42\", \"2017-01-01 00:08:43\", \"2017-01-01 00:08:44\", \"2017-01-01 00:08:45\", \"2017-01-01 00:08:46\", \"2017-01-01 00:08:47\", \"2017-01-01 00:08:48\", \"2017-01-01 00:08:49\", \"2017-01-01 00:08:50\", \"2017-01-01 00:08:51\", \"2017-01-01 00:08:52\", \"2017-01-01 00:08:53\", \"2017-01-01 00:08:54\", \"2017-01-01 00:08:55\", \"2017-01-01 00:08:56\", \"2017-01-01 00:08:57\", \"2017-01-01 00:08:58\", \"2017-01-01 00:08:59\", \"2017-01-01 00:09:00\", \"2017-01-01 00:09:01\", \"2017-01-01 00:09:02\", \"2017-01-01 00:09:03\", \"2017-01-01 00:09:04\", \"2017-01-01 00:09:05\", \"2017-01-01 00:09:06\", \"2017-01-01 00:09:07\", \"2017-01-01 00:09:08\", \"2017-01-01 00:09:09\", \"2017-01-01 00:09:10\", \"2017-01-01 00:09:11\", \"2017-01-01 00:09:12\", \"2017-01-01 00:09:13\", \"2017-01-01 00:09:14\", \"2017-01-01 00:09:15\", \"2017-01-01 00:09:16\", \"2017-01-01 00:09:17\", \"2017-01-01 00:09:18\", \"2017-01-01 00:09:19\", \"2017-01-01 00:09:20\", \"2017-01-01 00:09:21\", \"2017-01-01 00:09:22\", \"2017-01-01 00:09:23\", \"2017-01-01 00:09:24\", \"2017-01-01 00:09:25\", \"2017-01-01 00:09:26\", \"2017-01-01 00:09:27\", \"2017-01-01 00:09:28\", \"2017-01-01 00:09:29\", \"2017-01-01 00:09:30\", \"2017-01-01 00:09:31\", \"2017-01-01 00:09:32\", \"2017-01-01 00:09:33\", \"2017-01-01 00:09:34\", \"2017-01-01 00:09:35\", \"2017-01-01 00:09:36\", \"2017-01-01 00:09:37\", \"2017-01-01 00:09:38\", \"2017-01-01 00:09:39\", \"2017-01-01 00:09:40\", \"2017-01-01 00:09:41\", \"2017-01-01 00:09:42\", \"2017-01-01 00:09:43\", \"2017-01-01 00:09:44\", \"2017-01-01 00:09:45\", \"2017-01-01 00:09:46\", \"2017-01-01 00:09:47\", \"2017-01-01 00:09:48\", \"2017-01-01 00:09:49\", \"2017-01-01 00:09:50\", \"2017-01-01 00:09:51\", \"2017-01-01 00:09:52\", \"2017-01-01 00:09:53\", \"2017-01-01 00:09:54\", \"2017-01-01 00:09:55\", \"2017-01-01 00:09:56\", \"2017-01-01 00:09:57\", \"2017-01-01 00:09:58\", \"2017-01-01 00:09:59\", \"2017-01-01 00:10:00\", \"2017-01-01 00:10:01\", \"2017-01-01 00:10:02\", \"2017-01-01 00:10:03\", \"2017-01-01 00:10:04\", \"2017-01-01 00:10:05\", \"2017-01-01 00:10:06\", \"2017-01-01 00:10:07\", \"2017-01-01 00:10:08\", \"2017-01-01 00:10:09\", \"2017-01-01 00:10:10\", \"2017-01-01 00:10:11\", \"2017-01-01 00:10:12\", \"2017-01-01 00:10:13\", \"2017-01-01 00:10:14\", \"2017-01-01 00:10:15\", \"2017-01-01 00:10:16\", \"2017-01-01 00:10:17\", \"2017-01-01 00:10:18\", \"2017-01-01 00:10:19\", \"2017-01-01 00:10:20\", \"2017-01-01 00:10:21\", \"2017-01-01 00:10:22\", \"2017-01-01 00:10:23\", \"2017-01-01 00:10:24\", \"2017-01-01 00:10:25\", \"2017-01-01 00:10:26\", \"2017-01-01 00:10:27\", \"2017-01-01 00:10:28\", \"2017-01-01 00:10:29\", \"2017-01-01 00:10:30\", \"2017-01-01 00:10:31\", \"2017-01-01 00:10:32\", \"2017-01-01 00:10:33\", \"2017-01-01 00:10:34\", \"2017-01-01 00:10:35\", \"2017-01-01 00:10:36\", \"2017-01-01 00:10:37\", \"2017-01-01 00:10:38\", \"2017-01-01 00:10:39\", \"2017-01-01 00:10:40\", \"2017-01-01 00:10:41\", \"2017-01-01 00:10:42\", \"2017-01-01 00:10:43\", \"2017-01-01 00:10:44\", \"2017-01-01 00:10:45\", \"2017-01-01 00:10:46\", \"2017-01-01 00:10:47\", \"2017-01-01 00:10:48\", \"2017-01-01 00:10:49\", \"2017-01-01 00:10:50\", \"2017-01-01 00:10:51\", \"2017-01-01 00:10:52\", \"2017-01-01 00:10:53\", \"2017-01-01 00:10:54\", \"2017-01-01 00:10:55\", \"2017-01-01 00:10:56\", \"2017-01-01 00:10:57\", \"2017-01-01 00:10:58\", \"2017-01-01 00:10:59\", \"2017-01-01 00:11:00\", \"2017-01-01 00:11:01\", \"2017-01-01 00:11:02\", \"2017-01-01 00:11:03\", \"2017-01-01 00:11:04\", \"2017-01-01 00:11:05\", \"2017-01-01 00:11:06\", \"2017-01-01 00:11:07\", \"2017-01-01 00:11:08\", \"2017-01-01 00:11:09\", \"2017-01-01 00:11:10\", \"2017-01-01 00:11:11\", \"2017-01-01 00:11:12\", \"2017-01-01 00:11:13\", \"2017-01-01 00:11:14\", \"2017-01-01 00:11:15\", \"2017-01-01 00:11:16\", \"2017-01-01 00:11:17\", \"2017-01-01 00:11:18\", \"2017-01-01 00:11:19\", \"2017-01-01 00:11:20\", \"2017-01-01 00:11:21\", \"2017-01-01 00:11:22\", \"2017-01-01 00:11:23\", \"2017-01-01 00:11:24\", \"2017-01-01 00:11:25\", \"2017-01-01 00:11:26\", \"2017-01-01 00:11:27\", \"2017-01-01 00:11:28\", \"2017-01-01 00:11:29\", \"2017-01-01 00:11:30\", \"2017-01-01 00:11:31\", \"2017-01-01 00:11:32\", \"2017-01-01 00:11:33\", \"2017-01-01 00:11:34\", \"2017-01-01 00:11:35\", \"2017-01-01 00:11:36\", \"2017-01-01 00:11:37\", \"2017-01-01 00:11:38\", \"2017-01-01 00:11:39\", \"2017-01-01 00:11:40\", \"2017-01-01 00:11:41\", \"2017-01-01 00:11:42\", \"2017-01-01 00:11:43\", \"2017-01-01 00:11:44\", \"2017-01-01 00:11:45\", \"2017-01-01 00:11:46\", \"2017-01-01 00:11:47\", \"2017-01-01 00:11:48\", \"2017-01-01 00:11:49\", \"2017-01-01 00:11:50\", \"2017-01-01 00:11:51\", \"2017-01-01 00:11:52\", \"2017-01-01 00:11:53\", \"2017-01-01 00:11:54\", \"2017-01-01 00:11:55\", \"2017-01-01 00:11:56\", \"2017-01-01 00:11:57\", \"2017-01-01 00:11:58\", \"2017-01-01 00:11:59\", \"2017-01-01 00:12:00\", \"2017-01-01 00:12:01\", \"2017-01-01 00:12:02\", \"2017-01-01 00:12:03\", \"2017-01-01 00:12:04\", \"2017-01-01 00:12:05\", \"2017-01-01 00:12:06\", \"2017-01-01 00:12:07\", \"2017-01-01 00:12:08\", \"2017-01-01 00:12:09\", \"2017-01-01 00:12:10\", \"2017-01-01 00:12:11\", \"2017-01-01 00:12:12\", \"2017-01-01 00:12:13\", \"2017-01-01 00:12:14\", \"2017-01-01 00:12:15\", \"2017-01-01 00:12:16\", \"2017-01-01 00:12:17\", \"2017-01-01 00:12:18\", \"2017-01-01 00:12:19\", \"2017-01-01 00:12:20\", \"2017-01-01 00:12:21\", \"2017-01-01 00:12:22\", \"2017-01-01 00:12:23\", \"2017-01-01 00:12:24\", \"2017-01-01 00:12:25\", \"2017-01-01 00:12:26\", \"2017-01-01 00:12:27\", \"2017-01-01 00:12:28\", \"2017-01-01 00:12:29\", \"2017-01-01 00:12:30\", \"2017-01-01 00:12:31\", \"2017-01-01 00:12:32\", \"2017-01-01 00:12:33\", \"2017-01-01 00:12:34\", \"2017-01-01 00:12:35\", \"2017-01-01 00:12:36\", \"2017-01-01 00:12:37\", \"2017-01-01 00:12:38\", \"2017-01-01 00:12:39\", \"2017-01-01 00:12:40\", \"2017-01-01 00:12:41\", \"2017-01-01 00:12:42\", \"2017-01-01 00:12:43\", \"2017-01-01 00:12:44\", \"2017-01-01 00:12:45\", \"2017-01-01 00:12:46\", \"2017-01-01 00:12:47\", \"2017-01-01 00:12:48\", \"2017-01-01 00:12:49\", \"2017-01-01 00:12:50\", \"2017-01-01 00:12:51\", \"2017-01-01 00:12:52\", \"2017-01-01 00:12:53\", \"2017-01-01 00:12:54\", \"2017-01-01 00:12:55\", \"2017-01-01 00:12:56\", \"2017-01-01 00:12:57\", \"2017-01-01 00:12:58\", \"2017-01-01 00:12:59\", \"2017-01-01 00:13:00\", \"2017-01-01 00:13:01\", \"2017-01-01 00:13:02\", \"2017-01-01 00:13:03\", \"2017-01-01 00:13:04\", \"2017-01-01 00:13:05\", \"2017-01-01 00:13:06\", \"2017-01-01 00:13:07\", \"2017-01-01 00:13:08\", \"2017-01-01 00:13:09\", \"2017-01-01 00:13:10\", \"2017-01-01 00:13:11\", \"2017-01-01 00:13:12\", \"2017-01-01 00:13:13\", \"2017-01-01 00:13:14\", \"2017-01-01 00:13:15\", \"2017-01-01 00:13:16\", \"2017-01-01 00:13:17\", \"2017-01-01 00:13:18\", \"2017-01-01 00:13:19\", \"2017-01-01 00:13:20\", \"2017-01-01 00:13:21\", \"2017-01-01 00:13:22\", \"2017-01-01 00:13:23\", \"2017-01-01 00:13:24\", \"2017-01-01 00:13:25\", \"2017-01-01 00:13:26\", \"2017-01-01 00:13:27\", \"2017-01-01 00:13:28\", \"2017-01-01 00:13:29\", \"2017-01-01 00:13:30\", \"2017-01-01 00:13:31\", \"2017-01-01 00:13:32\", \"2017-01-01 00:13:33\", \"2017-01-01 00:13:34\", \"2017-01-01 00:13:35\", \"2017-01-01 00:13:36\", \"2017-01-01 00:13:37\", \"2017-01-01 00:13:38\", \"2017-01-01 00:13:39\", \"2017-01-01 00:13:40\", \"2017-01-01 00:13:41\", \"2017-01-01 00:13:42\", \"2017-01-01 00:13:43\", \"2017-01-01 00:13:44\", \"2017-01-01 00:13:45\", \"2017-01-01 00:13:46\", \"2017-01-01 00:13:47\", \"2017-01-01 00:13:48\", \"2017-01-01 00:13:49\", \"2017-01-01 00:13:50\", \"2017-01-01 00:13:51\", \"2017-01-01 00:13:52\", \"2017-01-01 00:13:53\", \"2017-01-01 00:13:54\", \"2017-01-01 00:13:55\", \"2017-01-01 00:13:56\", \"2017-01-01 00:13:57\", \"2017-01-01 00:13:58\", \"2017-01-01 00:13:59\", \"2017-01-01 00:14:00\", \"2017-01-01 00:14:01\", \"2017-01-01 00:14:02\", \"2017-01-01 00:14:03\", \"2017-01-01 00:14:04\", \"2017-01-01 00:14:05\", \"2017-01-01 00:14:06\", \"2017-01-01 00:14:07\", \"2017-01-01 00:14:08\", \"2017-01-01 00:14:09\", \"2017-01-01 00:14:10\", \"2017-01-01 00:14:11\", \"2017-01-01 00:14:12\", \"2017-01-01 00:14:13\", \"2017-01-01 00:14:14\", \"2017-01-01 00:14:15\", \"2017-01-01 00:14:16\", \"2017-01-01 00:14:17\", \"2017-01-01 00:14:18\", \"2017-01-01 00:14:19\", \"2017-01-01 00:14:20\", \"2017-01-01 00:14:21\", \"2017-01-01 00:14:22\", \"2017-01-01 00:14:23\", \"2017-01-01 00:14:24\", \"2017-01-01 00:14:25\", \"2017-01-01 00:14:26\", \"2017-01-01 00:14:27\", \"2017-01-01 00:14:28\", \"2017-01-01 00:14:29\", \"2017-01-01 00:14:30\", \"2017-01-01 00:14:31\", \"2017-01-01 00:14:32\", \"2017-01-01 00:14:33\", \"2017-01-01 00:14:34\", \"2017-01-01 00:14:35\", \"2017-01-01 00:14:36\", \"2017-01-01 00:14:37\", \"2017-01-01 00:14:38\", \"2017-01-01 00:14:39\", \"2017-01-01 00:14:40\", \"2017-01-01 00:14:41\", \"2017-01-01 00:14:42\", \"2017-01-01 00:14:43\", \"2017-01-01 00:14:44\", \"2017-01-01 00:14:45\", \"2017-01-01 00:14:46\", \"2017-01-01 00:14:47\", \"2017-01-01 00:14:48\", \"2017-01-01 00:14:49\", \"2017-01-01 00:14:50\", \"2017-01-01 00:14:51\", \"2017-01-01 00:14:52\", \"2017-01-01 00:14:53\", \"2017-01-01 00:14:54\", \"2017-01-01 00:14:55\", \"2017-01-01 00:14:56\", \"2017-01-01 00:14:57\", \"2017-01-01 00:14:58\", \"2017-01-01 00:14:59\", \"2017-01-01 00:15:00\", \"2017-01-01 00:15:01\", \"2017-01-01 00:15:02\", \"2017-01-01 00:15:03\", \"2017-01-01 00:15:04\", \"2017-01-01 00:15:05\", \"2017-01-01 00:15:06\", \"2017-01-01 00:15:07\", \"2017-01-01 00:15:08\", \"2017-01-01 00:15:09\", \"2017-01-01 00:15:10\", \"2017-01-01 00:15:11\", \"2017-01-01 00:15:12\", \"2017-01-01 00:15:13\", \"2017-01-01 00:15:14\", \"2017-01-01 00:15:15\", \"2017-01-01 00:15:16\", \"2017-01-01 00:15:17\", \"2017-01-01 00:15:18\", \"2017-01-01 00:15:19\", \"2017-01-01 00:15:20\", \"2017-01-01 00:15:21\", \"2017-01-01 00:15:22\", \"2017-01-01 00:15:23\", \"2017-01-01 00:15:24\", \"2017-01-01 00:15:25\", \"2017-01-01 00:15:26\", \"2017-01-01 00:15:27\", \"2017-01-01 00:15:28\", \"2017-01-01 00:15:29\", \"2017-01-01 00:15:30\", \"2017-01-01 00:15:31\", \"2017-01-01 00:15:32\", \"2017-01-01 00:15:33\", \"2017-01-01 00:15:34\", \"2017-01-01 00:15:35\", \"2017-01-01 00:15:36\", \"2017-01-01 00:15:37\", \"2017-01-01 00:15:38\", \"2017-01-01 00:15:39\", \"2017-01-01 00:15:40\", \"2017-01-01 00:15:41\", \"2017-01-01 00:15:42\", \"2017-01-01 00:15:43\", \"2017-01-01 00:15:44\", \"2017-01-01 00:15:45\", \"2017-01-01 00:15:46\", \"2017-01-01 00:15:47\", \"2017-01-01 00:15:48\", \"2017-01-01 00:15:49\", \"2017-01-01 00:15:50\", \"2017-01-01 00:15:51\", \"2017-01-01 00:15:52\", \"2017-01-01 00:15:53\", \"2017-01-01 00:15:54\", \"2017-01-01 00:15:55\", \"2017-01-01 00:15:56\", \"2017-01-01 00:15:57\", \"2017-01-01 00:15:58\", \"2017-01-01 00:15:59\", \"2017-01-01 00:16:00\", \"2017-01-01 00:16:01\", \"2017-01-01 00:16:02\", \"2017-01-01 00:16:03\", \"2017-01-01 00:16:04\", \"2017-01-01 00:16:05\", \"2017-01-01 00:16:06\", \"2017-01-01 00:16:07\", \"2017-01-01 00:16:08\", \"2017-01-01 00:16:09\", \"2017-01-01 00:16:10\", \"2017-01-01 00:16:11\", \"2017-01-01 00:16:12\", \"2017-01-01 00:16:13\", \"2017-01-01 00:16:14\", \"2017-01-01 00:16:15\", \"2017-01-01 00:16:16\", \"2017-01-01 00:16:17\", \"2017-01-01 00:16:18\", \"2017-01-01 00:16:19\", \"2017-01-01 00:16:20\", \"2017-01-01 00:16:21\", \"2017-01-01 00:16:22\", \"2017-01-01 00:16:23\", \"2017-01-01 00:16:24\", \"2017-01-01 00:16:25\", \"2017-01-01 00:16:26\", \"2017-01-01 00:16:27\", \"2017-01-01 00:16:28\", \"2017-01-01 00:16:29\", \"2017-01-01 00:16:30\", \"2017-01-01 00:16:31\", \"2017-01-01 00:16:32\", \"2017-01-01 00:16:33\", \"2017-01-01 00:16:34\", \"2017-01-01 00:16:35\", \"2017-01-01 00:16:36\", \"2017-01-01 00:16:37\", \"2017-01-01 00:16:38\", \"2017-01-01 00:16:39\"], \"line\": {\"color\": \"rgba(255, 153, 51, 1.0)\", \"width\": 1.3, \"dash\": \"solid\"}, \"type\": \"scatter\"}], {\"paper_bgcolor\": \"#F5F6F9\", \"plot_bgcolor\": \"#F5F6F9\", \"xaxis1\": {\"tickfont\": {\"color\": \"#4D5663\"}, \"title\": \"\", \"showgrid\": true, \"zerolinecolor\": \"#E1E5ED\", \"gridcolor\": \"#E1E5ED\", \"titlefont\": {\"color\": \"#4D5663\"}}, \"yaxis1\": {\"tickfont\": {\"color\": \"#4D5663\"}, \"title\": \"\", \"showgrid\": true, \"zerolinecolor\": \"#E1E5ED\", \"gridcolor\": \"#E1E5ED\", \"titlefont\": {\"color\": \"#4D5663\"}}, \"titlefont\": {\"color\": \"#4D5663\"}, \"legend\": {\"bgcolor\": \"#F5F6F9\", \"font\": {\"color\": \"#4D5663\"}}}, {\"linkText\": \"Export to plot.ly\", \"showLink\": true})});</script>"
      ]
     },
     "metadata": {},
     "output_type": "display_data"
    }
   ],
   "source": [
    "ts.iplot()\n",
    "# ts.plot()"
   ]
  },
  {
   "cell_type": "code",
   "execution_count": null,
   "metadata": {
    "collapsed": true,
    "focus": false,
    "id": "05fb3a7f-f96d-4d2c-8944-bf02768b7eb2",
    "slideshow": {
     "slide_type": "subslide"
    }
   },
   "outputs": [],
   "source": [
    "def randwalk(startdate,points):\n",
    "    ts = pd.Series(np.random.randn(points), index=pd.date_range(startdate, periods=points))\n",
    "    ts=ts.cumsum()\n",
    "    ts.iplot()\n",
    "    return(ts)"
   ]
  },
  {
   "cell_type": "code",
   "execution_count": null,
   "metadata": {
    "focus": false,
    "id": "0ad89701-d9a8-41d2-b93b-f0e28a76498c",
    "slideshow": {
     "slide_type": "fragment"
    }
   },
   "outputs": [],
   "source": [
    "# Using pandas to make a simple random walker by repeatedly running:\n",
    "a=randwalk('1/1/2012',1000)"
   ]
  },
  {
   "cell_type": "markdown",
   "metadata": {
    "focus": false,
    "id": "2f982866-332b-4e39-a784-092157257f8f",
    "slideshow": {
     "slide_type": "subslide"
    }
   },
   "source": [
    "### I/O\n",
    "I/O is straightforward with, for example, pd.read_csv or df.to_csv"
   ]
  },
  {
   "cell_type": "markdown",
   "metadata": {
    "focus": false,
    "id": "a9c47dc7-ff2c-4d5f-9f77-0015da6e02aa",
    "slideshow": {
     "slide_type": "subslide"
    }
   },
   "source": [
    "#### The benefits of open source:\n",
    "\n",
    "Let's look under x's in plt modules"
   ]
  },
  {
   "cell_type": "markdown",
   "metadata": {
    "focus": true,
    "id": "a51cdd68-c291-46ae-9bf5-ed4f0819f161",
    "slideshow": {
     "slide_type": "slide"
    }
   },
   "source": [
    "# Next Steps\n",
    "\n",
    "**Recommended Resources**\n",
    "\n",
    "Name | Description\n",
    "--- | ---\n",
    "[Official Pandas Tutorials](http://pandas.pydata.org/pandas-docs/stable/10min.html) | Wes & Company's selection of tutorials and lectures\n",
    "[Julia Evans Pandas Cookbook](https://github.com/jvns/pandas-cookbook) | Great resource with examples from weather, bikes and 311 calls\n",
    "[Learn Pandas Tutorials](https://bitbucket.org/hrojas/learn-pandas) | A great series of Pandas tutorials from Dave Rojas\n",
    "[Research Computing Python Data PYNBs](https://github.com/ResearchComputing/Meetup-Fall-2013/tree/master/python) | A super awesome set of python notebooks from a meetup-based course exclusively devoted to pandas"
   ]
  }
 ],
 "metadata": {
  "anaconda-cloud": {},
  "kernelspec": {
   "display_name": "Python 2",
   "language": "python",
   "name": "python2"
  },
  "language_info": {
   "codemirror_mode": {
    "name": "ipython",
    "version": 2
   },
   "file_extension": ".py",
   "mimetype": "text/x-python",
   "name": "python",
   "nbconvert_exporter": "python",
   "pygments_lexer": "ipython2",
   "version": "2.7.13"
  }
 },
 "nbformat": 4,
 "nbformat_minor": 1
}
