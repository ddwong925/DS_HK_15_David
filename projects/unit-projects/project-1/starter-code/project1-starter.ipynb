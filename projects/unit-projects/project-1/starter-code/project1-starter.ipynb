{
 "cells": [
  {
   "cell_type": "markdown",
   "metadata": {},
   "source": [
    "# Project 1\n",
    "\n",
    "In this first project you will create a framework to scope out data science projects. This framework will provide you with a guide to develop a well-articulated problem statement and analysis plan that will be robust and reproducible."
   ]
  },
  {
   "cell_type": "markdown",
   "metadata": {},
   "source": [
    "### Warmup - Read and evaluate the following problem statement: \n",
    "Determine which free-tier customers will covert to paying customers, using demographic data collected at signup (age, gender, location, and profession) and customer useage data (days since last log in, and activity score `1 = active user`, `0 = inactive user`) based on Hooli data from Jan-Apr 2015.\n",
    "\n",
    "\n",
    "Based on this problem statement, answer the following four questions:\n"
   ]
  },
  {
   "cell_type": "markdown",
   "metadata": {},
   "source": [
    "#### 1. What is the outcome? What are you trying to predict?"
   ]
  },
  {
   "cell_type": "markdown",
   "metadata": {},
   "source": [
    "Answer: The outcome is the williness of converting him/herself to paying customer. We are trying to predict, given the profile of the customer, his/her activity."
   ]
  },
  {
   "cell_type": "markdown",
   "metadata": {},
   "source": [
    "#### 2. What are the predictors/covariates? "
   ]
  },
  {
   "cell_type": "markdown",
   "metadata": {},
   "source": [
    "Answer: The predictors are customer data which includes age, gender, location, days since last login and activity score."
   ]
  },
  {
   "cell_type": "markdown",
   "metadata": {},
   "source": [
    "#### 3. What timeframe is this data relevant for?"
   ]
  },
  {
   "cell_type": "markdown",
   "metadata": {},
   "source": [
    "Answer: All data from Jan to Apr 2015 (4 months data)"
   ]
  },
  {
   "cell_type": "markdown",
   "metadata": {},
   "source": [
    "#### 4. What is the hypothesis?"
   ]
  },
  {
   "cell_type": "markdown",
   "metadata": {},
   "source": [
    "Answer: Given some contraints ( not clearly illustratied in the prolem statement) that we can somehow predict if a customer will convert to paying customer."
   ]
  },
  {
   "cell_type": "markdown",
   "metadata": {},
   "source": [
    "## Let's get started with our dataset"
   ]
  },
  {
   "cell_type": "markdown",
   "metadata": {},
   "source": [
    "Now we will work with the UCLA admissions dataset. The following code loads the dataset into a pandas dataframe."
   ]
  },
  {
   "cell_type": "code",
   "execution_count": 7,
   "metadata": {},
   "outputs": [
    {
     "data": {
      "text/html": [
       "<div>\n",
       "<style>\n",
       "    .dataframe thead tr:only-child th {\n",
       "        text-align: right;\n",
       "    }\n",
       "\n",
       "    .dataframe thead th {\n",
       "        text-align: left;\n",
       "    }\n",
       "\n",
       "    .dataframe tbody tr th {\n",
       "        vertical-align: top;\n",
       "    }\n",
       "</style>\n",
       "<table border=\"1\" class=\"dataframe\">\n",
       "  <thead>\n",
       "    <tr style=\"text-align: right;\">\n",
       "      <th></th>\n",
       "      <th>admit</th>\n",
       "      <th>gre</th>\n",
       "      <th>gpa</th>\n",
       "      <th>prestige</th>\n",
       "    </tr>\n",
       "  </thead>\n",
       "  <tbody>\n",
       "    <tr>\n",
       "      <th>0</th>\n",
       "      <td>0</td>\n",
       "      <td>380.0</td>\n",
       "      <td>3.61</td>\n",
       "      <td>3.0</td>\n",
       "    </tr>\n",
       "    <tr>\n",
       "      <th>1</th>\n",
       "      <td>1</td>\n",
       "      <td>660.0</td>\n",
       "      <td>3.67</td>\n",
       "      <td>3.0</td>\n",
       "    </tr>\n",
       "    <tr>\n",
       "      <th>2</th>\n",
       "      <td>1</td>\n",
       "      <td>800.0</td>\n",
       "      <td>4.00</td>\n",
       "      <td>1.0</td>\n",
       "    </tr>\n",
       "    <tr>\n",
       "      <th>3</th>\n",
       "      <td>1</td>\n",
       "      <td>640.0</td>\n",
       "      <td>3.19</td>\n",
       "      <td>4.0</td>\n",
       "    </tr>\n",
       "    <tr>\n",
       "      <th>4</th>\n",
       "      <td>0</td>\n",
       "      <td>520.0</td>\n",
       "      <td>2.93</td>\n",
       "      <td>4.0</td>\n",
       "    </tr>\n",
       "  </tbody>\n",
       "</table>\n",
       "</div>"
      ],
      "text/plain": [
       "   admit    gre   gpa  prestige\n",
       "0      0  380.0  3.61       3.0\n",
       "1      1  660.0  3.67       3.0\n",
       "2      1  800.0  4.00       1.0\n",
       "3      1  640.0  3.19       4.0\n",
       "4      0  520.0  2.93       4.0"
      ]
     },
     "execution_count": 7,
     "metadata": {},
     "output_type": "execute_result"
    }
   ],
   "source": [
    "import os\n",
    "import numpy as np\n",
    "import pandas as pd\n",
    "\n",
    "# If you checked-out the GitHub repository, the UCLA dataset is under ../assets/admissions.csv (relative to this file)\n",
    "path = os.path.join('..', 'assets', 'admissions.csv')\n",
    "#path = 'https://github.com/ga-students/DS_HK_11/blob/gh-pages/projects/unit-projects/project-1/assets/admissions.csv'\n",
    "\n",
    "\"\"\"\"\"\n",
    "# Alternative: Get the dataset directly online...\n",
    "path = 'https://github.com/ga-students/DS_HK_11/blob/gh-pages/projects/unit-projects/project-1/assets/admissions.csv'\n",
    "\"\"\"\"\"\n",
    "\n",
    "df = pd.read_csv(path)\n",
    "\n",
    "df.head()"
   ]
  },
  {
   "cell_type": "markdown",
   "metadata": {},
   "source": [
    "Explore the dataset and answer following questions. If necessary review the information in the [readme](https://github.com/ga-students/DS_HK_13/blob/gh-pages/projects/unit-projects/project-1/readme.md) file:\n",
    "\n",
    "#### 1. Create a data dictionary "
   ]
  },
  {
   "cell_type": "markdown",
   "metadata": {},
   "source": [
    "Answer (Use the template below): \n",
    "\n",
    "Variable | Description | Type of Variable\n",
    "---| ---| ---\n",
    "Admit | 0 = not admitted 1 = admitted | categorical\n",
    "GRE | Student's GRE mark (Graduate  | continuous \n",
    "GPA | Student's GPA (Grade Point Average) | continuous\n",
    "Prestige | 1 to 4, 1 = highest, 4 = lowest | categorical "
   ]
  },
  {
   "cell_type": "markdown",
   "metadata": {},
   "source": [
    "We would like to explore the association between X (the predictors) and Y (the outcome). "
   ]
  },
  {
   "cell_type": "markdown",
   "metadata": {},
   "source": [
    "#### 2. What is the outcome?"
   ]
  },
  {
   "cell_type": "markdown",
   "metadata": {},
   "source": [
    "Answer: UCLA graduation school admission."
   ]
  },
  {
   "cell_type": "markdown",
   "metadata": {},
   "source": [
    "#### 3. What are the predictors/covariates? "
   ]
  },
  {
   "cell_type": "markdown",
   "metadata": {},
   "source": [
    "Answer: GRE, GPA and Alma mar rank"
   ]
  },
  {
   "cell_type": "markdown",
   "metadata": {},
   "source": [
    "#### 4. What timeframe is this data relevant for?"
   ]
  },
  {
   "cell_type": "markdown",
   "metadata": {},
   "source": [
    "Answer: Unknown"
   ]
  },
  {
   "cell_type": "markdown",
   "metadata": {},
   "source": [
    "#### 4. What is the hypothesis?"
   ]
  },
  {
   "cell_type": "markdown",
   "metadata": {},
   "source": [
    "Answer: The various factors in the dataset that may influence admission into graduate school."
   ]
  },
  {
   "cell_type": "markdown",
   "metadata": {},
   "source": [
    "### Using the above information, write a well-formed problem statement. \n"
   ]
  },
  {
   "cell_type": "markdown",
   "metadata": {},
   "source": [
    "##### Problem Statement"
   ]
  },
  {
   "cell_type": "markdown",
   "metadata": {},
   "source": [
    "Applying logistic regression the UCLA data set with an unknown timeframe. We are using the predictors in the dataset (GRE, GPA and Alma mar rank) to predict the UCLA Grad School admission (Admitted = 1, not admitted = 0)."
   ]
  },
  {
   "cell_type": "markdown",
   "metadata": {},
   "source": [
    "### Exploratory Analysis Plan"
   ]
  },
  {
   "cell_type": "markdown",
   "metadata": {},
   "source": [
    "Using the lab from a class as a guide, create an exploratory analysis plan. These questions revise some of the class content covered in class. Some of the material will be covered in more depth in future sessions. Feel free to do some extra reading/research on your own.\n",
    "\n",
    "Keep in mind that we are asking you to write abour how you would go about doind the EDA, not to perform the EDA itself. This will be covered in Project 2."
   ]
  },
  {
   "cell_type": "code",
   "execution_count": 2,
   "metadata": {},
   "outputs": [
    {
     "data": {
      "text/html": [
       "<div>\n",
       "<style>\n",
       "    .dataframe thead tr:only-child th {\n",
       "        text-align: right;\n",
       "    }\n",
       "\n",
       "    .dataframe thead th {\n",
       "        text-align: left;\n",
       "    }\n",
       "\n",
       "    .dataframe tbody tr th {\n",
       "        vertical-align: top;\n",
       "    }\n",
       "</style>\n",
       "<table border=\"1\" class=\"dataframe\">\n",
       "  <thead>\n",
       "    <tr style=\"text-align: right;\">\n",
       "      <th></th>\n",
       "      <th>Unique Key</th>\n",
       "      <th>Closed Date</th>\n",
       "      <th>Agency</th>\n",
       "      <th>Agency Name</th>\n",
       "      <th>Complaint Type</th>\n",
       "      <th>Descriptor</th>\n",
       "      <th>Location Type</th>\n",
       "      <th>Incident Zip</th>\n",
       "      <th>Incident Address</th>\n",
       "      <th>Street Name</th>\n",
       "      <th>...</th>\n",
       "      <th>Bridge Highway Name</th>\n",
       "      <th>Bridge Highway Direction</th>\n",
       "      <th>Road Ramp</th>\n",
       "      <th>Bridge Highway Segment</th>\n",
       "      <th>Garage Lot Name</th>\n",
       "      <th>Ferry Direction</th>\n",
       "      <th>Ferry Terminal Name</th>\n",
       "      <th>Latitude</th>\n",
       "      <th>Longitude</th>\n",
       "      <th>Location</th>\n",
       "    </tr>\n",
       "    <tr>\n",
       "      <th>Created Date</th>\n",
       "      <th></th>\n",
       "      <th></th>\n",
       "      <th></th>\n",
       "      <th></th>\n",
       "      <th></th>\n",
       "      <th></th>\n",
       "      <th></th>\n",
       "      <th></th>\n",
       "      <th></th>\n",
       "      <th></th>\n",
       "      <th></th>\n",
       "      <th></th>\n",
       "      <th></th>\n",
       "      <th></th>\n",
       "      <th></th>\n",
       "      <th></th>\n",
       "      <th></th>\n",
       "      <th></th>\n",
       "      <th></th>\n",
       "      <th></th>\n",
       "      <th></th>\n",
       "    </tr>\n",
       "  </thead>\n",
       "  <tbody>\n",
       "    <tr>\n",
       "      <th>2014-11-16 23:46:00</th>\n",
       "      <td>29300358</td>\n",
       "      <td>11/16/2014 11:46:00 PM</td>\n",
       "      <td>DSNY</td>\n",
       "      <td>BCC - Queens East</td>\n",
       "      <td>Derelict Vehicles</td>\n",
       "      <td>14 Derelict Vehicles</td>\n",
       "      <td>Street</td>\n",
       "      <td>11432</td>\n",
       "      <td>80-25 PARSONS BOULEVARD</td>\n",
       "      <td>PARSONS BOULEVARD</td>\n",
       "      <td>...</td>\n",
       "      <td>NaN</td>\n",
       "      <td>NaN</td>\n",
       "      <td>NaN</td>\n",
       "      <td>NaN</td>\n",
       "      <td>NaN</td>\n",
       "      <td>NaN</td>\n",
       "      <td>NaN</td>\n",
       "      <td>40.719411</td>\n",
       "      <td>-73.808882</td>\n",
       "      <td>(40.719410639341916, -73.80888158860446)</td>\n",
       "    </tr>\n",
       "    <tr>\n",
       "      <th>2014-11-16 02:24:35</th>\n",
       "      <td>29299837</td>\n",
       "      <td>11/16/2014 02:24:35 AM</td>\n",
       "      <td>DOB</td>\n",
       "      <td>Department of Buildings</td>\n",
       "      <td>Building/Use</td>\n",
       "      <td>Illegal Conversion Of Residential Building/Space</td>\n",
       "      <td>NaN</td>\n",
       "      <td>10465</td>\n",
       "      <td>938 HUNTINGTON AVENUE</td>\n",
       "      <td>HUNTINGTON AVENUE</td>\n",
       "      <td>...</td>\n",
       "      <td>NaN</td>\n",
       "      <td>NaN</td>\n",
       "      <td>NaN</td>\n",
       "      <td>NaN</td>\n",
       "      <td>NaN</td>\n",
       "      <td>NaN</td>\n",
       "      <td>NaN</td>\n",
       "      <td>40.827862</td>\n",
       "      <td>-73.830641</td>\n",
       "      <td>(40.827862046105416, -73.83064067165407)</td>\n",
       "    </tr>\n",
       "    <tr>\n",
       "      <th>2014-11-16 02:17:12</th>\n",
       "      <td>29297857</td>\n",
       "      <td>11/16/2014 02:50:48 AM</td>\n",
       "      <td>NYPD</td>\n",
       "      <td>New York City Police Department</td>\n",
       "      <td>Illegal Parking</td>\n",
       "      <td>Blocked Sidewalk</td>\n",
       "      <td>Street/Sidewalk</td>\n",
       "      <td>11201</td>\n",
       "      <td>229 DUFFIELD STREET</td>\n",
       "      <td>DUFFIELD STREET</td>\n",
       "      <td>...</td>\n",
       "      <td>NaN</td>\n",
       "      <td>NaN</td>\n",
       "      <td>NaN</td>\n",
       "      <td>NaN</td>\n",
       "      <td>NaN</td>\n",
       "      <td>NaN</td>\n",
       "      <td>NaN</td>\n",
       "      <td>40.691248</td>\n",
       "      <td>-73.984375</td>\n",
       "      <td>(40.69124772858873, -73.98437529459297)</td>\n",
       "    </tr>\n",
       "  </tbody>\n",
       "</table>\n",
       "<p>3 rows × 51 columns</p>\n",
       "</div>"
      ],
      "text/plain": [
       "                     Unique Key             Closed Date Agency  \\\n",
       "Created Date                                                     \n",
       "2014-11-16 23:46:00    29300358  11/16/2014 11:46:00 PM   DSNY   \n",
       "2014-11-16 02:24:35    29299837  11/16/2014 02:24:35 AM    DOB   \n",
       "2014-11-16 02:17:12    29297857  11/16/2014 02:50:48 AM   NYPD   \n",
       "\n",
       "                                         Agency Name     Complaint Type  \\\n",
       "Created Date                                                              \n",
       "2014-11-16 23:46:00                BCC - Queens East  Derelict Vehicles   \n",
       "2014-11-16 02:24:35          Department of Buildings       Building/Use   \n",
       "2014-11-16 02:17:12  New York City Police Department    Illegal Parking   \n",
       "\n",
       "                                                           Descriptor  \\\n",
       "Created Date                                                            \n",
       "2014-11-16 23:46:00                              14 Derelict Vehicles   \n",
       "2014-11-16 02:24:35  Illegal Conversion Of Residential Building/Space   \n",
       "2014-11-16 02:17:12                                  Blocked Sidewalk   \n",
       "\n",
       "                       Location Type Incident Zip         Incident Address  \\\n",
       "Created Date                                                                 \n",
       "2014-11-16 23:46:00           Street        11432  80-25 PARSONS BOULEVARD   \n",
       "2014-11-16 02:24:35              NaN        10465    938 HUNTINGTON AVENUE   \n",
       "2014-11-16 02:17:12  Street/Sidewalk        11201      229 DUFFIELD STREET   \n",
       "\n",
       "                           Street Name  \\\n",
       "Created Date                             \n",
       "2014-11-16 23:46:00  PARSONS BOULEVARD   \n",
       "2014-11-16 02:24:35  HUNTINGTON AVENUE   \n",
       "2014-11-16 02:17:12    DUFFIELD STREET   \n",
       "\n",
       "                                       ...                     \\\n",
       "Created Date                           ...                      \n",
       "2014-11-16 23:46:00                    ...                      \n",
       "2014-11-16 02:24:35                    ...                      \n",
       "2014-11-16 02:17:12                    ...                      \n",
       "\n",
       "                    Bridge Highway Name Bridge Highway Direction Road Ramp  \\\n",
       "Created Date                                                                 \n",
       "2014-11-16 23:46:00                 NaN                      NaN       NaN   \n",
       "2014-11-16 02:24:35                 NaN                      NaN       NaN   \n",
       "2014-11-16 02:17:12                 NaN                      NaN       NaN   \n",
       "\n",
       "                    Bridge Highway Segment Garage Lot Name Ferry Direction  \\\n",
       "Created Date                                                                 \n",
       "2014-11-16 23:46:00                    NaN             NaN             NaN   \n",
       "2014-11-16 02:24:35                    NaN             NaN             NaN   \n",
       "2014-11-16 02:17:12                    NaN             NaN             NaN   \n",
       "\n",
       "                    Ferry Terminal Name   Latitude  Longitude  \\\n",
       "Created Date                                                    \n",
       "2014-11-16 23:46:00                 NaN  40.719411 -73.808882   \n",
       "2014-11-16 02:24:35                 NaN  40.827862 -73.830641   \n",
       "2014-11-16 02:17:12                 NaN  40.691248 -73.984375   \n",
       "\n",
       "                                                     Location  \n",
       "Created Date                                                   \n",
       "2014-11-16 23:46:00  (40.719410639341916, -73.80888158860446)  \n",
       "2014-11-16 02:24:35  (40.827862046105416, -73.83064067165407)  \n",
       "2014-11-16 02:17:12   (40.69124772858873, -73.98437529459297)  \n",
       "\n",
       "[3 rows x 51 columns]"
      ]
     },
     "execution_count": 2,
     "metadata": {},
     "output_type": "execute_result"
    }
   ],
   "source": [
    "import pandas as pd\n",
    "df = pd.read_csv('311_150k.csv', parse_dates=True, index_col=1, low_memory=False)\n",
    "df.head(3)"
   ]
  },
  {
   "cell_type": "code",
   "execution_count": 5,
   "metadata": {
    "scrolled": true
   },
   "outputs": [
    {
     "name": "stdout",
     "output_type": "stream",
     "text": [
      "['Unique Key' 'Closed Date' 'Agency' 'Agency Name' 'Complaint Type'\n",
      " 'Descriptor' 'Location Type' 'Incident Zip' 'Incident Address'\n",
      " 'Street Name' 'Cross Street 1' 'Cross Street 2' 'Intersection Street 1'\n",
      " 'Intersection Street 2' 'Address Type' 'City' 'Landmark' 'Facility Type'\n",
      " 'Status' 'Due Date' 'Resolution Action Updated Date' 'Community Board'\n",
      " 'Borough' 'X Coordinate (State Plane)' 'Y Coordinate (State Plane)'\n",
      " 'Park Facility Name' 'Park Borough' 'School Name' 'School Number'\n",
      " 'School Region' 'School Code' 'School Phone Number' 'School Address'\n",
      " 'School City' 'School State' 'School Zip' 'School Not Found'\n",
      " 'School or Citywide Complaint' 'Vehicle Type' 'Taxi Company Borough'\n",
      " 'Taxi Pick Up Location' 'Bridge Highway Name' 'Bridge Highway Direction'\n",
      " 'Road Ramp' 'Bridge Highway Segment' 'Garage Lot Name' 'Ferry Direction'\n",
      " 'Ferry Terminal Name' 'Latitude' 'Longitude' 'Location']\n"
     ]
    }
   ],
   "source": [
    "print df.columns.values"
   ]
  },
  {
   "cell_type": "code",
   "execution_count": 3,
   "metadata": {
    "scrolled": true
   },
   "outputs": [
    {
     "data": {
      "text/html": [
       "<div>\n",
       "<style>\n",
       "    .dataframe thead tr:only-child th {\n",
       "        text-align: right;\n",
       "    }\n",
       "\n",
       "    .dataframe thead th {\n",
       "        text-align: left;\n",
       "    }\n",
       "\n",
       "    .dataframe tbody tr th {\n",
       "        vertical-align: top;\n",
       "    }\n",
       "</style>\n",
       "<table border=\"1\" class=\"dataframe\">\n",
       "  <thead>\n",
       "    <tr style=\"text-align: right;\">\n",
       "      <th></th>\n",
       "      <th>Unique Key</th>\n",
       "      <th>X Coordinate (State Plane)</th>\n",
       "      <th>Y Coordinate (State Plane)</th>\n",
       "      <th>School or Citywide Complaint</th>\n",
       "      <th>Latitude</th>\n",
       "      <th>Longitude</th>\n",
       "    </tr>\n",
       "  </thead>\n",
       "  <tbody>\n",
       "    <tr>\n",
       "      <th>count</th>\n",
       "      <td>1.499990e+05</td>\n",
       "      <td>1.358120e+05</td>\n",
       "      <td>135812.000000</td>\n",
       "      <td>0.0</td>\n",
       "      <td>135812.000000</td>\n",
       "      <td>135812.000000</td>\n",
       "    </tr>\n",
       "    <tr>\n",
       "      <th>mean</th>\n",
       "      <td>2.920132e+07</td>\n",
       "      <td>1.005251e+06</td>\n",
       "      <td>206905.776389</td>\n",
       "      <td>NaN</td>\n",
       "      <td>40.734535</td>\n",
       "      <td>-73.924189</td>\n",
       "    </tr>\n",
       "    <tr>\n",
       "      <th>std</th>\n",
       "      <td>5.839133e+04</td>\n",
       "      <td>2.112308e+04</td>\n",
       "      <td>31601.574047</td>\n",
       "      <td>NaN</td>\n",
       "      <td>0.086739</td>\n",
       "      <td>0.076183</td>\n",
       "    </tr>\n",
       "    <tr>\n",
       "      <th>min</th>\n",
       "      <td>2.909341e+07</td>\n",
       "      <td>9.134950e+05</td>\n",
       "      <td>121544.000000</td>\n",
       "      <td>NaN</td>\n",
       "      <td>40.500032</td>\n",
       "      <td>-74.254437</td>\n",
       "    </tr>\n",
       "    <tr>\n",
       "      <th>25%</th>\n",
       "      <td>2.915189e+07</td>\n",
       "      <td>9.937528e+05</td>\n",
       "      <td>182703.000000</td>\n",
       "      <td>NaN</td>\n",
       "      <td>40.668098</td>\n",
       "      <td>-73.965720</td>\n",
       "    </tr>\n",
       "    <tr>\n",
       "      <th>50%</th>\n",
       "      <td>2.920242e+07</td>\n",
       "      <td>1.003999e+06</td>\n",
       "      <td>204584.500000</td>\n",
       "      <td>NaN</td>\n",
       "      <td>40.728109</td>\n",
       "      <td>-73.928715</td>\n",
       "    </tr>\n",
       "    <tr>\n",
       "      <th>75%</th>\n",
       "      <td>2.925147e+07</td>\n",
       "      <td>1.016659e+06</td>\n",
       "      <td>236519.000000</td>\n",
       "      <td>NaN</td>\n",
       "      <td>40.815851</td>\n",
       "      <td>-73.883004</td>\n",
       "    </tr>\n",
       "    <tr>\n",
       "      <th>max</th>\n",
       "      <td>2.930123e+07</td>\n",
       "      <td>1.067151e+06</td>\n",
       "      <td>271409.000000</td>\n",
       "      <td>NaN</td>\n",
       "      <td>40.911587</td>\n",
       "      <td>-73.700837</td>\n",
       "    </tr>\n",
       "  </tbody>\n",
       "</table>\n",
       "</div>"
      ],
      "text/plain": [
       "         Unique Key  X Coordinate (State Plane)  Y Coordinate (State Plane)  \\\n",
       "count  1.499990e+05                1.358120e+05               135812.000000   \n",
       "mean   2.920132e+07                1.005251e+06               206905.776389   \n",
       "std    5.839133e+04                2.112308e+04                31601.574047   \n",
       "min    2.909341e+07                9.134950e+05               121544.000000   \n",
       "25%    2.915189e+07                9.937528e+05               182703.000000   \n",
       "50%    2.920242e+07                1.003999e+06               204584.500000   \n",
       "75%    2.925147e+07                1.016659e+06               236519.000000   \n",
       "max    2.930123e+07                1.067151e+06               271409.000000   \n",
       "\n",
       "       School or Citywide Complaint       Latitude      Longitude  \n",
       "count                           0.0  135812.000000  135812.000000  \n",
       "mean                            NaN      40.734535     -73.924189  \n",
       "std                             NaN       0.086739       0.076183  \n",
       "min                             NaN      40.500032     -74.254437  \n",
       "25%                             NaN      40.668098     -73.965720  \n",
       "50%                             NaN      40.728109     -73.928715  \n",
       "75%                             NaN      40.815851     -73.883004  \n",
       "max                             NaN      40.911587     -73.700837  "
      ]
     },
     "execution_count": 3,
     "metadata": {},
     "output_type": "execute_result"
    }
   ],
   "source": [
    "df.describe()"
   ]
  },
  {
   "cell_type": "code",
   "execution_count": 14,
   "metadata": {},
   "outputs": [
    {
     "name": "stdout",
     "output_type": "stream",
     "text": [
      "Created Date\n",
      "2014-11-16 23:46:00                       NaN\n",
      "2014-11-16 02:24:35                       NaN\n",
      "2014-11-16 02:17:12    11/16/2014 10:17:12 AM\n",
      "2014-11-16 02:15:13    11/16/2014 10:15:13 AM\n",
      "2014-11-16 02:14:01    11/16/2014 10:14:01 AM\n",
      "2014-11-16 02:11:41    11/16/2014 10:11:41 AM\n",
      "2014-11-16 02:08:55    11/16/2014 10:08:55 AM\n",
      "2014-11-16 02:07:33    11/16/2014 10:07:33 AM\n",
      "2014-11-16 02:06:37    11/16/2014 10:06:37 AM\n",
      "2014-11-16 02:05:28    11/16/2014 10:05:28 AM\n",
      "2014-11-16 02:04:47    11/16/2014 10:04:47 AM\n",
      "2014-11-16 02:03:36    11/16/2014 10:03:36 AM\n",
      "2014-11-16 02:03:14    11/16/2014 10:03:14 AM\n",
      "2014-11-16 02:01:52    11/16/2014 10:01:52 AM\n",
      "2014-11-16 02:01:07    11/16/2014 10:01:07 AM\n",
      "2014-11-16 01:57:33    11/16/2014 09:57:33 AM\n",
      "2014-11-16 01:54:25    11/16/2014 09:54:25 AM\n",
      "2014-11-16 01:53:36    11/16/2014 09:53:36 AM\n",
      "2014-11-16 01:52:58    11/16/2014 09:52:58 AM\n",
      "2014-11-16 01:52:12    11/16/2014 09:52:12 AM\n",
      "2014-11-16 01:50:20    11/16/2014 09:50:20 AM\n",
      "2014-11-16 01:48:10                       NaN\n",
      "2014-11-16 01:47:29    11/16/2014 09:47:29 AM\n",
      "2014-11-16 01:47:24                       NaN\n",
      "2014-11-16 01:46:59    11/16/2014 09:46:59 AM\n",
      "2014-11-16 01:46:36    11/16/2014 09:46:36 AM\n",
      "2014-11-16 01:46:30    11/16/2014 09:46:30 AM\n",
      "2014-11-16 01:45:58    11/16/2014 09:45:58 AM\n",
      "2014-11-16 01:45:11    11/30/2014 01:45:11 AM\n",
      "2014-11-16 01:44:52    11/16/2014 09:44:52 AM\n",
      "                                ...          \n",
      "2014-10-19 00:00:00                       NaN\n",
      "2014-10-19 00:00:00                       NaN\n",
      "2014-10-19 00:00:00                       NaN\n",
      "2014-10-19 00:00:00                       NaN\n",
      "2014-10-19 00:00:00                       NaN\n",
      "2014-10-19 00:00:00                       NaN\n",
      "2014-10-19 00:00:00                       NaN\n",
      "2014-10-19 00:00:00                       NaN\n",
      "2014-10-19 00:00:00                       NaN\n",
      "2014-10-19 00:00:00                       NaN\n",
      "2014-10-19 00:00:00                       NaN\n",
      "2014-10-19 00:00:00                       NaN\n",
      "2014-10-19 00:00:00                       NaN\n",
      "2014-10-19 00:00:00                       NaN\n",
      "2014-10-19 00:00:00                       NaN\n",
      "2014-10-19 00:00:00                       NaN\n",
      "2014-10-19 00:00:00                       NaN\n",
      "2014-10-19 00:00:00                       NaN\n",
      "2014-10-19 00:00:00                       NaN\n",
      "2014-10-19 00:00:00                       NaN\n",
      "2014-10-19 00:00:00                       NaN\n",
      "2014-10-19 00:00:00                       NaN\n",
      "2014-10-19 00:00:00                       NaN\n",
      "2014-10-19 00:00:00                       NaN\n",
      "2014-10-19 00:00:00                       NaN\n",
      "2014-10-19 00:00:00                       NaN\n",
      "2014-10-19 00:00:00                       NaN\n",
      "2014-10-19 00:00:00                       NaN\n",
      "2014-10-19 00:00:00                       NaN\n",
      "2014-10-19 00:00:00                       NaN\n",
      "Name: Due Date, Length: 149999, dtype: object\n"
     ]
    }
   ],
   "source": [
    "print df[\"Due Date\"]\n"
   ]
  },
  {
   "cell_type": "markdown",
   "metadata": {},
   "source": [
    "#### 1. What are the goals of the exploratory analysis? "
   ]
  },
  {
   "cell_type": "markdown",
   "metadata": {
    "collapsed": true
   },
   "source": [
    "Answer: It is used to analyse the data we have in a certain dataset, which is the NY complaints data set. We study the factors (columns) in the data to understand the correlations between them which can then build a model/create charts to predict a certain scenario. e.g. use the location to predict the type of complaint type"
   ]
  },
  {
   "cell_type": "markdown",
   "metadata": {},
   "source": [
    "#### 2a. What are the assumptions of the distribution of data? "
   ]
  },
  {
   "cell_type": "raw",
   "metadata": {},
   "source": [
    "Continuous"
   ]
  },
  {
   "cell_type": "markdown",
   "metadata": {},
   "source": [
    "Answer:"
   ]
  },
  {
   "cell_type": "markdown",
   "metadata": {},
   "source": [
    "#### 2b. How will determine the distribution of your data? "
   ]
  },
  {
   "cell_type": "markdown",
   "metadata": {
    "collapsed": true
   },
   "source": [
    "Answer: We can check the data skewness and kurtosis or we can plot the histogram if we simply want to understand the important features of the distribtution."
   ]
  },
  {
   "cell_type": "markdown",
   "metadata": {},
   "source": [
    "#### 3a. How might outliers impact your analysis? "
   ]
  },
  {
   "cell_type": "markdown",
   "metadata": {
    "collapsed": true
   },
   "source": [
    "Answer: It will make your dataset skewed and increase the varience & standard deviation."
   ]
  },
  {
   "cell_type": "markdown",
   "metadata": {},
   "source": [
    "#### 3b. How will you test for outliers? "
   ]
  },
  {
   "cell_type": "markdown",
   "metadata": {},
   "source": [
    "Answer: Check skewness of the data. e.g. using boxplot and histogram can give us the approximate mormality of the data point."
   ]
  },
  {
   "cell_type": "markdown",
   "metadata": {},
   "source": [
    "#### 4a. What is collinearity? "
   ]
  },
  {
   "cell_type": "markdown",
   "metadata": {
    "collapsed": true
   },
   "source": [
    "Answer: The degree that how the data points fit the line that we plot on a chart."
   ]
  },
  {
   "cell_type": "markdown",
   "metadata": {},
   "source": [
    "#### 4b. How will you test for collinearity? "
   ]
  },
  {
   "cell_type": "markdown",
   "metadata": {},
   "source": [
    "Answer: If we use linear regression, the collinearity can be tested by studying the R-sq. The higher the R-sq, the better the line fits the data points."
   ]
  },
  {
   "cell_type": "markdown",
   "metadata": {},
   "source": [
    "#### 5. What is your exploratory analysis plan?\n",
    "Using the above information, write an exploratory analysis plan that would allow you or a colleague to reproduce your analysis one year from now. "
   ]
  },
  {
   "cell_type": "markdown",
   "metadata": {},
   "source": [
    "Answer: Using the NY complaints data set, which data was collected in 2014. By applying a Logistic Regression model, we are studying how well our predictors ('City' 'Landmark' 'School Region' Vehicle Type' 'Bridge Highway Segment' 'Garage Lot Name' 'Ferry Direction'\n",
    " 'Latitude' 'Longitude' and 'Location' ) can help estimating our complaint type. "
   ]
  },
  {
   "cell_type": "markdown",
   "metadata": {},
   "source": [
    "## Bonus Questions:\n",
    "1. Outline your analysis method for predicting your outcome\n",
    "2. Write an alternative problem statement for your dataset\n",
    "3. Articulate the assumptions and risks of the alternative model"
   ]
  }
 ],
 "metadata": {
  "anaconda-cloud": {},
  "kernelspec": {
   "display_name": "Python 2",
   "language": "python",
   "name": "python2"
  },
  "language_info": {
   "codemirror_mode": {
    "name": "ipython",
    "version": 2
   },
   "file_extension": ".py",
   "mimetype": "text/x-python",
   "name": "python",
   "nbconvert_exporter": "python",
   "pygments_lexer": "ipython2",
   "version": "2.7.13"
  }
 },
 "nbformat": 4,
 "nbformat_minor": 1
}
